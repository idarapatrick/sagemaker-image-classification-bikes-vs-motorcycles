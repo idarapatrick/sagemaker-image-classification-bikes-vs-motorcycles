{
 "cells": [
  {
   "cell_type": "markdown",
   "metadata": {},
   "source": [
    "# Deploy and monitor a machine learning workflow for Image Classification"
   ]
  },
  {
   "cell_type": "markdown",
   "metadata": {},
   "source": [
    "## Setting up this notebook\n",
    "\n",
    "Notes about the instance size and kernel setup: this notebook has been tested on\n",
    "\n",
    "1. The `Python 3 (Data Science)` kernel\n",
    "2. The `ml.t3.medium` Sagemaker notebook instance\n",
    "\n",
    "## Data Staging\n",
    "\n",
    "We'll use a sample dataset called CIFAR to simulate the challenges Scones Unlimited are facing in Image Classification. In order to start working with CIFAR we'll need to:\n",
    "\n",
    "1. Extract the data from a hosting service\n",
    "2. Transform it into a usable shape and format\n",
    "3. Load it into a production system\n",
    "\n",
    "In other words, we're going to do some simple ETL!\n",
    "\n",
    "### 1. Extract the data from the hosting service\n",
    "\n",
    "In the cell below, define a function `extract_cifar_data` that extracts python version of the CIFAR-100 dataset. The CIFAR dataaset is open source and generously hosted by the University of Toronto at: https://www.cs.toronto.edu/~kriz/cifar-100-python.tar.gz "
   ]
  },
  {
   "cell_type": "code",
   "execution_count": 1,
   "metadata": {
    "execution": {
     "iopub.execute_input": "2025-10-04T08:11:40.450153Z",
     "iopub.status.busy": "2025-10-04T08:11:40.449863Z",
     "iopub.status.idle": "2025-10-04T08:11:40.605253Z",
     "shell.execute_reply": "2025-10-04T08:11:40.604536Z",
     "shell.execute_reply.started": "2025-10-04T08:11:40.450123Z"
    }
   },
   "outputs": [],
   "source": [
    "import requests\n",
    "\n",
    "def extract_cifar_data(url, filename=\"cifar.tar.gz\"):\n",
    "    \"\"\"A function for extracting the CIFAR-100 dataset and storing it as a gzipped file\n",
    "    \n",
    "    Arguments:\n",
    "    url      -- the URL where the dataset is hosted\n",
    "    filename -- the full path where the dataset will be written\n",
    "    \n",
    "    \"\"\"\n",
    "    \n",
    "    # Todo: request the data from the data url\n",
    "    # Hint: use `requests.get` method\n",
    "    r = requests.get(url)\n",
    "    with open(filename, \"wb\") as file_context:\n",
    "        file_context.write(r.content)\n",
    "    return"
   ]
  },
  {
   "cell_type": "markdown",
   "metadata": {},
   "source": [
    "Let's test it out! Run the following cell and check whether a new file `cifar.tar.gz` is created in the file explorer."
   ]
  },
  {
   "cell_type": "code",
   "execution_count": 2,
   "metadata": {
    "execution": {
     "iopub.execute_input": "2025-10-04T08:11:43.602528Z",
     "iopub.status.busy": "2025-10-04T08:11:43.602257Z",
     "iopub.status.idle": "2025-10-04T08:11:47.715081Z",
     "shell.execute_reply": "2025-10-04T08:11:47.714351Z",
     "shell.execute_reply.started": "2025-10-04T08:11:43.602502Z"
    }
   },
   "outputs": [],
   "source": [
    "extract_cifar_data(\"https://www.cs.toronto.edu/~kriz/cifar-100-python.tar.gz\")     "
   ]
  },
  {
   "cell_type": "markdown",
   "metadata": {},
   "source": [
    "### 2. Transform the data into a usable shape and format\n",
    "\n",
    "Clearly, distributing the data as a gzipped archive makes sense for the hosting service! It saves on bandwidth, storage, and it's a widely-used archive format. In fact, it's so widely used that the Python community ships a utility for working with them, `tarfile`, as part of its Standard Library. Execute the following cell to decompress your extracted dataset:"
   ]
  },
  {
   "cell_type": "code",
   "execution_count": 3,
   "metadata": {
    "execution": {
     "iopub.execute_input": "2025-10-04T08:11:49.884181Z",
     "iopub.status.busy": "2025-10-04T08:11:49.883919Z",
     "iopub.status.idle": "2025-10-04T08:11:51.225147Z",
     "shell.execute_reply": "2025-10-04T08:11:51.223615Z",
     "shell.execute_reply.started": "2025-10-04T08:11:49.884161Z"
    }
   },
   "outputs": [],
   "source": [
    "import tarfile\n",
    "with tarfile.open(\"cifar.tar.gz\", \"r:gz\") as tar:\n",
    "    tar.extractall(filter='data')"
   ]
  },
  {
   "cell_type": "markdown",
   "metadata": {},
   "source": [
    "A new folder `cifar-100-python` should be created, containing `meta`, `test`, and `train` files. These files are `pickles` and the [CIFAR homepage](https://www.cs.toronto.edu/~kriz/cifar.html) provides a simple script that can be used to load them. We've adapted the script below for you to run:"
   ]
  },
  {
   "cell_type": "code",
   "execution_count": 4,
   "metadata": {
    "execution": {
     "iopub.execute_input": "2025-10-04T08:12:02.222837Z",
     "iopub.status.busy": "2025-10-04T08:12:02.222551Z",
     "iopub.status.idle": "2025-10-04T08:12:02.753387Z",
     "shell.execute_reply": "2025-10-04T08:12:02.752043Z",
     "shell.execute_reply.started": "2025-10-04T08:12:02.222815Z"
    }
   },
   "outputs": [],
   "source": [
    "import pickle\n",
    "\n",
    "with open(\"./cifar-100-python/meta\", \"rb\") as f:\n",
    "    dataset_meta = pickle.load(f, encoding='bytes')\n",
    "\n",
    "with open(\"./cifar-100-python/test\", \"rb\") as f:\n",
    "    dataset_test = pickle.load(f, encoding='bytes')\n",
    "\n",
    "with open(\"./cifar-100-python/train\", \"rb\") as f:\n",
    "    dataset_train = pickle.load(f, encoding='bytes')"
   ]
  },
  {
   "cell_type": "code",
   "execution_count": 5,
   "metadata": {
    "execution": {
     "iopub.execute_input": "2025-10-04T08:12:06.672132Z",
     "iopub.status.busy": "2025-10-04T08:12:06.671799Z",
     "iopub.status.idle": "2025-10-04T08:12:06.678343Z",
     "shell.execute_reply": "2025-10-04T08:12:06.677814Z",
     "shell.execute_reply.started": "2025-10-04T08:12:06.672111Z"
    }
   },
   "outputs": [
    {
     "data": {
      "text/plain": [
       "dict_keys([b'filenames', b'batch_label', b'fine_labels', b'coarse_labels', b'data'])"
      ]
     },
     "execution_count": 5,
     "metadata": {},
     "output_type": "execute_result"
    }
   ],
   "source": [
    "# Feel free to explore the datasets\n",
    "\n",
    "dataset_train.keys()"
   ]
  },
  {
   "cell_type": "markdown",
   "metadata": {},
   "source": [
    "As documented on the homepage, `b'data'` contains rows of 3073 unsigned integers, representing three channels (red, green, and blue) for one 32x32 pixel image per row."
   ]
  },
  {
   "cell_type": "code",
   "execution_count": 6,
   "metadata": {
    "execution": {
     "iopub.execute_input": "2025-10-04T08:12:08.247399Z",
     "iopub.status.busy": "2025-10-04T08:12:08.247137Z",
     "iopub.status.idle": "2025-10-04T08:12:08.251676Z",
     "shell.execute_reply": "2025-10-04T08:12:08.250909Z",
     "shell.execute_reply.started": "2025-10-04T08:12:08.247380Z"
    }
   },
   "outputs": [
    {
     "data": {
      "text/plain": [
       "3072"
      ]
     },
     "execution_count": 6,
     "metadata": {},
     "output_type": "execute_result"
    }
   ],
   "source": [
    "32*32*3"
   ]
  },
  {
   "cell_type": "markdown",
   "metadata": {},
   "source": [
    "For a simple gut-check, let's transform one of our images. Each 1024 items in a row is a channel (red, green, then blue). Each 32 items in the channel are a row in the 32x32 image. Using python, we can stack these channels into a 32x32x3 array, and save it as a PNG file:"
   ]
  },
  {
   "cell_type": "code",
   "execution_count": 7,
   "metadata": {
    "execution": {
     "iopub.execute_input": "2025-10-04T08:12:14.066700Z",
     "iopub.status.busy": "2025-10-04T08:12:14.066439Z",
     "iopub.status.idle": "2025-10-04T08:12:14.070573Z",
     "shell.execute_reply": "2025-10-04T08:12:14.069755Z",
     "shell.execute_reply.started": "2025-10-04T08:12:14.066679Z"
    }
   },
   "outputs": [],
   "source": [
    "import numpy as np\n",
    "\n",
    "# Each 1024 in a row is a channel (red, green, then blue)\n",
    "row = dataset_train[b'data'][0]\n",
    "red, green, blue = row[0:1024], row[1024:2048], row[2048:]\n",
    "\n",
    "# Each 32 items in the channel are a row in the 32x32 image\n",
    "red = red.reshape(32,32)\n",
    "green = green.reshape(32,32)\n",
    "blue = blue.reshape(32,32)\n",
    "\n",
    "# Combine the channels into a 32x32x3 image!\n",
    "combined = np.dstack((red,green,blue))"
   ]
  },
  {
   "cell_type": "markdown",
   "metadata": {},
   "source": [
    "For a more concise version, consider the following:"
   ]
  },
  {
   "cell_type": "code",
   "execution_count": 8,
   "metadata": {
    "execution": {
     "iopub.execute_input": "2025-10-04T08:12:16.921767Z",
     "iopub.status.busy": "2025-10-04T08:12:16.921490Z",
     "iopub.status.idle": "2025-10-04T08:12:16.925220Z",
     "shell.execute_reply": "2025-10-04T08:12:16.924334Z",
     "shell.execute_reply.started": "2025-10-04T08:12:16.921745Z"
    }
   },
   "outputs": [],
   "source": [
    "# All in one:\n",
    "test_image = np.dstack((\n",
    "    row[0:1024].reshape(32,32),\n",
    "    row[1024:2048].reshape(32,32),\n",
    "    row[2048:].reshape(32,32)\n",
    "))"
   ]
  },
  {
   "cell_type": "code",
   "execution_count": 9,
   "metadata": {
    "execution": {
     "iopub.execute_input": "2025-10-04T08:12:20.348506Z",
     "iopub.status.busy": "2025-10-04T08:12:20.348208Z",
     "iopub.status.idle": "2025-10-04T08:12:21.159776Z",
     "shell.execute_reply": "2025-10-04T08:12:21.159094Z",
     "shell.execute_reply.started": "2025-10-04T08:12:20.348483Z"
    }
   },
   "outputs": [
    {
     "data": {
      "image/png": "[encoded data removed]",
      "text/plain": [
       "<Figure size 640x480 with 1 Axes>"
      ]
     },
     "metadata": {},
     "output_type": "display_data"
    }
   ],
   "source": [
    "import matplotlib.pyplot as plt\n",
    "plt.imshow(test_image);"
   ]
  },
  {
   "cell_type": "markdown",
   "metadata": {},
   "source": [
    "Looks like a cow! Let's check the label. `dataset_meta` contains label names in order, and `dataset_train` has a list of labels for each row."
   ]
  },
  {
   "cell_type": "code",
   "execution_count": 10,
   "metadata": {
    "execution": {
     "iopub.execute_input": "2025-10-04T08:12:25.675388Z",
     "iopub.status.busy": "2025-10-04T08:12:25.675026Z",
     "iopub.status.idle": "2025-10-04T08:12:25.679929Z",
     "shell.execute_reply": "2025-10-04T08:12:25.679058Z",
     "shell.execute_reply.started": "2025-10-04T08:12:25.675363Z"
    }
   },
   "outputs": [
    {
     "data": {
      "text/plain": [
       "19"
      ]
     },
     "execution_count": 10,
     "metadata": {},
     "output_type": "execute_result"
    }
   ],
   "source": [
    "dataset_train[b'fine_labels'][0]"
   ]
  },
  {
   "cell_type": "markdown",
   "metadata": {},
   "source": [
    "Our image has a label of `19`, so let's see what the 19th item is in the list of label names."
   ]
  },
  {
   "cell_type": "code",
   "execution_count": 11,
   "metadata": {
    "execution": {
     "iopub.execute_input": "2025-10-04T08:12:27.811438Z",
     "iopub.status.busy": "2025-10-04T08:12:27.811177Z",
     "iopub.status.idle": "2025-10-04T08:12:27.815019Z",
     "shell.execute_reply": "2025-10-04T08:12:27.814180Z",
     "shell.execute_reply.started": "2025-10-04T08:12:27.811419Z"
    }
   },
   "outputs": [
    {
     "name": "stdout",
     "output_type": "stream",
     "text": [
      "b'cattle'\n"
     ]
    }
   ],
   "source": [
    "print(dataset_meta[b'fine_label_names'][19])"
   ]
  },
  {
   "cell_type": "markdown",
   "metadata": {},
   "source": [
    "Ok! 'cattle' sounds about right. By the way, using the previous two lines we can do:"
   ]
  },
  {
   "cell_type": "code",
   "execution_count": 12,
   "metadata": {
    "execution": {
     "iopub.execute_input": "2025-10-04T08:12:29.416359Z",
     "iopub.status.busy": "2025-10-04T08:12:29.416100Z",
     "iopub.status.idle": "2025-10-04T08:12:29.419497Z",
     "shell.execute_reply": "2025-10-04T08:12:29.418949Z",
     "shell.execute_reply.started": "2025-10-04T08:12:29.416339Z"
    }
   },
   "outputs": [
    {
     "name": "stdout",
     "output_type": "stream",
     "text": [
      "b'cattle'\n"
     ]
    }
   ],
   "source": [
    "n = 0\n",
    "print(dataset_meta[b'fine_label_names'][dataset_train[b'fine_labels'][n]])"
   ]
  },
  {
   "cell_type": "markdown",
   "metadata": {},
   "source": [
    "Now we know how to check labels, is there a way that we can also check file names? `dataset_train` also contains a `b'filenames'` key. Let's see what we have here:"
   ]
  },
  {
   "cell_type": "code",
   "execution_count": 13,
   "metadata": {
    "execution": {
     "iopub.execute_input": "2025-10-04T08:12:31.484148Z",
     "iopub.status.busy": "2025-10-04T08:12:31.483896Z",
     "iopub.status.idle": "2025-10-04T08:12:31.487313Z",
     "shell.execute_reply": "2025-10-04T08:12:31.486668Z",
     "shell.execute_reply.started": "2025-10-04T08:12:31.484130Z"
    }
   },
   "outputs": [
    {
     "name": "stdout",
     "output_type": "stream",
     "text": [
      "b'bos_taurus_s_000507.png'\n"
     ]
    }
   ],
   "source": [
    "print(dataset_train[b'filenames'][0])"
   ]
  },
  {
   "cell_type": "markdown",
   "metadata": {},
   "source": [
    "\"Taurus\" is the name of a subspecies of cattle, so this looks like a pretty reasonable filename. To save an image we can also do:"
   ]
  },
  {
   "cell_type": "code",
   "execution_count": 14,
   "metadata": {
    "execution": {
     "iopub.execute_input": "2025-10-04T08:12:33.886935Z",
     "iopub.status.busy": "2025-10-04T08:12:33.886663Z",
     "iopub.status.idle": "2025-10-04T08:12:33.891130Z",
     "shell.execute_reply": "2025-10-04T08:12:33.890287Z",
     "shell.execute_reply.started": "2025-10-04T08:12:33.886915Z"
    }
   },
   "outputs": [],
   "source": [
    "plt.imsave(\"file.png\", test_image)"
   ]
  },
  {
   "cell_type": "markdown",
   "metadata": {},
   "source": [
    "Your new PNG file should now appear in the file explorer -- go ahead and pop it open to see!\n",
    "\n",
    "Now that you know how to reshape the images, save them as files, and capture their filenames and labels, let's just capture all the bicycles and motorcycles and save them. Scones Unlimited can use a model that tells these apart to route delivery drivers automatically.\n",
    "\n",
    "In the following cell, identify the label numbers for Bicycles and Motorcycles:"
   ]
  },
  {
   "cell_type": "code",
   "execution_count": 15,
   "metadata": {
    "execution": {
     "iopub.execute_input": "2025-10-04T08:12:36.555154Z",
     "iopub.status.busy": "2025-10-04T08:12:36.554887Z",
     "iopub.status.idle": "2025-10-04T08:12:36.993263Z",
     "shell.execute_reply": "2025-10-04T08:12:36.992506Z",
     "shell.execute_reply.started": "2025-10-04T08:12:36.555133Z"
    }
   },
   "outputs": [
    {
     "name": "stdout",
     "output_type": "stream",
     "text": [
      "Fine labels: [b'apple', b'aquarium_fish', b'baby', b'bear', b'beaver', b'bed', b'bee', b'beetle', b'bicycle', b'bottle', b'bowl', b'boy', b'bridge', b'bus', b'butterfly', b'camel', b'can', b'castle', b'caterpillar', b'cattle', b'chair', b'chimpanzee', b'clock', b'cloud', b'cockroach', b'couch', b'crab', b'crocodile', b'cup', b'dinosaur', b'dolphin', b'elephant', b'flatfish', b'forest', b'fox', b'girl', b'hamster', b'house', b'kangaroo', b'keyboard', b'lamp', b'lawn_mower', b'leopard', b'lion', b'lizard', b'lobster', b'man', b'maple_tree', b'motorcycle', b'mountain', b'mouse', b'mushroom', b'oak_tree', b'orange', b'orchid', b'otter', b'palm_tree', b'pear', b'pickup_truck', b'pine_tree', b'plain', b'plate', b'poppy', b'porcupine', b'possum', b'rabbit', b'raccoon', b'ray', b'road', b'rocket', b'rose', b'sea', b'seal', b'shark', b'shrew', b'skunk', b'skyscraper', b'snail', b'snake', b'spider', b'squirrel', b'streetcar', b'sunflower', b'sweet_pepper', b'table', b'tank', b'telephone', b'television', b'tiger', b'tractor', b'train', b'trout', b'tulip', b'turtle', b'wardrobe', b'whale', b'willow_tree', b'wolf', b'woman', b'worm']\n",
      "Bicycle label: 8\n",
      "Motorcycle label: 48\n"
     ]
    }
   ],
   "source": [
    "import pandas as pd\n",
    "\n",
    "# Check the fine_label_names in meta to find bicycle and motorcycle\n",
    "print(\"Fine labels:\", dataset_meta[b'fine_label_names'])\n",
    "\n",
    "# Find the index of bicycle and motorcycle\n",
    "bicycle_label = dataset_meta[b'fine_label_names'].index(b'bicycle')\n",
    "motorcycle_label = dataset_meta[b'fine_label_names'].index(b'motorcycle')\n",
    "\n",
    "print(f\"Bicycle label: {bicycle_label}\")\n",
    "print(f\"Motorcycle label: {motorcycle_label}\")\n"
   ]
  },
  {
   "cell_type": "markdown",
   "metadata": {},
   "source": [
    "Good job! We only need objects with label 8 and 48 -- this drastically simplifies our handling of the data! Below we construct a dataframe for you, and you can safely drop the rows that don't contain observations about bicycles and motorcycles. Fill in the missing lines below to drop all other rows:"
   ]
  },
  {
   "cell_type": "code",
   "execution_count": 16,
   "metadata": {
    "execution": {
     "iopub.execute_input": "2025-10-04T08:12:40.090085Z",
     "iopub.status.busy": "2025-10-04T08:12:40.089699Z",
     "iopub.status.idle": "2025-10-04T08:12:40.131557Z",
     "shell.execute_reply": "2025-10-04T08:12:40.130801Z",
     "shell.execute_reply.started": "2025-10-04T08:12:40.090063Z"
    }
   },
   "outputs": [],
   "source": [
    "#Construct the dataframe\n",
    "df_train = pd.DataFrame({\n",
    "    \"filenames\": dataset_train[b'filenames'],\n",
    "    \"labels\": dataset_train[b'fine_labels'],\n",
    "    \"row\": range(len(dataset_train[b'filenames']))\n",
    "})\n",
    "# Drop all rows from df_train where label is not 8 or 48\n",
    "df_train = df_train[df_train['labels'].isin([8, 48])]\n",
    "\n",
    "# Decode df_train.filenames so they are regular strings\n",
    "df_train[\"filenames\"] = df_train[\"filenames\"].apply(\n",
    "    lambda x: x.decode(\"utf-8\")\n",
    ")\n",
    "\n",
    "df_test = pd.DataFrame({\n",
    "    \"filenames\": dataset_test[b'filenames'],\n",
    "    \"labels\": dataset_test[b'fine_labels'],\n",
    "    \"row\": range(len(dataset_test[b'filenames']))\n",
    "})\n",
    "# Drop all rows from df_test where label is not 8 or 48\n",
    "df_test = df_test[df_test['labels'].isin([8, 48])]\n",
    "\n",
    "# Decode df_test.filenames so they are regular strings\n",
    "df_test[\"filenames\"] = df_test[\"filenames\"].apply(\n",
    "    lambda x: x.decode(\"utf-8\")\n",
    ")"
   ]
  },
  {
   "cell_type": "markdown",
   "metadata": {},
   "source": [
    "Now that the data is filtered for just our classes, we can save all our images."
   ]
  },
  {
   "cell_type": "code",
   "execution_count": 17,
   "metadata": {
    "execution": {
     "iopub.execute_input": "2025-10-04T08:12:45.130878Z",
     "iopub.status.busy": "2025-10-04T08:12:45.130599Z",
     "iopub.status.idle": "2025-10-04T08:12:45.135383Z",
     "shell.execute_reply": "2025-10-04T08:12:45.134241Z",
     "shell.execute_reply.started": "2025-10-04T08:12:45.130858Z"
    }
   },
   "outputs": [],
   "source": [
    "import os\n",
    "os.makedirs('./train', exist_ok=True)\n",
    "os.makedirs('./test', exist_ok=True)"
   ]
  },
  {
   "cell_type": "markdown",
   "metadata": {},
   "source": [
    "In the previous sections we introduced you to several key snippets of code:\n",
    "\n",
    "1. Grabbing the image data:\n",
    "\n",
    "```python\n",
    "dataset_train[b'data'][0]\n",
    "```\n",
    "\n",
    "2. A simple idiom for stacking the image data into the right shape\n",
    "\n",
    "```python\n",
    "import numpy as np\n",
    "np.dstack((\n",
    "    row[0:1024].reshape(32,32),\n",
    "    row[1024:2048].reshape(32,32),\n",
    "    row[2048:].reshape(32,32)\n",
    "))\n",
    "```\n",
    "\n",
    "3. A simple `matplotlib` utility for saving images\n",
    "\n",
    "```python\n",
    "plt.imsave(path+row['filenames'], target)\n",
    "```\n",
    "\n",
    "Compose these together into a function that saves all the images into the `./test` and `./train` directories. Use the comments in the body of the `save_images` function below to guide your construction of the function:\n"
   ]
  },
  {
   "cell_type": "code",
   "execution_count": 18,
   "metadata": {
    "execution": {
     "iopub.execute_input": "2025-10-04T08:12:49.354850Z",
     "iopub.status.busy": "2025-10-04T08:12:49.354580Z",
     "iopub.status.idle": "2025-10-04T08:12:50.122976Z",
     "shell.execute_reply": "2025-10-04T08:12:50.122339Z",
     "shell.execute_reply.started": "2025-10-04T08:12:49.354831Z"
    }
   },
   "outputs": [
    {
     "data": {
      "text/plain": [
       "27           safety_bike_s_000390.png\n",
       "28                  bike_s_000658.png\n",
       "116           velocipede_s_001744.png\n",
       "161                 bike_s_000643.png\n",
       "319     ordinary_bicycle_s_000437.png\n",
       "                    ...              \n",
       "9654          trail_bike_s_000073.png\n",
       "9692                bike_s_000941.png\n",
       "9833          motorcycle_s_000141.png\n",
       "9928    ordinary_bicycle_s_000105.png\n",
       "9939             bicycle_s_001218.png\n",
       "Length: 200, dtype: object"
      ]
     },
     "execution_count": 18,
     "metadata": {},
     "output_type": "execute_result"
    }
   ],
   "source": [
    "def save_images(row, dataset, path):\n",
    "    # Grab the image data in row-major form\n",
    "    img = dataset[b'data'][row['row']]\n",
    "    \n",
    "    # Consolidated stacking/reshaping from earlier\n",
    "    target = np.dstack((\n",
    "        img[0:1024].reshape(32,32),\n",
    "        img[1024:2048].reshape(32,32),\n",
    "        img[2048:].reshape(32,32)\n",
    "    ))\n",
    "    \n",
    "    # Save the image\n",
    "    plt.imsave(path + row['filenames'], target)\n",
    "    \n",
    "    # Return any signal data you want for debugging\n",
    "    return row['filenames']\n",
    "\n",
    "# Save ALL images using the save_images function\n",
    "df_train.apply(lambda row: save_images(row, dataset_train, './train/'), axis=1)\n",
    "df_test.apply(lambda row: save_images(row, dataset_test, './test/'), axis=1)"
   ]
  },
  {
   "cell_type": "markdown",
   "metadata": {},
   "source": [
    "### 3. Load the data\n",
    "\n",
    "Now we can load the data into S3.\n",
    "\n",
    "Using the sagemaker SDK grab the current region, execution role, and bucket."
   ]
  },
  {
   "cell_type": "code",
   "execution_count": 19,
   "metadata": {
    "execution": {
     "iopub.execute_input": "2025-10-04T08:12:54.406199Z",
     "iopub.status.busy": "2025-10-04T08:12:54.405935Z",
     "iopub.status.idle": "2025-10-04T08:12:57.045585Z",
     "shell.execute_reply": "2025-10-04T08:12:57.044785Z",
     "shell.execute_reply.started": "2025-10-04T08:12:54.406179Z"
    }
   },
   "outputs": [
    {
     "name": "stdout",
     "output_type": "stream",
     "text": [
      "sagemaker.config INFO - Not applying SDK defaults from location: /etc/xdg/sagemaker/config.yaml\n",
      "sagemaker.config INFO - Not applying SDK defaults from location: /home/sagemaker-user/.config/sagemaker/config.yaml\n",
      "Default Bucket: sagemaker-us-east-1-148908537034\n",
      "AWS Region: us-east-1\n",
      "RoleArn: arn:aws:iam::148908537034:role/service-role/AmazonSageMaker-ExecutionRole-20251003T235239\n"
     ]
    }
   ],
   "source": [
    "import sagemaker\n",
    "\n",
    "# Get the default SageMaker session and bucket\n",
    "sess = sagemaker.Session()\n",
    "bucket = sess.default_bucket()\n",
    "print(\"Default Bucket: {}\".format(bucket))\n",
    "\n",
    "region = sess.boto_region_name\n",
    "print(\"AWS Region: {}\".format(region))\n",
    "\n",
    "role = sagemaker.get_execution_role()\n",
    "print(\"RoleArn: {}\".format(role))"
   ]
  },
  {
   "cell_type": "markdown",
   "metadata": {},
   "source": [
    "With this data we can easily sync your data up into S3!"
   ]
  },
  {
   "cell_type": "code",
   "execution_count": null,
   "metadata": {},
   "outputs": [],
   "source": [
    "import os\n",
    "from IPython.display import clear_output\n",
    "\n",
    "os.environ[\"DEFAULT_S3_BUCKET\"] = bucket\n",
    "!aws s3 sync ./train s3://${DEFAULT_S3_BUCKET}/train/\n",
    "!aws s3 sync ./test s3://${DEFAULT_S3_BUCKET}/test/\n",
    "\n",
    "result = [i for i in range(1000000)]\n",
    "\n",
    "# Clear the output but keep the execution results in memory\n",
    "clear_output(wait=True)\n"
   ]
  },
  {
   "cell_type": "markdown",
   "metadata": {},
   "source": [
    "And that's it! You can check the bucket and verify that the items were uploaded.\n",
    "\n",
    "## Model Training\n",
    "\n",
    "For Image Classification, Sagemaker [also expects metadata](https://docs.aws.amazon.com/sagemaker/latest/dg/image-classification.html) e.g. in the form of TSV files with labels and filepaths. We can generate these using our Pandas DataFrames from earlier:"
   ]
  },
  {
   "cell_type": "code",
   "execution_count": 21,
   "metadata": {
    "execution": {
     "iopub.execute_input": "2025-10-04T08:13:40.919308Z",
     "iopub.status.busy": "2025-10-04T08:13:40.918991Z",
     "iopub.status.idle": "2025-10-04T08:13:40.949331Z",
     "shell.execute_reply": "2025-10-04T08:13:40.948433Z",
     "shell.execute_reply.started": "2025-10-04T08:13:40.919285Z"
    }
   },
   "outputs": [],
   "source": [
    "def to_metadata_file(df, prefix):\n",
    "    df[\"s3_path\"] = df[\"filenames\"]\n",
    "    df[\"labels\"] = df[\"labels\"].apply(lambda x: 0 if x==8 else 1)\n",
    "    return df[[\"row\", \"labels\", \"s3_path\"]].to_csv(\n",
    "        f\"{prefix}.lst\", sep=\"\\t\", index=False, header=False\n",
    "    )\n",
    "    \n",
    "to_metadata_file(df_train.copy(), \"train\")\n",
    "to_metadata_file(df_test.copy(), \"test\")"
   ]
  },
  {
   "cell_type": "markdown",
   "metadata": {},
   "source": [
    "We can also upload our manifest files:"
   ]
  },
  {
   "cell_type": "code",
   "execution_count": 22,
   "metadata": {
    "execution": {
     "iopub.execute_input": "2025-10-04T08:13:49.199891Z",
     "iopub.status.busy": "2025-10-04T08:13:49.199622Z",
     "iopub.status.idle": "2025-10-04T08:13:49.572548Z",
     "shell.execute_reply": "2025-10-04T08:13:49.571836Z",
     "shell.execute_reply.started": "2025-10-04T08:13:49.199870Z"
    }
   },
   "outputs": [],
   "source": [
    "import boto3\n",
    "\n",
    "# Upload files\n",
    "boto3.Session().resource('s3').Bucket(\n",
    "    bucket).Object('train.lst').upload_file('./train.lst')\n",
    "boto3.Session().resource('s3').Bucket(\n",
    "    bucket).Object('test.lst').upload_file('./test.lst')"
   ]
  },
  {
   "cell_type": "markdown",
   "metadata": {},
   "source": [
    "Using the `bucket` and `region` info we can get the latest prebuilt container to run our training job, and define an output location on our s3 bucket for the model. Use the `image_uris` function from the SageMaker SDK to retrieve the latest `image-classification` image below:"
   ]
  },
  {
   "cell_type": "code",
   "execution_count": 23,
   "metadata": {
    "execution": {
     "iopub.execute_input": "2025-10-04T08:13:52.528017Z",
     "iopub.status.busy": "2025-10-04T08:13:52.527730Z",
     "iopub.status.idle": "2025-10-04T08:13:52.560046Z",
     "shell.execute_reply": "2025-10-04T08:13:52.559327Z",
     "shell.execute_reply.started": "2025-10-04T08:13:52.527996Z"
    }
   },
   "outputs": [],
   "source": [
    "# Use the image_uris function to retrieve the latest 'image-classification' image\n",
    "from sagemaker import image_uris\n",
    "\n",
    "# Use the image_uris function to retrieve the latest 'image-classification' image\n",
    "algo_image = image_uris.retrieve(framework='image-classification', region=region)\n",
    "s3_output_location = f\"s3://{bucket}/models/image_model\""
   ]
  },
  {
   "cell_type": "markdown",
   "metadata": {},
   "source": [
    "We're ready to create an estimator! Create an estimator `img_classifier_model` that uses one instance of `ml.p3.2xlarge`. Ensure that y ou use the output location we defined above - we'll be referring to that later!"
   ]
  },
  {
   "cell_type": "code",
   "execution_count": 24,
   "metadata": {
    "execution": {
     "iopub.execute_input": "2025-10-04T08:13:54.674422Z",
     "iopub.status.busy": "2025-10-04T08:13:54.674161Z",
     "iopub.status.idle": "2025-10-04T08:13:54.777312Z",
     "shell.execute_reply": "2025-10-04T08:13:54.776621Z",
     "shell.execute_reply.started": "2025-10-04T08:13:54.674402Z"
    }
   },
   "outputs": [],
   "source": [
    "img_classifier_model = sagemaker.estimator.Estimator(\n",
    "    image_uri=algo_image,\n",
    "    role=role,\n",
    "    instance_count=1,\n",
    "    instance_type='ml.p3.2xlarge',\n",
    "    output_path=s3_output_location,\n",
    "    sagemaker_session=sess\n",
    ")\n",
    "\n",
    "img_classifier_model.set_hyperparameters(\n",
    "    image_shape='3,32,32',\n",
    "    num_classes=2,\n",
    "    num_training_samples=len(df_train)\n",
    ")"
   ]
  },
  {
   "cell_type": "markdown",
   "metadata": {},
   "source": [
    "We can also set a few key hyperparameters and define the inputs for our model:"
   ]
  },
  {
   "cell_type": "code",
   "execution_count": 25,
   "metadata": {
    "execution": {
     "iopub.execute_input": "2025-10-04T08:13:57.953159Z",
     "iopub.status.busy": "2025-10-04T08:13:57.952712Z",
     "iopub.status.idle": "2025-10-04T08:13:57.956519Z",
     "shell.execute_reply": "2025-10-04T08:13:57.955744Z",
     "shell.execute_reply.started": "2025-10-04T08:13:57.953132Z"
    }
   },
   "outputs": [],
   "source": [
    "img_classifier_model.set_hyperparameters(\n",
    "    image_shape='3,32,32',\n",
    "    num_classes=2,\n",
    "    num_training_samples=len(df_train)\n",
    ")"
   ]
  },
  {
   "cell_type": "markdown",
   "metadata": {},
   "source": [
    "The `image-classification` image uses four input channels with very specific input parameters. For convenience, we've provided them below:"
   ]
  },
  {
   "cell_type": "code",
   "execution_count": null,
   "metadata": {},
   "outputs": [],
   "source": [
    "import boto3\n",
    "import os\n",
    "from IPython.display import clear_output\n",
    "\n",
    "s3 = boto3.client('s3')\n",
    "\n",
    "from sagemaker.debugger import Rule, rule_configs\n",
    "from sagemaker.session import TrainingInput\n",
    "\n",
    "train_folder = 'train'\n",
    "test_folder = 'test'\n",
    "\n",
    "# Upload training images\n",
    "for filename in os.listdir(train_folder):\n",
    "    if filename.lower().endswith(('.png', '.jpg', '.jpeg', '.tiff', '.bmp')):  # check for image files\n",
    "        local_path = os.path.join(train_folder, filename)\n",
    "        try:\n",
    "            print(f\"Uploading training image: {filename}\")\n",
    "            s3.upload_file(\n",
    "                local_path,  # source file\n",
    "                bucket,      # bucket name\n",
    "                f\"train/{filename}\"  # destination in S3\n",
    "            )\n",
    "        except Exception as e:\n",
    "            print(f\"Error uploading {filename}: {str(e)}\")\n",
    "\n",
    "# Upload test images\n",
    "for filename in os.listdir(test_folder):\n",
    "    if filename.lower().endswith(('.png', '.jpg', '.jpeg', '.tiff', '.bmp')):\n",
    "        local_path = os.path.join(test_folder, filename)\n",
    "        try:\n",
    "            print(f\"Uploading test image: {filename}\")\n",
    "            s3.upload_file(\n",
    "                local_path,\n",
    "                bucket,\n",
    "                f\"test/{filename}\"\n",
    "            )\n",
    "        except Exception as e:\n",
    "            print(f\"Error uploading {filename}: {str(e)}\")\n",
    "\n",
    "# Print summary\n",
    "print(f\"Uploaded {len([f for f in os.listdir(train_folder) if f.lower().endswith(('.png', '.jpg', '.jpeg', '.tiff', '.bmp'))])} training images\")\n",
    "print(f\"Uploaded {len([f for f in os.listdir(test_folder) if f.lower().endswith(('.png', '.jpg', '.jpeg', '.tiff', '.bmp'))])} test images\")\n",
    "# Create .lst files for train and test\n",
    "with open('train.lst', 'w') as f:\n",
    "    for idx, row in df_train.iterrows():\n",
    "        # Format: index \\t label \\t filename\n",
    "        f.write(f\"{idx}\\t{1 if row['labels'] == 48 else 0}\\t{row['filenames']}\\n\")\n",
    "\n",
    "with open('test.lst', 'w') as f:\n",
    "    for idx, row in df_test.iterrows():\n",
    "        f.write(f\"{idx}\\t{1 if row['labels'] == 48 else 0}\\t{row['filenames']}\\n\")\n",
    "\n",
    "try:\n",
    "    s3.upload_file('train.lst', bucket, 'train/train.lst')\n",
    "    s3.upload_file('test.lst', bucket, 'test/test.lst')\n",
    "except Exception as e:\n",
    "    print(f\"Error uploading .lst files: {str(e)}\")\n",
    "    \n",
    "# Check if files exist in S3\n",
    "try:\n",
    "    s3.head_object(Bucket=bucket, Key='train/train.lst')\n",
    "    s3.head_object(Bucket=bucket, Key='test/test.lst')\n",
    "    print(\"LST files found in S3\")\n",
    "except Exception as e:\n",
    "    print(f\"Error: LST files not found in S3: {str(e)}\")\n",
    "\n",
    "# Upload .lst files to S3 (inside train/test folders)\n",
    "\n",
    "\n",
    "# Define model inputs\n",
    "model_inputs = {\n",
    "    \"train\": sagemaker.inputs.TrainingInput(\n",
    "        s3_data=f\"s3://{bucket}/train/\",\n",
    "        content_type=\"application/x-image\"\n",
    "    ),\n",
    "    \"validation\": sagemaker.inputs.TrainingInput(\n",
    "        s3_data=f\"s3://{bucket}/test/\",\n",
    "        content_type=\"application/x-image\"\n",
    "    ),\n",
    "    \"train_lst\": sagemaker.inputs.TrainingInput(\n",
    "        s3_data=f\"s3://{bucket}/train/train.lst\",\n",
    "        content_type=\"text/plain\"    # Changed this line\n",
    "    ),\n",
    "    \"validation_lst\": sagemaker.inputs.TrainingInput(\n",
    "        s3_data=f\"s3://{bucket}/test/test.lst\",\n",
    "        content_type=\"text/plain\"    # Changed this line\n",
    "    )\n",
    "}\n",
    "\n",
    "result = [i for i in range(1000000)]\n",
    "\n",
    "# Clear the output but keep the execution results in memory\n",
    "clear_output(wait=True)"
   ]
  },
  {
   "cell_type": "markdown",
   "metadata": {},
   "source": [
    "Great, now we can train the model using the model_inputs. In the cell below, call the `fit` method on our model,:"
   ]
  },
  {
   "cell_type": "code",
   "execution_count": 28,
   "metadata": {
    "execution": {
     "iopub.execute_input": "2025-10-04T08:19:34.229063Z",
     "iopub.status.busy": "2025-10-04T08:19:34.228659Z",
     "iopub.status.idle": "2025-10-04T08:29:26.358805Z",
     "shell.execute_reply": "2025-10-04T08:29:26.358060Z",
     "shell.execute_reply.started": "2025-10-04T08:19:34.229036Z"
    }
   },
   "outputs": [
    {
     "name": "stderr",
     "output_type": "stream",
     "text": [
      "INFO:sagemaker:Creating training-job with name: image-classification-2025-10-04-08-19-34-231\n"
     ]
    },
    {
     "name": "stdout",
     "output_type": "stream",
     "text": [
      "2025-10-04 08:19:34 Starting - Starting the training job\n",
      "2025-10-04 08:19:34 Pending - Training job waiting for capacity.........\n",
      "2025-10-04 08:21:01 Pending - Preparing the instances for training...\n",
      "2025-10-04 08:21:31 Downloading - Downloading input data...\n",
      "2025-10-04 08:21:51 Downloading - Downloading the training image..................\n",
      "2025-10-04 08:25:02 Training - Training image download completed. Training in progress....\u001b[34mDocker entrypoint called with argument(s): train\u001b[0m\n",
      "\u001b[34mRunning default environment configuration script\u001b[0m\n",
      "\u001b[34mNvidia gpu devices, drivers and cuda toolkit versions (only available on hosts with GPU):\u001b[0m\n",
      "\u001b[34mSat Oct  4 08:25:27 2025       \u001b[0m\n",
      "\u001b[34m+-----------------------------------------------------------------------------------------+\u001b[0m\n",
      "\u001b[34m| NVIDIA-SMI 570.172.08             Driver Version: 570.172.08     CUDA Version: 12.8     |\u001b[0m\n",
      "\u001b[34m|-----------------------------------------+------------------------+----------------------+\u001b[0m\n",
      "\u001b[34m| GPU  Name                 Persistence-M | Bus-Id          Disp.A | Volatile Uncorr. ECC |\u001b[0m\n",
      "\u001b[34m| Fan  Temp   Perf          Pwr:Usage/Cap |           Memory-Usage | GPU-Util  Compute M. |\u001b[0m\n",
      "\u001b[34m|                                         |                        |               MIG M. |\u001b[0m\n",
      "\u001b[34m|=========================================+========================+======================|\u001b[0m\n",
      "\u001b[34m|   0  Tesla V100-SXM2-16GB           On  |   00000000:00:1E.0 Off |                    0 |\u001b[0m\n",
      "\u001b[34m| N/A   30C    P0             25W /  300W |       0MiB /  16384MiB |      0%      Default |\u001b[0m\n",
      "\u001b[34m|                                         |                        |                  N/A |\u001b[0m\n",
      "\u001b[34m+-----------------------------------------+------------------------+----------------------+\n",
      "                                                                                         \u001b[0m\n",
      "\u001b[34m+-----------------------------------------------------------------------------------------+\u001b[0m\n",
      "\u001b[34m| Processes:                                                                              |\u001b[0m\n",
      "\u001b[34m|  GPU   GI   CI              PID   Type   Process name                        GPU Memory |\u001b[0m\n",
      "\u001b[34m|        ID   ID                                                               Usage      |\u001b[0m\n",
      "\u001b[34m|=========================================================================================|\u001b[0m\n",
      "\u001b[34m|  No running processes found                                                             |\u001b[0m\n",
      "\u001b[34m+-----------------------------------------------------------------------------------------+\u001b[0m\n",
      "\u001b[34mChecking for nvidia driver and cuda compatibility.\u001b[0m\n",
      "\u001b[34mCUDA Compatibility driver provided.\u001b[0m\n",
      "\u001b[34mProceeding with compatibility check between driver, cuda-toolkit and cuda-compat.\u001b[0m\n",
      "\u001b[34mDetected cuda-toolkit version: 11.1.\u001b[0m\n",
      "\u001b[34mDetected cuda-compat version: 455.32.00.\u001b[0m\n",
      "\u001b[34mDetected Nvidia driver version: 570.172.08.\u001b[0m\n",
      "\u001b[34mNvidia driver compatible with cuda-toolkit. Disabling cuda-compat.\u001b[0m\n",
      "\u001b[34m/opt/amazon/lib/python3.8/site-packages/mxnet/model.py:97: SyntaxWarning: \"is\" with a literal. Did you mean \"==\"?\n",
      "  if num_device is 1 and 'dist' not in kvstore:\u001b[0m\n",
      "\u001b[34m[10/04/2025 08:25:30 INFO 140387995768640] Reading default configuration from /opt/amazon/lib/python3.8/site-packages/image_classification/default-input.json: {'use_pretrained_model': 0, 'num_layers': 152, 'epochs': 30, 'learning_rate': 0.1, 'lr_scheduler_factor': 0.1, 'optimizer': 'sgd', 'momentum': 0, 'weight_decay': 0.0001, 'beta_1': 0.9, 'beta_2': 0.999, 'eps': 1e-08, 'gamma': 0.9, 'mini_batch_size': 32, 'image_shape': '3,224,224', 'precision_dtype': 'float32'}\u001b[0m\n",
      "\u001b[34m[10/04/2025 08:25:30 INFO 140387995768640] Merging with provided configuration from /opt/ml/input/config/hyperparameters.json: {'image_shape': '3,32,32', 'num_classes': '2', 'num_training_samples': '1000'}\u001b[0m\n",
      "\u001b[34m[10/04/2025 08:25:30 INFO 140387995768640] Final configuration: {'use_pretrained_model': 0, 'num_layers': 152, 'epochs': 30, 'learning_rate': 0.1, 'lr_scheduler_factor': 0.1, 'optimizer': 'sgd', 'momentum': 0, 'weight_decay': 0.0001, 'beta_1': 0.9, 'beta_2': 0.999, 'eps': 1e-08, 'gamma': 0.9, 'mini_batch_size': 32, 'image_shape': '3,32,32', 'precision_dtype': 'float32', 'num_classes': '2', 'num_training_samples': '1000'}\u001b[0m\n",
      "\u001b[34m[10/04/2025 08:25:30 INFO 140387995768640] Searching for .lst files in /opt/ml/input/data/train_lst.\u001b[0m\n",
      "\u001b[34m[10/04/2025 08:25:30 INFO 140387995768640] Creating record files for train.lst\u001b[0m\n",
      "\u001b[34m[10/04/2025 08:25:31 INFO 140387995768640] Done creating record files...\u001b[0m\n",
      "\u001b[34m[10/04/2025 08:25:31 INFO 140387995768640] Searching for .lst files in /opt/ml/input/data/validation_lst.\u001b[0m\n",
      "\u001b[34m[10/04/2025 08:25:31 INFO 140387995768640] Creating record files for test.lst\u001b[0m\n",
      "\u001b[34m[10/04/2025 08:25:31 INFO 140387995768640] Done creating record files...\u001b[0m\n",
      "\u001b[34m[10/04/2025 08:25:31 INFO 140387995768640] use_pretrained_model: 0\u001b[0m\n",
      "\u001b[34m[10/04/2025 08:25:31 INFO 140387995768640] multi_label: 0\u001b[0m\n",
      "\u001b[34m[10/04/2025 08:25:31 INFO 140387995768640] Performing random weight initialization\u001b[0m\n",
      "\u001b[34m[10/04/2025 08:25:31 INFO 140387995768640] ---- Parameters ----\u001b[0m\n",
      "\u001b[34m[10/04/2025 08:25:31 INFO 140387995768640] num_layers: 152\u001b[0m\n",
      "\u001b[34m[10/04/2025 08:25:31 INFO 140387995768640] data type: <class 'numpy.float32'>\u001b[0m\n",
      "\u001b[34m[10/04/2025 08:25:31 INFO 140387995768640] epochs: 30\u001b[0m\n",
      "\u001b[34m[10/04/2025 08:25:31 INFO 140387995768640] optimizer: sgd\u001b[0m\n",
      "\u001b[34m[10/04/2025 08:25:31 INFO 140387995768640] momentum: 0.9\u001b[0m\n",
      "\u001b[34m[10/04/2025 08:25:31 INFO 140387995768640] weight_decay: 0.0001\u001b[0m\n",
      "\u001b[34m[10/04/2025 08:25:31 INFO 140387995768640] learning_rate: 0.1\u001b[0m\n",
      "\u001b[34m[10/04/2025 08:25:31 INFO 140387995768640] num_training_samples: 1000\u001b[0m\n",
      "\u001b[34m[10/04/2025 08:25:31 INFO 140387995768640] mini_batch_size: 32\u001b[0m\n",
      "\u001b[34m[10/04/2025 08:25:31 INFO 140387995768640] image_shape: 3,32,32\u001b[0m\n",
      "\u001b[34m[10/04/2025 08:25:31 INFO 140387995768640] num_classes: 2\u001b[0m\n",
      "\u001b[34m[10/04/2025 08:25:31 INFO 140387995768640] augmentation_type: None\u001b[0m\n",
      "\u001b[34m[10/04/2025 08:25:31 INFO 140387995768640] kv_store: device\u001b[0m\n",
      "\u001b[34m[10/04/2025 08:25:31 INFO 140387995768640] checkpoint_frequency not set, will store the best model\u001b[0m\n",
      "\u001b[34m[10/04/2025 08:25:31 INFO 140387995768640] --------------------\u001b[0m\n",
      "\u001b[34m/opt/amazon/python3.8/lib/python3.8/subprocess.py:848: RuntimeWarning: line buffering (buffering=1) isn't supported in binary mode, the default buffer size will be used\n",
      "  self.stdout = io.open(c2pread, 'rb', bufsize)\u001b[0m\n",
      "\u001b[34m[10/04/2025 08:25:31 INFO 140387995768640] Setting number of threads: 7\u001b[0m\n",
      "\u001b[34m[08:25:35] /opt/brazil-pkg-cache/packages/AIAlgorithmsMXNet/AIAlgorithmsMXNet-1.4.x_ecl_Cuda_11.1.x.441.0/AL2_x86_64/generic-flavor/src/src/operator/nn/./cudnn/./cudnn_algoreg-inl.h:97: Running performance tests to find the best convolution algorithm, this can take a while... (setting env variable MXNET_CUDNN_AUTOTUNE_DEFAULT to 0 to disable)\u001b[0m\n",
      "\u001b[34m[10/04/2025 08:25:40 INFO 140387995768640] Epoch[0] Batch [20]#011Speed: 126.039 samples/sec#011accuracy=0.547619\u001b[0m\n",
      "\u001b[34m[10/04/2025 08:25:42 INFO 140387995768640] Epoch[0] Train-accuracy=0.587702\u001b[0m\n",
      "\u001b[34m[10/04/2025 08:25:42 INFO 140387995768640] Epoch[0] Time cost=6.665\u001b[0m\n",
      "\u001b[34m[10/04/2025 08:25:42 INFO 140387995768640] Epoch[0] Validation-accuracy=0.552083\u001b[0m\n",
      "\u001b[34m[10/04/2025 08:25:42 INFO 140387995768640] Storing the best model with validation accuracy: 0.552083\u001b[0m\n",
      "\u001b[34m[10/04/2025 08:25:43 INFO 140387995768640] Saved checkpoint to \"/opt/ml/model/image-classification-0001.params\"\u001b[0m\n",
      "\u001b[34m[10/04/2025 08:25:46 INFO 140387995768640] Epoch[1] Batch [20]#011Speed: 197.761 samples/sec#011accuracy=0.613095\u001b[0m\n",
      "\u001b[34m[10/04/2025 08:25:48 INFO 140387995768640] Epoch[1] Train-accuracy=0.614919\u001b[0m\n",
      "\u001b[34m[10/04/2025 08:25:48 INFO 140387995768640] Epoch[1] Time cost=4.844\u001b[0m\n",
      "\u001b[34m[10/04/2025 08:25:48 INFO 140387995768640] Epoch[1] Validation-accuracy=0.494792\u001b[0m\n",
      "\u001b[34m[10/04/2025 08:25:52 INFO 140387995768640] Epoch[2] Batch [20]#011Speed: 199.516 samples/sec#011accuracy=0.474702\u001b[0m\n",
      "\u001b[34m[10/04/2025 08:25:53 INFO 140387995768640] Epoch[2] Train-accuracy=0.516129\u001b[0m\n",
      "\u001b[34m[10/04/2025 08:25:53 INFO 140387995768640] Epoch[2] Time cost=4.806\u001b[0m\n",
      "\u001b[34m[10/04/2025 08:25:54 INFO 140387995768640] Epoch[2] Validation-accuracy=0.703125\u001b[0m\n",
      "\u001b[34m[10/04/2025 08:25:54 INFO 140387995768640] Storing the best model with validation accuracy: 0.703125\u001b[0m\n",
      "\u001b[34m[10/04/2025 08:25:54 INFO 140387995768640] Saved checkpoint to \"/opt/ml/model/image-classification-0003.params\"\u001b[0m\n",
      "\u001b[34m[10/04/2025 08:25:58 INFO 140387995768640] Epoch[3] Batch [20]#011Speed: 197.598 samples/sec#011accuracy=0.684524\u001b[0m\n",
      "\u001b[34m[10/04/2025 08:25:59 INFO 140387995768640] Epoch[3] Train-accuracy=0.715726\u001b[0m\n",
      "\u001b[34m[10/04/2025 08:25:59 INFO 140387995768640] Epoch[3] Time cost=4.833\u001b[0m\n",
      "\u001b[34m[10/04/2025 08:26:00 INFO 140387995768640] Epoch[3] Validation-accuracy=0.776786\u001b[0m\n",
      "\u001b[34m[10/04/2025 08:26:00 INFO 140387995768640] Storing the best model with validation accuracy: 0.776786\u001b[0m\n",
      "\u001b[34m[10/04/2025 08:26:00 INFO 140387995768640] Saved checkpoint to \"/opt/ml/model/image-classification-0004.params\"\u001b[0m\n",
      "\u001b[34m[10/04/2025 08:26:04 INFO 140387995768640] Epoch[4] Batch [20]#011Speed: 191.322 samples/sec#011accuracy=0.747024\u001b[0m\n",
      "\u001b[34m[10/04/2025 08:26:05 INFO 140387995768640] Epoch[4] Train-accuracy=0.750000\u001b[0m\n",
      "\u001b[34m[10/04/2025 08:26:05 INFO 140387995768640] Epoch[4] Time cost=4.949\u001b[0m\n",
      "\u001b[34m[10/04/2025 08:26:06 INFO 140387995768640] Epoch[4] Validation-accuracy=0.802083\u001b[0m\n",
      "\u001b[34m[10/04/2025 08:26:06 INFO 140387995768640] Storing the best model with validation accuracy: 0.802083\u001b[0m\n",
      "\u001b[34m[10/04/2025 08:26:06 INFO 140387995768640] Saved checkpoint to \"/opt/ml/model/image-classification-0005.params\"\u001b[0m\n",
      "\u001b[34m[10/04/2025 08:26:10 INFO 140387995768640] Epoch[5] Batch [20]#011Speed: 192.459 samples/sec#011accuracy=0.781250\u001b[0m\n",
      "\u001b[34m[10/04/2025 08:26:11 INFO 140387995768640] Epoch[5] Train-accuracy=0.771169\u001b[0m\n",
      "\u001b[34m[10/04/2025 08:26:11 INFO 140387995768640] Epoch[5] Time cost=4.957\u001b[0m\n",
      "\u001b[34m[10/04/2025 08:26:12 INFO 140387995768640] Epoch[5] Validation-accuracy=0.729167\u001b[0m\n",
      "\u001b[34m[10/04/2025 08:26:16 INFO 140387995768640] Epoch[6] Batch [20]#011Speed: 197.106 samples/sec#011accuracy=0.803571\u001b[0m\n",
      "\u001b[34m[10/04/2025 08:26:17 INFO 140387995768640] Epoch[6] Train-accuracy=0.795363\u001b[0m\n",
      "\u001b[34m[10/04/2025 08:26:17 INFO 140387995768640] Epoch[6] Time cost=4.840\u001b[0m\n",
      "\u001b[34m[10/04/2025 08:26:18 INFO 140387995768640] Epoch[6] Validation-accuracy=0.552083\u001b[0m\n",
      "\u001b[34m[10/04/2025 08:26:21 INFO 140387995768640] Epoch[7] Batch [20]#011Speed: 196.030 samples/sec#011accuracy=0.796131\u001b[0m\n",
      "\u001b[34m[10/04/2025 08:26:23 INFO 140387995768640] Epoch[7] Train-accuracy=0.798387\u001b[0m\n",
      "\u001b[34m[10/04/2025 08:26:23 INFO 140387995768640] Epoch[7] Time cost=4.852\u001b[0m\n",
      "\u001b[34m[10/04/2025 08:26:23 INFO 140387995768640] Epoch[7] Validation-accuracy=0.803571\u001b[0m\n",
      "\u001b[34m[10/04/2025 08:26:24 INFO 140387995768640] Storing the best model with validation accuracy: 0.803571\u001b[0m\n",
      "\u001b[34m[10/04/2025 08:26:24 INFO 140387995768640] Saved checkpoint to \"/opt/ml/model/image-classification-0008.params\"\u001b[0m\n",
      "\u001b[34m[10/04/2025 08:26:27 INFO 140387995768640] Epoch[8] Batch [20]#011Speed: 195.449 samples/sec#011accuracy=0.825893\u001b[0m\n",
      "\u001b[34m[10/04/2025 08:26:29 INFO 140387995768640] Epoch[8] Train-accuracy=0.820565\u001b[0m\n",
      "\u001b[34m[10/04/2025 08:26:29 INFO 140387995768640] Epoch[8] Time cost=4.898\u001b[0m\n",
      "\u001b[34m[10/04/2025 08:26:29 INFO 140387995768640] Epoch[8] Validation-accuracy=0.786458\u001b[0m\n",
      "\u001b[34m[10/04/2025 08:26:33 INFO 140387995768640] Epoch[9] Batch [20]#011Speed: 198.254 samples/sec#011accuracy=0.809524\u001b[0m\n",
      "\u001b[34m[10/04/2025 08:26:35 INFO 140387995768640] Epoch[9] Train-accuracy=0.809476\u001b[0m\n",
      "\u001b[34m[10/04/2025 08:26:35 INFO 140387995768640] Epoch[9] Time cost=4.803\u001b[0m\n",
      "\u001b[34m[10/04/2025 08:26:35 INFO 140387995768640] Epoch[9] Validation-accuracy=0.828125\u001b[0m\n",
      "\u001b[34m[10/04/2025 08:26:36 INFO 140387995768640] Storing the best model with validation accuracy: 0.828125\u001b[0m\n",
      "\u001b[34m[10/04/2025 08:26:36 INFO 140387995768640] Saved checkpoint to \"/opt/ml/model/image-classification-0010.params\"\u001b[0m\n",
      "\u001b[34m[10/04/2025 08:26:39 INFO 140387995768640] Epoch[10] Batch [20]#011Speed: 197.507 samples/sec#011accuracy=0.819940\u001b[0m\n",
      "\u001b[34m[10/04/2025 08:26:41 INFO 140387995768640] Epoch[10] Train-accuracy=0.826613\u001b[0m\n",
      "\u001b[34m[10/04/2025 08:26:41 INFO 140387995768640] Epoch[10] Time cost=4.854\u001b[0m\n",
      "\u001b[34m[10/04/2025 08:26:41 INFO 140387995768640] Epoch[10] Validation-accuracy=0.838542\u001b[0m\n",
      "\u001b[34m[10/04/2025 08:26:42 INFO 140387995768640] Storing the best model with validation accuracy: 0.838542\u001b[0m\n",
      "\u001b[34m[10/04/2025 08:26:42 INFO 140387995768640] Saved checkpoint to \"/opt/ml/model/image-classification-0011.params\"\u001b[0m\n",
      "\u001b[34m[10/04/2025 08:26:45 INFO 140387995768640] Epoch[11] Batch [20]#011Speed: 196.737 samples/sec#011accuracy=0.818452\u001b[0m\n",
      "\u001b[34m[10/04/2025 08:26:47 INFO 140387995768640] Epoch[11] Train-accuracy=0.821573\u001b[0m\n",
      "\u001b[34m[10/04/2025 08:26:47 INFO 140387995768640] Epoch[11] Time cost=4.820\u001b[0m\n",
      "\u001b[34m[10/04/2025 08:26:47 INFO 140387995768640] Epoch[11] Validation-accuracy=0.839286\u001b[0m\n",
      "\u001b[34m[10/04/2025 08:26:48 INFO 140387995768640] Storing the best model with validation accuracy: 0.839286\u001b[0m\n",
      "\u001b[34m[10/04/2025 08:26:48 INFO 140387995768640] Saved checkpoint to \"/opt/ml/model/image-classification-0012.params\"\u001b[0m\n",
      "\u001b[34m[10/04/2025 08:26:51 INFO 140387995768640] Epoch[12] Batch [20]#011Speed: 198.035 samples/sec#011accuracy=0.843750\u001b[0m\n",
      "\u001b[34m[10/04/2025 08:26:53 INFO 140387995768640] Epoch[12] Train-accuracy=0.843750\u001b[0m\n",
      "\u001b[34m[10/04/2025 08:26:53 INFO 140387995768640] Epoch[12] Time cost=4.800\u001b[0m\n",
      "\u001b[34m[10/04/2025 08:26:53 INFO 140387995768640] Epoch[12] Validation-accuracy=0.848958\u001b[0m\n",
      "\u001b[34m[10/04/2025 08:26:53 INFO 140387995768640] Storing the best model with validation accuracy: 0.848958\u001b[0m\n",
      "\u001b[34m[10/04/2025 08:26:54 INFO 140387995768640] Saved checkpoint to \"/opt/ml/model/image-classification-0013.params\"\u001b[0m\n",
      "\u001b[34m[10/04/2025 08:26:57 INFO 140387995768640] Epoch[13] Batch [20]#011Speed: 199.421 samples/sec#011accuracy=0.839286\u001b[0m\n",
      "\u001b[34m[10/04/2025 08:26:59 INFO 140387995768640] Epoch[13] Train-accuracy=0.840726\u001b[0m\n",
      "\u001b[34m[10/04/2025 08:26:59 INFO 140387995768640] Epoch[13] Time cost=4.790\u001b[0m\n",
      "\u001b[34m[10/04/2025 08:26:59 INFO 140387995768640] Epoch[13] Validation-accuracy=0.833333\u001b[0m\n",
      "\u001b[34m[10/04/2025 08:27:03 INFO 140387995768640] Epoch[14] Batch [20]#011Speed: 195.523 samples/sec#011accuracy=0.855655\u001b[0m\n",
      "\u001b[34m[10/04/2025 08:27:04 INFO 140387995768640] Epoch[14] Train-accuracy=0.854839\u001b[0m\n",
      "\u001b[34m[10/04/2025 08:27:04 INFO 140387995768640] Epoch[14] Time cost=4.867\u001b[0m\n",
      "\u001b[34m[10/04/2025 08:27:05 INFO 140387995768640] Epoch[14] Validation-accuracy=0.854167\u001b[0m\n",
      "\u001b[34m[10/04/2025 08:27:05 INFO 140387995768640] Storing the best model with validation accuracy: 0.854167\u001b[0m\n",
      "\u001b[34m[10/04/2025 08:27:06 INFO 140387995768640] Saved checkpoint to \"/opt/ml/model/image-classification-0015.params\"\u001b[0m\n",
      "\u001b[34m[10/04/2025 08:27:09 INFO 140387995768640] Epoch[15] Batch [20]#011Speed: 197.552 samples/sec#011accuracy=0.869048\u001b[0m\n",
      "\u001b[34m[10/04/2025 08:27:10 INFO 140387995768640] Epoch[15] Train-accuracy=0.853831\u001b[0m\n",
      "\u001b[34m[10/04/2025 08:27:10 INFO 140387995768640] Epoch[15] Time cost=4.821\u001b[0m\n",
      "\u001b[34m[10/04/2025 08:27:11 INFO 140387995768640] Epoch[15] Validation-accuracy=0.758929\u001b[0m\n",
      "\u001b[34m[10/04/2025 08:27:15 INFO 140387995768640] Epoch[16] Batch [20]#011Speed: 197.781 samples/sec#011accuracy=0.886905\u001b[0m\n",
      "\u001b[34m[10/04/2025 08:27:16 INFO 140387995768640] Epoch[16] Train-accuracy=0.870968\u001b[0m\n",
      "\u001b[34m[10/04/2025 08:27:16 INFO 140387995768640] Epoch[16] Time cost=4.828\u001b[0m\n",
      "\u001b[34m[10/04/2025 08:27:17 INFO 140387995768640] Epoch[16] Validation-accuracy=0.776042\u001b[0m\n",
      "\u001b[34m[10/04/2025 08:27:20 INFO 140387995768640] Epoch[17] Batch [20]#011Speed: 197.600 samples/sec#011accuracy=0.894345\u001b[0m\n",
      "\u001b[34m[10/04/2025 08:27:22 INFO 140387995768640] Epoch[17] Train-accuracy=0.894153\u001b[0m\n",
      "\u001b[34m[10/04/2025 08:27:22 INFO 140387995768640] Epoch[17] Time cost=4.849\u001b[0m\n",
      "\u001b[34m[10/04/2025 08:27:22 INFO 140387995768640] Epoch[17] Validation-accuracy=0.828125\u001b[0m\n",
      "\u001b[34m[10/04/2025 08:27:26 INFO 140387995768640] Epoch[18] Batch [20]#011Speed: 198.640 samples/sec#011accuracy=0.842262\u001b[0m\n",
      "\u001b[34m[10/04/2025 08:27:28 INFO 140387995768640] Epoch[18] Train-accuracy=0.856855\u001b[0m\n",
      "\u001b[34m[10/04/2025 08:27:28 INFO 140387995768640] Epoch[18] Time cost=4.809\u001b[0m\n",
      "\u001b[34m[10/04/2025 08:27:28 INFO 140387995768640] Epoch[18] Validation-accuracy=0.734375\u001b[0m\n",
      "\u001b[34m[10/04/2025 08:27:32 INFO 140387995768640] Epoch[19] Batch [20]#011Speed: 197.208 samples/sec#011accuracy=0.904762\u001b[0m\n",
      "\u001b[34m[10/04/2025 08:27:33 INFO 140387995768640] Epoch[19] Train-accuracy=0.896169\u001b[0m\n",
      "\u001b[34m[10/04/2025 08:27:33 INFO 140387995768640] Epoch[19] Time cost=4.847\u001b[0m\n",
      "\u001b[34m[10/04/2025 08:27:34 INFO 140387995768640] Epoch[19] Validation-accuracy=0.785714\u001b[0m\n",
      "\u001b[34m[10/04/2025 08:27:38 INFO 140387995768640] Epoch[20] Batch [20]#011Speed: 197.746 samples/sec#011accuracy=0.921131\u001b[0m\n",
      "\u001b[34m[10/04/2025 08:27:39 INFO 140387995768640] Epoch[20] Train-accuracy=0.919355\u001b[0m\n",
      "\u001b[34m[10/04/2025 08:27:39 INFO 140387995768640] Epoch[20] Time cost=4.824\u001b[0m\n",
      "\u001b[34m[10/04/2025 08:27:40 INFO 140387995768640] Epoch[20] Validation-accuracy=0.854167\u001b[0m\n",
      "\u001b[34m[10/04/2025 08:27:43 INFO 140387995768640] Epoch[21] Batch [20]#011Speed: 195.969 samples/sec#011accuracy=0.916667\u001b[0m\n",
      "\u001b[34m[10/04/2025 08:27:45 INFO 140387995768640] Epoch[21] Train-accuracy=0.916331\u001b[0m\n",
      "\u001b[34m[10/04/2025 08:27:45 INFO 140387995768640] Epoch[21] Time cost=4.868\u001b[0m\n",
      "\u001b[34m[10/04/2025 08:27:45 INFO 140387995768640] Epoch[21] Validation-accuracy=0.828125\u001b[0m\n",
      "\u001b[34m[10/04/2025 08:27:49 INFO 140387995768640] Epoch[22] Batch [20]#011Speed: 198.986 samples/sec#011accuracy=0.925595\u001b[0m\n",
      "\u001b[34m[10/04/2025 08:27:51 INFO 140387995768640] Epoch[22] Train-accuracy=0.910282\u001b[0m\n",
      "\u001b[34m[10/04/2025 08:27:51 INFO 140387995768640] Epoch[22] Time cost=4.826\u001b[0m\n",
      "\u001b[34m[10/04/2025 08:27:51 INFO 140387995768640] Epoch[22] Validation-accuracy=0.822917\u001b[0m\n",
      "\u001b[34m[10/04/2025 08:27:55 INFO 140387995768640] Epoch[23] Batch [20]#011Speed: 198.929 samples/sec#011accuracy=0.941964\u001b[0m\n",
      "\u001b[34m[10/04/2025 08:27:56 INFO 140387995768640] Epoch[23] Train-accuracy=0.935484\u001b[0m\n",
      "\u001b[34m[10/04/2025 08:27:56 INFO 140387995768640] Epoch[23] Time cost=4.797\u001b[0m\n",
      "\u001b[34m[10/04/2025 08:27:57 INFO 140387995768640] Epoch[23] Validation-accuracy=0.812500\u001b[0m\n",
      "\u001b[34m[10/04/2025 08:28:01 INFO 140387995768640] Epoch[24] Batch [20]#011Speed: 195.211 samples/sec#011accuracy=0.931548\u001b[0m\n",
      "\u001b[34m[10/04/2025 08:28:02 INFO 140387995768640] Epoch[24] Train-accuracy=0.937500\u001b[0m\n",
      "\u001b[34m[10/04/2025 08:28:02 INFO 140387995768640] Epoch[24] Time cost=4.894\u001b[0m\n",
      "\u001b[34m[10/04/2025 08:28:03 INFO 140387995768640] Epoch[24] Validation-accuracy=0.791667\u001b[0m\n",
      "\u001b[34m[10/04/2025 08:28:06 INFO 140387995768640] Epoch[25] Batch [20]#011Speed: 197.400 samples/sec#011accuracy=0.937500\u001b[0m\n",
      "\u001b[34m[10/04/2025 08:28:08 INFO 140387995768640] Epoch[25] Train-accuracy=0.938508\u001b[0m\n",
      "\u001b[34m[10/04/2025 08:28:08 INFO 140387995768640] Epoch[25] Time cost=4.831\u001b[0m\n",
      "\u001b[34m[10/04/2025 08:28:08 INFO 140387995768640] Epoch[25] Validation-accuracy=0.723958\u001b[0m\n",
      "\u001b[34m[10/04/2025 08:28:12 INFO 140387995768640] Epoch[26] Batch [20]#011Speed: 196.685 samples/sec#011accuracy=0.906250\u001b[0m\n",
      "\u001b[34m[10/04/2025 08:28:14 INFO 140387995768640] Epoch[26] Train-accuracy=0.919355\u001b[0m\n",
      "\u001b[34m[10/04/2025 08:28:14 INFO 140387995768640] Epoch[26] Time cost=4.810\u001b[0m\n",
      "\u001b[34m[10/04/2025 08:28:14 INFO 140387995768640] Epoch[26] Validation-accuracy=0.854167\u001b[0m\n",
      "\u001b[34m[10/04/2025 08:28:18 INFO 140387995768640] Epoch[27] Batch [20]#011Speed: 195.085 samples/sec#011accuracy=0.953869\u001b[0m\n",
      "\u001b[34m[10/04/2025 08:28:19 INFO 140387995768640] Epoch[27] Train-accuracy=0.954637\u001b[0m\n",
      "\u001b[34m[10/04/2025 08:28:19 INFO 140387995768640] Epoch[27] Time cost=4.856\u001b[0m\n",
      "\u001b[34m[10/04/2025 08:28:20 INFO 140387995768640] Epoch[27] Validation-accuracy=0.808036\u001b[0m\n",
      "\u001b[34m[10/04/2025 08:28:24 INFO 140387995768640] Epoch[28] Batch [20]#011Speed: 194.746 samples/sec#011accuracy=0.968750\u001b[0m\n",
      "\u001b[34m[10/04/2025 08:28:25 INFO 140387995768640] Epoch[28] Train-accuracy=0.965726\u001b[0m\n",
      "\u001b[34m[10/04/2025 08:28:25 INFO 140387995768640] Epoch[28] Time cost=4.874\u001b[0m\n",
      "\u001b[34m[10/04/2025 08:28:26 INFO 140387995768640] Epoch[28] Validation-accuracy=0.817708\u001b[0m\n",
      "\n",
      "2025-10-04 08:28:38 Uploading - Uploading generated training model\u001b[34m[10/04/2025 08:28:30 INFO 140387995768640] Epoch[29] Batch [20]#011Speed: 197.403 samples/sec#011accuracy=0.959821\u001b[0m\n",
      "\u001b[34m[10/04/2025 08:28:31 INFO 140387995768640] Epoch[29] Train-accuracy=0.962702\u001b[0m\n",
      "\u001b[34m[10/04/2025 08:28:31 INFO 140387995768640] Epoch[29] Time cost=4.832\u001b[0m\n",
      "\u001b[34m[10/04/2025 08:28:32 INFO 140387995768640] Epoch[29] Validation-accuracy=0.843750\u001b[0m\n",
      "\n",
      "2025-10-04 08:28:56 Completed - Training job completed\n",
      "Training seconds: 444\n",
      "Billable seconds: 444\n"
     ]
    }
   ],
   "source": [
    "## TODO: train your model\n",
    "from sagemaker.inputs import TrainingInput\n",
    "\n",
    "# Define model inputs with all 4 required channels\n",
    "model_inputs = {\n",
    "    \"train\": TrainingInput(\n",
    "        s3_data=f\"s3://{bucket}/train/\",\n",
    "        content_type=\"application/x-image\"\n",
    "    ),\n",
    "    \"validation\": TrainingInput(\n",
    "        s3_data=f\"s3://{bucket}/test/\",\n",
    "        content_type=\"application/x-image\"\n",
    "    ),\n",
    "    \"train_lst\": TrainingInput(\n",
    "        s3_data=f\"s3://{bucket}/train/train.lst\",\n",
    "        content_type=\"application/x-image\"\n",
    "    ),\n",
    "    \"validation_lst\": TrainingInput(\n",
    "        s3_data=f\"s3://{bucket}/test/test.lst\",\n",
    "        content_type=\"application/x-image\"\n",
    "    )\n",
    "}\n",
    "\n",
    "# Train the model\n",
    "img_classifier_model.fit(model_inputs)"
   ]
  },
  {
   "cell_type": "markdown",
   "metadata": {},
   "source": [
    "If all goes well, you'll end up with a model topping out above `.8` validation accuracy. With only 1000 training samples in the CIFAR dataset, that's pretty good. We could definitely pursue data augmentation & gathering more samples to help us improve further, but for now let's proceed to deploy our model.\n",
    "\n",
    "### Getting ready to deploy\n",
    "\n",
    "To begin with, let's configure Model Monitor to track our deployment. We'll define a `DataCaptureConfig` below:"
   ]
  },
  {
   "cell_type": "code",
   "execution_count": 29,
   "metadata": {
    "execution": {
     "iopub.execute_input": "2025-10-04T08:34:00.602280Z",
     "iopub.status.busy": "2025-10-04T08:34:00.602001Z",
     "iopub.status.idle": "2025-10-04T08:34:00.660069Z",
     "shell.execute_reply": "2025-10-04T08:34:00.659377Z",
     "shell.execute_reply.started": "2025-10-04T08:34:00.602258Z"
    }
   },
   "outputs": [],
   "source": [
    "from sagemaker.model_monitor import DataCaptureConfig\n",
    "\n",
    "data_capture_config = DataCaptureConfig(\n",
    "    enable_capture=True,\n",
    "    sampling_percentage=100,\n",
    "    destination_s3_uri=f\"s3://{bucket}/data_capture\"\n",
    ")"
   ]
  },
  {
   "cell_type": "markdown",
   "metadata": {},
   "source": [
    "Note the `destination_s3_uri` parameter: At the end of the project, we can explore the `data_capture` directory in S3 to find crucial data about the inputs and outputs Model Monitor has observed on our model endpoint over time.\n",
    "\n",
    "With that done, deploy your model on a single `ml.m5.xlarge` instance with the data capture config attached:"
   ]
  },
  {
   "cell_type": "code",
   "execution_count": 30,
   "metadata": {
    "execution": {
     "iopub.execute_input": "2025-10-04T08:34:38.273300Z",
     "iopub.status.busy": "2025-10-04T08:34:38.273002Z",
     "iopub.status.idle": "2025-10-04T08:40:10.949996Z",
     "shell.execute_reply": "2025-10-04T08:40:10.949287Z",
     "shell.execute_reply.started": "2025-10-04T08:34:38.273280Z"
    }
   },
   "outputs": [
    {
     "name": "stderr",
     "output_type": "stream",
     "text": [
      "INFO:sagemaker:Creating model with name: image-classification-2025-10-04-08-34-38-274\n",
      "INFO:sagemaker:Creating endpoint-config with name image-classification-2025-10-04-08-34-38-274\n",
      "INFO:sagemaker:Creating endpoint with name image-classification-2025-10-04-08-34-38-274\n"
     ]
    },
    {
     "name": "stdout",
     "output_type": "stream",
     "text": [
      "----------!image-classification-2025-10-04-08-34-38-274\n"
     ]
    }
   ],
   "source": [
    "deployment = img_classifier_model.deploy(\n",
    "    initial_instance_count=1,\n",
    "    instance_type='ml.m5.xlarge',\n",
    "    data_capture_config=data_capture_config\n",
    ")\n",
    "endpoint = deployment.endpoint_name\n",
    "print(endpoint)"
   ]
  },
  {
   "cell_type": "markdown",
   "metadata": {},
   "source": [
    "Note the endpoint name for later as well.\n",
    "\n",
    "Next, instantiate a Predictor:"
   ]
  },
  {
   "cell_type": "code",
   "execution_count": 31,
   "metadata": {
    "execution": {
     "iopub.execute_input": "2025-10-04T08:43:12.134159Z",
     "iopub.status.busy": "2025-10-04T08:43:12.133894Z",
     "iopub.status.idle": "2025-10-04T08:43:12.137615Z",
     "shell.execute_reply": "2025-10-04T08:43:12.136975Z",
     "shell.execute_reply.started": "2025-10-04T08:43:12.134139Z"
    }
   },
   "outputs": [],
   "source": [
    "from sagemaker.predictor import Predictor\n",
    "from sagemaker.serializers import IdentitySerializer\n",
    "\n",
    "predictor = Predictor(\n",
    "    endpoint_name=endpoint,\n",
    "    sagemaker_session=sess,\n",
    "    serializer=IdentitySerializer(content_type='image/png')\n",
    ")"
   ]
  },
  {
   "cell_type": "markdown",
   "metadata": {},
   "source": [
    "In the code snippet below we are going to prepare one of your saved images for prediction. Use the predictor to process the `payload`."
   ]
  },
  {
   "cell_type": "code",
   "execution_count": 32,
   "metadata": {
    "execution": {
     "iopub.execute_input": "2025-10-04T08:44:11.861014Z",
     "iopub.status.busy": "2025-10-04T08:44:11.860623Z",
     "iopub.status.idle": "2025-10-04T08:44:12.246947Z",
     "shell.execute_reply": "2025-10-04T08:44:12.246231Z",
     "shell.execute_reply.started": "2025-10-04T08:44:11.860987Z"
    }
   },
   "outputs": [],
   "source": [
    "from sagemaker.serializers import IdentitySerializer\n",
    "import base64\n",
    "\n",
    "predictor.serializer = IdentitySerializer(\"image/png\")\n",
    "\n",
    "with open(\"./test/bicycle_s_001789.png\", \"rb\") as f:\n",
    "    payload = f.read()\n",
    "    \n",
    "inference = predictor.predict(payload)"
   ]
  },
  {
   "cell_type": "markdown",
   "metadata": {},
   "source": [
    "Your `inference` object is an array of two values, the predicted probability value for each of your classes (bicycle and motorcycle respectively.) So, for example, a value of `b'[0.91, 0.09]'` indicates the probability of being a bike is 91% and being a motorcycle is 9%."
   ]
  },
  {
   "cell_type": "code",
   "execution_count": 33,
   "metadata": {
    "execution": {
     "iopub.execute_input": "2025-10-04T08:44:15.336585Z",
     "iopub.status.busy": "2025-10-04T08:44:15.336322Z",
     "iopub.status.idle": "2025-10-04T08:44:15.339624Z",
     "shell.execute_reply": "2025-10-04T08:44:15.339086Z",
     "shell.execute_reply.started": "2025-10-04T08:44:15.336565Z"
    }
   },
   "outputs": [
    {
     "name": "stdout",
     "output_type": "stream",
     "text": [
      "b'[0.8227921724319458, 0.1772077977657318]'\n"
     ]
    }
   ],
   "source": [
    "print(inference)"
   ]
  },
  {
   "cell_type": "markdown",
   "metadata": {},
   "source": [
    "### Draft Lambdas and Step Function Workflow\n",
    "\n",
    "Your operations team uses Step Functions to orchestrate serverless workflows. One of the nice things about Step Functions is that [workflows can call other workflows](https://docs.aws.amazon.com/step-functions/latest/dg/connect-stepfunctions.html), so the team can easily plug your workflow into the broader production architecture for Scones Unlimited.\n",
    "\n",
    "In this next stage you're going to write and deploy three Lambda functions, and then use the Step Functions visual editor to chain them together! Our functions are going to work with a simple data object:\n",
    "\n",
    "```python\n",
    "{\n",
    "    \"inferences\": [], # Output of predictor.predict\n",
    "    \"s3_key\": \"\", # Source data S3 key\n",
    "    \"s3_bucket\": \"\", # Source data S3 bucket\n",
    "    \"image_data\": \"\"  # base64 encoded string containing the image data\n",
    "}\n",
    "```\n",
    "\n",
    "A good test object that you can use for Lambda tests and Step Function executions, throughout the next section, might look like this:\n",
    "\n",
    "```python\n",
    "{\n",
    "  \"image_data\": \"\",\n",
    "  \"s3_bucket\": MY_BUCKET_NAME, # Fill in with your bucket\n",
    "  \"s3_key\": \"test/bicycle_s_000513.png\"\n",
    "}\n",
    "```\n",
    "\n",
    "Using these fields, your functions can read and write the necessary data to execute your workflow. Let's start with the first function. Your first Lambda function will copy an object from S3, base64 encode it, and then return it to the step function as `image_data` in an event.\n",
    "\n",
    "Go to the Lambda dashboard and create a new Lambda function with a descriptive name like \"serializeImageData\" and select thr 'Python 3.8' runtime. Add the same permissions as the SageMaker role you created earlier. (Reminder: you do this in the Configuration tab under \"Permissions\"). Once you're ready, use the starter code below to craft your Lambda handler:\n",
    "\n",
    "```python\n",
    "import json\n",
    "import boto3\n",
    "import base64\n",
    "\n",
    "s3 = boto3.client('s3')\n",
    "\n",
    "def lambda_handler(event, context):\n",
    "    \"\"\"A function to serialize target data from S3\"\"\"\n",
    "    \n",
    "    # Get the s3 address from the Step Function event input\n",
    "    key = ## TODO: fill in\n",
    "    bucket = ## TODO: fill in\n",
    "    \n",
    "    # Download the data from s3 to /tmp/image.png\n",
    "    ## TODO: fill in\n",
    "    \n",
    "    # We read the data from a file\n",
    "    with open(\"/tmp/image.png\", \"rb\") as f:\n",
    "        image_data = base64.b64encode(f.read())\n",
    "\n",
    "    # Pass the data back to the Step Function\n",
    "    print(\"Event:\", event.keys())\n",
    "    return {\n",
    "        'statusCode': 200,\n",
    "        'body': {\n",
    "            \"image_data\": image_data,\n",
    "            \"s3_bucket\": bucket,\n",
    "            \"s3_key\": key,\n",
    "            \"inferences\": []\n",
    "        }\n",
    "    }\n",
    "```\n",
    "\n",
    "The next function is responsible for the classification part - we're going to take the image output from the previous function, decode it, and then pass inferences back to the the Step Function.\n",
    "\n",
    "Because this Lambda will have runtime dependencies (i.e. the SageMaker SDK) you'll need to package them in your function. *Key reading:* https://docs.aws.amazon.com/lambda/latest/dg/python-package-create.html#python-package-create-with-dependency\n",
    "\n",
    "Create a new Lambda function with the same rights and a descriptive name, then fill in the starter code below for your classifier Lambda.\n",
    "\n",
    "```python\n",
    "import json\n",
    "import sagemaker\n",
    "import base64\n",
    "from sagemaker.serializers import IdentitySerializer\n",
    "\n",
    "# Fill this in with the name of your deployed model\n",
    "ENDPOINT = ## TODO: fill in\n",
    "\n",
    "def lambda_handler(event, context):\n",
    "\n",
    "    # Decode the image data\n",
    "    image = base64.b64decode(## TODO: fill in)\n",
    "\n",
    "    # Instantiate a Predictor\n",
    "    predictor = ## TODO: fill in\n",
    "\n",
    "    # For this model the IdentitySerializer needs to be \"image/png\"\n",
    "    predictor.serializer = IdentitySerializer(\"image/png\")\n",
    "    \n",
    "    # Make a prediction:\n",
    "    inferences = ## TODO: fill in\n",
    "    \n",
    "    # We return the data back to the Step Function    \n",
    "    event[\"inferences\"] = inferences.decode('utf-8')\n",
    "    return {\n",
    "        'statusCode': 200,\n",
    "        'body': json.dumps(event)\n",
    "    }\n",
    "```\n",
    "\n",
    "Finally, we need to filter low-confidence inferences. Define a threshold between 1.00 and 0.000 for your model: what is reasonble for you? If the model predicts at `.70` for it's highest confidence label, do we want to pass that inference along to downstream systems? Make one last Lambda function and tee up the same permissions:\n",
    "\n",
    "```python\n",
    "import json\n",
    "\n",
    "\n",
    "THRESHOLD = .93\n",
    "\n",
    "\n",
    "def lambda_handler(event, context):\n",
    "    \n",
    "    # Grab the inferences from the event\n",
    "    inferences = ## TODO: fill in\n",
    "    \n",
    "    # Check if any values in our inferences are above THRESHOLD\n",
    "    meets_threshold = ## TODO: fill in\n",
    "    \n",
    "    # If our threshold is met, pass our data back out of the\n",
    "    # Step Function, else, end the Step Function with an error\n",
    "    if meets_threshold:\n",
    "        pass\n",
    "    else:\n",
    "        raise(\"THRESHOLD_CONFIDENCE_NOT_MET\")\n",
    "\n",
    "    return {\n",
    "        'statusCode': 200,\n",
    "        'body': json.dumps(event)\n",
    "    }\n",
    "```\n",
    "Once you have tested the lambda functions, save the code for each lambda function in a python script called 'lambda.py'.\n",
    "\n",
    "With your lambdas in place, you can use the Step Functions visual editor to construct a workflow that chains them together. In the Step Functions console you'll have the option to author a Standard step function *Visually*.\n",
    "\n",
    "When the visual editor opens, you'll have many options to add transitions in your workflow. We're going to keep it simple and have just one: to invoke Lambda functions. Add three of them chained together. For each one, you'll be able to select the Lambda functions you just created in the proper order, filter inputs and outputs, and give them descriptive names.\n",
    "\n",
    "Make sure that you:\n",
    "\n",
    "1. Are properly filtering the inputs and outputs of your invokations (e.g. `$.body`)\n",
    "2. Take care to remove the error handling from the last function - it's supposed to \"fail loudly\" for your operations colleagues!\n",
    "\n",
    "Take a screenshot of your working step function in action and export the step function as JSON for your submission package."
   ]
  },
  {
   "cell_type": "markdown",
   "metadata": {},
   "source": [
    "\n",
    "Great! Now you can use the files in `./test` as test files for our workflow. Depending on our threshold, our workflow should reliably pass predictions about images from `./test` on to downstream systems, while erroring out for inferences below our confidence threshold!\n",
    "\n",
    "### Testing and Evaluation\n",
    "\n",
    "Do several step function invokations using data from the `./test` folder. This process should give you confidence that the workflow both *succeeds* AND *fails* as expected. In addition, SageMaker Model Monitor will generate recordings of your data and inferences which we can visualize.\n",
    "\n",
    "Here's a function that can help you generate test inputs for your invokations:"
   ]
  },
  {
   "cell_type": "code",
   "execution_count": 36,
   "metadata": {
    "execution": {
     "iopub.execute_input": "2025-10-04T08:51:54.344733Z",
     "iopub.status.busy": "2025-10-04T08:51:54.344449Z",
     "iopub.status.idle": "2025-10-04T08:51:54.473705Z",
     "shell.execute_reply": "2025-10-04T08:51:54.473100Z",
     "shell.execute_reply.started": "2025-10-04T08:51:54.344713Z"
    }
   },
   "outputs": [
    {
     "data": {
      "text/plain": [
       "'{\"image_data\": \"\", \"s3_bucket\": \"sagemaker-us-east-1-148908537034\", \"s3_key\": \"test/velocipede_s_000041.png\"}'"
      ]
     },
     "execution_count": 36,
     "metadata": {},
     "output_type": "execute_result"
    }
   ],
   "source": [
    "import random\n",
    "import boto3\n",
    "import json\n",
    "\n",
    "def generate_test_case():\n",
    "    # Setup s3 in boto3\n",
    "    s3 = boto3.resource('s3')\n",
    "    \n",
    "   # Randomly pick from test folder in our bucket\n",
    "    objects = s3.Bucket(bucket).objects.filter(Prefix=\"test/\")\n",
    "    \n",
    "    # Grab any random object key from that folder!\n",
    "    obj = random.choice([x.key for x in objects])\n",
    "    \n",
    "    return json.dumps({\n",
    "        \"image_data\": \"\",\n",
    "        \"s3_bucket\": bucket,\n",
    "        \"s3_key\": obj\n",
    "    })\n",
    "    \n",
    "generate_test_case()"
   ]
  },
  {
   "cell_type": "markdown",
   "metadata": {},
   "source": [
    "In the Step Function dashboard for your new function, you can create new executions and copy in the generated test cases. Do several executions so that you can generate data you can evaluate and visualize.\n",
    "\n",
    "Once you've done several executions, let's visualize the record of our inferences. Pull in the JSONLines data from your inferences like so:"
   ]
  },
  {
   "cell_type": "code",
   "execution_count": 37,
   "metadata": {
    "execution": {
     "iopub.execute_input": "2025-10-04T08:53:29.222259Z",
     "iopub.status.busy": "2025-10-04T08:53:29.221984Z",
     "iopub.status.idle": "2025-10-04T08:53:29.443271Z",
     "shell.execute_reply": "2025-10-04T08:53:29.442421Z",
     "shell.execute_reply.started": "2025-10-04T08:53:29.222239Z"
    }
   },
   "outputs": [
    {
     "data": {
      "text/plain": [
       "['captured_data/AllTraffic/2025/10/04/08/44-11-981-04c92c7e-3666-48c8-963c-cb83a5bcf154.jsonl']"
      ]
     },
     "execution_count": 37,
     "metadata": {},
     "output_type": "execute_result"
    }
   ],
   "source": [
    "from sagemaker.s3 import S3Downloader\n",
    "\n",
    "# In S3 your data will be saved to a datetime-aware path\n",
    "# Find a path related to a datetime you're interested in\n",
    "data_path = f\"s3://{bucket}/data_capture/{endpoint}\"\n",
    "\n",
    "S3Downloader.download(data_path, \"captured_data\")\n",
    "\n",
    "# Feel free to repeat this multiple times and pull in more data\n"
   ]
  },
  {
   "cell_type": "markdown",
   "metadata": {},
   "source": [
    "The data are in JSONLines format, where multiple valid JSON objects are stacked on top of eachother in a single `jsonl` file. We'll import an open-source library, `jsonlines` that was purpose built for parsing this format."
   ]
  },
  {
   "cell_type": "code",
   "execution_count": 38,
   "metadata": {
    "execution": {
     "iopub.execute_input": "2025-10-04T08:53:34.125661Z",
     "iopub.status.busy": "2025-10-04T08:53:34.125374Z",
     "iopub.status.idle": "2025-10-04T08:53:36.733338Z",
     "shell.execute_reply": "2025-10-04T08:53:36.732392Z",
     "shell.execute_reply.started": "2025-10-04T08:53:34.125641Z"
    }
   },
   "outputs": [
    {
     "name": "stdout",
     "output_type": "stream",
     "text": [
      "Collecting jsonlines\n",
      "  Downloading jsonlines-4.0.0-py3-none-any.whl.metadata (1.6 kB)\n",
      "Requirement already satisfied: attrs>=19.2.0 in /opt/conda/lib/python3.12/site-packages (from jsonlines) (23.2.0)\n",
      "Downloading jsonlines-4.0.0-py3-none-any.whl (8.7 kB)\n",
      "Installing collected packages: jsonlines\n",
      "Successfully installed jsonlines-4.0.0\n"
     ]
    }
   ],
   "source": [
    "!pip install jsonlines\n",
    "import jsonlines"
   ]
  },
  {
   "cell_type": "markdown",
   "metadata": {},
   "source": [
    "Now we can extract the data from each of the source files:"
   ]
  },
  {
   "cell_type": "code",
   "execution_count": 40,
   "metadata": {
    "execution": {
     "iopub.execute_input": "2025-10-04T08:54:41.246746Z",
     "iopub.status.busy": "2025-10-04T08:54:41.246446Z",
     "iopub.status.idle": "2025-10-04T08:54:41.252817Z",
     "shell.execute_reply": "2025-10-04T08:54:41.252040Z",
     "shell.execute_reply.started": "2025-10-04T08:54:41.246724Z"
    }
   },
   "outputs": [
    {
     "name": "stdout",
     "output_type": "stream",
     "text": [
      "Loaded 1 records\n"
     ]
    }
   ],
   "source": [
    "import os\n",
    "import jsonlines\n",
    "\n",
    "# List the file names we downloaded - need to look in subdirectories\n",
    "json_data = []\n",
    "\n",
    "# Walk through all subdirectories to find .jsonl files\n",
    "for root, dirs, files in os.walk(\"./captured_data\"):\n",
    "    for file in files:\n",
    "        if file.endswith('.jsonl'):\n",
    "            file_path = os.path.join(root, file)\n",
    "            try:\n",
    "                with jsonlines.open(file_path) as f:\n",
    "                    for line in f:\n",
    "                        json_data.append(line)\n",
    "            except Exception as e:\n",
    "                print(f\"Error reading {file_path}: {e}\")\n",
    "\n",
    "print(f\"Loaded {len(json_data)} records\")"
   ]
  },
  {
   "cell_type": "markdown",
   "metadata": {},
   "source": [
    "The data should now be a list of dictionaries, with significant nesting. We'll give you an example of some code that grabs data out of the objects and visualizes it:"
   ]
  },
  {
   "cell_type": "code",
   "execution_count": 41,
   "metadata": {
    "execution": {
     "iopub.execute_input": "2025-10-04T08:54:46.514955Z",
     "iopub.status.busy": "2025-10-04T08:54:46.514611Z",
     "iopub.status.idle": "2025-10-04T08:54:46.520690Z",
     "shell.execute_reply": "2025-10-04T08:54:46.519944Z",
     "shell.execute_reply.started": "2025-10-04T08:54:46.514932Z"
    }
   },
   "outputs": [
    {
     "data": {
      "text/plain": [
       "([0.8227921724319458, 0.1772077977657318], '2025-10-04T08:44:11Z')"
      ]
     },
     "execution_count": 41,
     "metadata": {},
     "output_type": "execute_result"
    }
   ],
   "source": [
    "# Define how we'll get our data\n",
    "def simple_getter(obj):\n",
    "    inferences = obj[\"captureData\"][\"endpointOutput\"][\"data\"]\n",
    "    timestamp = obj[\"eventMetadata\"][\"inferenceTime\"]\n",
    "    return json.loads(inferences), timestamp\n",
    "\n",
    "simple_getter(json_data[0])"
   ]
  },
  {
   "cell_type": "code",
   "execution_count": null,
   "metadata": {},
   "outputs": [],
   "source": []
  },
  {
   "cell_type": "markdown",
   "metadata": {},
   "source": [
    "Finally, here's an example of a visualization you can build with this data. In this last part, you will take some time and build your own - the captured data has the input images, the resulting inferences, and the timestamps."
   ]
  },
  {
   "cell_type": "code",
   "execution_count": 42,
   "metadata": {
    "execution": {
     "iopub.execute_input": "2025-10-04T08:54:49.606389Z",
     "iopub.status.busy": "2025-10-04T08:54:49.606122Z",
     "iopub.status.idle": "2025-10-04T08:54:49.771353Z",
     "shell.execute_reply": "2025-10-04T08:54:49.770680Z",
     "shell.execute_reply.started": "2025-10-04T08:54:49.606369Z"
    }
   },
   "outputs": [
    {
     "name": "stderr",
     "output_type": "stream",
     "text": [
      "INFO:matplotlib.category:Using categorical units to plot a list of strings that are all parsable as floats or dates. If these strings should be plotted as numbers, cast to the appropriate data type before plotting.\n",
      "INFO:matplotlib.category:Using categorical units to plot a list of strings that are all parsable as floats or dates. If these strings should be plotted as numbers, cast to the appropriate data type before plotting.\n"
     ]
    },
    {
     "data": {
      "image/png": "[encoded data removed]",
      "text/plain": [
       "<Figure size 640x480 with 1 Axes>"
      ]
     },
     "metadata": {},
     "output_type": "display_data"
    }
   ],
   "source": [
    "# Populate the data for the x and y axis\n",
    "x = []\n",
    "y = []\n",
    "for obj in json_data:\n",
    "    inference, timestamp = simple_getter(obj)\n",
    "    \n",
    "    y.append(max(inference))\n",
    "    x.append(timestamp)\n",
    "\n",
    "# Todo: here is an visualization example, take some time to build another visual that helps monitor the result\n",
    "# Plot the data\n",
    "plt.scatter(x, y, c=['r' if k<.94 else 'b' for k in y ])\n",
    "plt.axhline(y=0.94, color='g', linestyle='--')\n",
    "plt.ylim(bottom=.88)\n",
    "\n",
    "# Add labels\n",
    "plt.ylabel(\"Confidence\")\n",
    "plt.suptitle(\"Observed Recent Inferences\", size=14)\n",
    "plt.title(\"Pictured with confidence threshold for production use\", size=10)\n",
    "\n",
    "# Give it some pizzaz!\n",
    "plt.style.use(\"Solarize_Light2\")\n",
    "plt.gcf().autofmt_xdate()"
   ]
  },
  {
   "cell_type": "markdown",
   "metadata": {},
   "source": [
    "### Todo: build your own visualization\n"
   ]
  },
  {
   "cell_type": "code",
   "execution_count": 47,
   "metadata": {
    "execution": {
     "iopub.execute_input": "2025-10-04T09:59:09.377731Z",
     "iopub.status.busy": "2025-10-04T09:59:09.377454Z",
     "iopub.status.idle": "2025-10-04T09:59:10.131189Z",
     "shell.execute_reply": "2025-10-04T09:59:10.130334Z",
     "shell.execute_reply.started": "2025-10-04T09:59:09.377707Z"
    }
   },
   "outputs": [
    {
     "data": {
      "image/png": "[encoded data removed]",
      "text/plain": [
       "<Figure size 1200x600 with 1 Axes>"
      ]
     },
     "metadata": {},
     "output_type": "display_data"
    },
    {
     "name": "stdout",
     "output_type": "stream",
     "text": [
      "Total inferences: 1\n",
      "Average confidence: 0.8228\n",
      "Min confidence: 0.8228\n",
      "Max confidence: 0.8228\n"
     ]
    }
   ],
   "source": [
    "import pandas as pd\n",
    "import matplotlib.pyplot as plt\n",
    "import json\n",
    "import os\n",
    "import jsonlines\n",
    "from sagemaker.s3 import S3Downloader\n",
    "\n",
    "# Download fresh data\n",
    "data_path = f\"s3://{bucket}/data_capture/{endpoint}\"\n",
    "S3Downloader.download(data_path, \"captured_data\")\n",
    "\n",
    "# Parse all JSONL files\n",
    "json_data = []\n",
    "for root, dirs, files in os.walk(\"./captured_data\"):\n",
    "    for file in files:\n",
    "        if file.endswith('.jsonl'):\n",
    "            file_path = os.path.join(root, file)\n",
    "            with jsonlines.open(file_path) as f:\n",
    "                for line in f:\n",
    "                    json_data.append(line)\n",
    "\n",
    "# Extract inference data\n",
    "confidence_scores = []\n",
    "timestamps = []\n",
    "\n",
    "for record in json_data:\n",
    "    try:\n",
    "        if 'captureData' in record:\n",
    "            output_data = record['captureData'].get('endpointOutput', {})\n",
    "            if 'data' in output_data:\n",
    "                inference_str = output_data['data']\n",
    "                inferences = json.loads(inference_str)\n",
    "                \n",
    "                max_confidence = max(inferences) if inferences else 0\n",
    "                confidence_scores.append(max_confidence)\n",
    "                \n",
    "                timestamp = record.get('eventMetadata', {}).get('inferenceTime', '')\n",
    "                timestamps.append(timestamp)\n",
    "    except Exception as e:\n",
    "        print(f\"Error parsing record: {e}\")\n",
    "        continue\n",
    "\n",
    "# Visualize\n",
    "if confidence_scores:\n",
    "    plt.figure(figsize=(12, 6))\n",
    "    plt.plot(range(len(confidence_scores)), confidence_scores, marker='o')\n",
    "    plt.axhline(y=0.93, color='r', linestyle='--', label='Threshold (0.93)')\n",
    "    plt.title('Model Inference Confidence Over Time')\n",
    "    plt.xlabel('Request Number')\n",
    "    plt.ylabel('Confidence Score')\n",
    "    plt.ylim(0, 1.0)\n",
    "    plt.legend()\n",
    "    plt.grid(True, alpha=0.3)\n",
    "    plt.show()\n",
    "    \n",
    "    print(f\"Total inferences: {len(confidence_scores)}\")\n",
    "    print(f\"Average confidence: {sum(confidence_scores)/len(confidence_scores):.4f}\")\n",
    "    print(f\"Min confidence: {min(confidence_scores):.4f}\")\n",
    "    print(f\"Max confidence: {max(confidence_scores):.4f}\")\n",
    "else:\n",
    "    print(\"No inference data found\")"
   ]
  },
  {
   "cell_type": "code",
   "execution_count": 46,
   "metadata": {
    "execution": {
     "iopub.execute_input": "2025-10-04T09:57:47.703889Z",
     "iopub.status.busy": "2025-10-04T09:57:47.703571Z",
     "iopub.status.idle": "2025-10-04T09:57:47.911476Z",
     "shell.execute_reply": "2025-10-04T09:57:47.910803Z",
     "shell.execute_reply.started": "2025-10-04T09:57:47.703864Z"
    }
   },
   "outputs": [],
   "source": []
  },
  {
   "cell_type": "markdown",
   "metadata": {},
   "source": [
    "### Congratulations!\n",
    "\n",
    "You've reached the end of the project. In this project you created an event-drivent ML workflow that can be incorporated into the Scones Unlimited production architecture. You used the SageMaker Estimator API to deploy your SageMaker Model and Endpoint, and you used AWS Lambda and Step Functions to orchestrate your ML workflow. Using SageMaker Model Monitor, you instrumented and observed your Endpoint, and at the end of the project you built a visualization to help stakeholders understand the performance of the Endpoint over time. If you're up for it, you can even go further with these stretch goals:\n",
    "\n",
    "* Extend your workflow to incorporate more classes: the CIFAR dataset includes other vehicles that Scones Unlimited can identify with this model.\n",
    "* Modify your event driven workflow: can you rewrite your Lambda functions so that the workflow can process multiple image inputs in parallel? Can the Step Function \"fan out\" to accomodate this new workflow?\n",
    "* Consider the test data generator we provided for you. Can we use it to create a \"dummy data\" generator, to simulate a continuous stream of input data? Or a big paralell load of data?\n",
    "* What if we want to get notified every time our step function errors out? Can we use the Step Functions visual editor in conjunction with a service like SNS to accomplish this? Try it out!\n",
    "\n",
    "\n"
   ]
  }
 ],
 "metadata": {
  "instance_type": "ml.t3.medium",
  "kernelspec": {
   "display_name": "Python 3 (ipykernel)",
   "language": "python",
   "name": "python3"
  },
  "language_info": {
   "codemirror_mode": {
    "name": "ipython",
    "version": 3
   },
   "file_extension": ".py",
   "mimetype": "text/x-python",
   "name": "python",
   "nbconvert_exporter": "python",
   "pygments_lexer": "ipython3",
   "version": "3.12.9"
  }
 },
 "nbformat": 4,
 "nbformat_minor": 4
}
