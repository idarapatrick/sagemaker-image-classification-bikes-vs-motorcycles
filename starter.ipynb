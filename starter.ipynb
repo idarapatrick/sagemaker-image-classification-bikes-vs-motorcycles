{
 "cells": [
  {
   "cell_type": "markdown",
   "metadata": {},
   "source": [
    "# Deploy and monitor a machine learning workflow for Image Classification"
   ]
  },
  {
   "cell_type": "markdown",
   "metadata": {},
   "source": [
    "## Setting up this notebook\n",
    "\n",
    "Notes about the instance size and kernel setup: this notebook has been tested on\n",
    "\n",
    "1. The `Python 3 (Data Science)` kernel\n",
    "2. The `ml.t3.medium` Sagemaker notebook instance\n",
    "\n",
    "## Data Staging\n",
    "\n",
    "We'll use a sample dataset called CIFAR to simulate the challenges Scones Unlimited are facing in Image Classification. In order to start working with CIFAR we'll need to:\n",
    "\n",
    "1. Extract the data from a hosting service\n",
    "2. Transform it into a usable shape and format\n",
    "3. Load it into a production system\n",
    "\n",
    "In other words, we're going to do some simple ETL!\n",
    "\n",
    "### 1. Extract the data from the hosting service\n",
    "\n",
    "In the cell below, define a function `extract_cifar_data` that extracts python version of the CIFAR-100 dataset. The CIFAR dataaset is open source and generously hosted by the University of Toronto at: https://www.cs.toronto.edu/~kriz/cifar-100-python.tar.gz "
   ]
  },
  {
   "cell_type": "code",
   "execution_count": 55,
   "metadata": {
    "execution": {
     "iopub.execute_input": "2025-10-04T21:37:00.295786Z",
     "iopub.status.busy": "2025-10-04T21:37:00.295099Z",
     "iopub.status.idle": "2025-10-04T21:37:00.301224Z",
     "shell.execute_reply": "2025-10-04T21:37:00.300167Z",
     "shell.execute_reply.started": "2025-10-04T21:37:00.295654Z"
    }
   },
   "outputs": [],
   "source": [
    "import requests\n",
    "\n",
    "def extract_cifar_data(url, filename=\"cifar.tar.gz\"):\n",
    "    \"\"\"A function for extracting the CIFAR-100 dataset and storing it as a gzipped file\n",
    "    \n",
    "    Arguments:\n",
    "    url      -- the URL where the dataset is hosted\n",
    "    filename -- the full path where the dataset will be written\n",
    "    \n",
    "    \"\"\"\n",
    "    \n",
    "    # Todo: request the data from the data url\n",
    "    # Hint: use `requests.get` method\n",
    "    r = requests.get(url)\n",
    "    with open(filename, \"wb\") as file_context:\n",
    "        file_context.write(r.content)\n",
    "    return"
   ]
  },
  {
   "cell_type": "markdown",
   "metadata": {},
   "source": [
    "Let's test it out! Run the following cell and check whether a new file `cifar.tar.gz` is created in the file explorer."
   ]
  },
  {
   "cell_type": "code",
   "execution_count": 56,
   "metadata": {
    "execution": {
     "iopub.execute_input": "2025-10-04T21:37:02.313896Z",
     "iopub.status.busy": "2025-10-04T21:37:02.313549Z",
     "iopub.status.idle": "2025-10-04T21:37:06.293321Z",
     "shell.execute_reply": "2025-10-04T21:37:06.292431Z",
     "shell.execute_reply.started": "2025-10-04T21:37:02.313871Z"
    }
   },
   "outputs": [],
   "source": [
    "extract_cifar_data(\"https://www.cs.toronto.edu/~kriz/cifar-100-python.tar.gz\")     "
   ]
  },
  {
   "cell_type": "markdown",
   "metadata": {},
   "source": [
    "### 2. Transform the data into a usable shape and format\n",
    "\n",
    "Clearly, distributing the data as a gzipped archive makes sense for the hosting service! It saves on bandwidth, storage, and it's a widely-used archive format. In fact, it's so widely used that the Python community ships a utility for working with them, `tarfile`, as part of its Standard Library. Execute the following cell to decompress your extracted dataset:"
   ]
  },
  {
   "cell_type": "code",
   "execution_count": 57,
   "metadata": {
    "execution": {
     "iopub.execute_input": "2025-10-04T21:37:11.648217Z",
     "iopub.status.busy": "2025-10-04T21:37:11.647863Z",
     "iopub.status.idle": "2025-10-04T21:37:12.942404Z",
     "shell.execute_reply": "2025-10-04T21:37:12.941752Z",
     "shell.execute_reply.started": "2025-10-04T21:37:11.648190Z"
    }
   },
   "outputs": [],
   "source": [
    "import tarfile\n",
    "with tarfile.open(\"cifar.tar.gz\", \"r:gz\") as tar:\n",
    "    tar.extractall(filter='data')"
   ]
  },
  {
   "cell_type": "markdown",
   "metadata": {},
   "source": [
    "A new folder `cifar-100-python` should be created, containing `meta`, `test`, and `train` files. These files are `pickles` and the [CIFAR homepage](https://www.cs.toronto.edu/~kriz/cifar.html) provides a simple script that can be used to load them. We've adapted the script below for you to run:"
   ]
  },
  {
   "cell_type": "code",
   "execution_count": 58,
   "metadata": {
    "execution": {
     "iopub.execute_input": "2025-10-04T21:37:15.369542Z",
     "iopub.status.busy": "2025-10-04T21:37:15.369284Z",
     "iopub.status.idle": "2025-10-04T21:37:15.651844Z",
     "shell.execute_reply": "2025-10-04T21:37:15.651161Z",
     "shell.execute_reply.started": "2025-10-04T21:37:15.369521Z"
    }
   },
   "outputs": [],
   "source": [
    "import pickle\n",
    "\n",
    "with open(\"./cifar-100-python/meta\", \"rb\") as f:\n",
    "    dataset_meta = pickle.load(f, encoding='bytes')\n",
    "\n",
    "with open(\"./cifar-100-python/test\", \"rb\") as f:\n",
    "    dataset_test = pickle.load(f, encoding='bytes')\n",
    "\n",
    "with open(\"./cifar-100-python/train\", \"rb\") as f:\n",
    "    dataset_train = pickle.load(f, encoding='bytes')"
   ]
  },
  {
   "cell_type": "code",
   "execution_count": 59,
   "metadata": {
    "execution": {
     "iopub.execute_input": "2025-10-04T21:37:17.860460Z",
     "iopub.status.busy": "2025-10-04T21:37:17.860207Z",
     "iopub.status.idle": "2025-10-04T21:37:17.864163Z",
     "shell.execute_reply": "2025-10-04T21:37:17.863526Z",
     "shell.execute_reply.started": "2025-10-04T21:37:17.860441Z"
    }
   },
   "outputs": [
    {
     "data": {
      "text/plain": [
       "dict_keys([b'filenames', b'batch_label', b'fine_labels', b'coarse_labels', b'data'])"
      ]
     },
     "execution_count": 59,
     "metadata": {},
     "output_type": "execute_result"
    }
   ],
   "source": [
    "# Feel free to explore the datasets\n",
    "\n",
    "dataset_train.keys()"
   ]
  },
  {
   "cell_type": "markdown",
   "metadata": {},
   "source": [
    "As documented on the homepage, `b'data'` contains rows of 3073 unsigned integers, representing three channels (red, green, and blue) for one 32x32 pixel image per row."
   ]
  },
  {
   "cell_type": "code",
   "execution_count": 60,
   "metadata": {
    "execution": {
     "iopub.execute_input": "2025-10-04T21:37:20.174640Z",
     "iopub.status.busy": "2025-10-04T21:37:20.174333Z",
     "iopub.status.idle": "2025-10-04T21:37:20.179545Z",
     "shell.execute_reply": "2025-10-04T21:37:20.178716Z",
     "shell.execute_reply.started": "2025-10-04T21:37:20.174618Z"
    }
   },
   "outputs": [
    {
     "data": {
      "text/plain": [
       "3072"
      ]
     },
     "execution_count": 60,
     "metadata": {},
     "output_type": "execute_result"
    }
   ],
   "source": [
    "32*32*3"
   ]
  },
  {
   "cell_type": "markdown",
   "metadata": {},
   "source": [
    "For a simple gut-check, let's transform one of our images. Each 1024 items in a row is a channel (red, green, then blue). Each 32 items in the channel are a row in the 32x32 image. Using python, we can stack these channels into a 32x32x3 array, and save it as a PNG file:"
   ]
  },
  {
   "cell_type": "code",
   "execution_count": 61,
   "metadata": {
    "execution": {
     "iopub.execute_input": "2025-10-04T21:37:22.262049Z",
     "iopub.status.busy": "2025-10-04T21:37:22.261766Z",
     "iopub.status.idle": "2025-10-04T21:37:22.266196Z",
     "shell.execute_reply": "2025-10-04T21:37:22.265466Z",
     "shell.execute_reply.started": "2025-10-04T21:37:22.262027Z"
    }
   },
   "outputs": [],
   "source": [
    "import numpy as np\n",
    "\n",
    "# Each 1024 in a row is a channel (red, green, then blue)\n",
    "row = dataset_train[b'data'][0]\n",
    "red, green, blue = row[0:1024], row[1024:2048], row[2048:]\n",
    "\n",
    "# Each 32 items in the channel are a row in the 32x32 image\n",
    "red = red.reshape(32,32)\n",
    "green = green.reshape(32,32)\n",
    "blue = blue.reshape(32,32)\n",
    "\n",
    "# Combine the channels into a 32x32x3 image!\n",
    "combined = np.dstack((red,green,blue))"
   ]
  },
  {
   "cell_type": "markdown",
   "metadata": {},
   "source": [
    "For a more concise version, consider the following:"
   ]
  },
  {
   "cell_type": "code",
   "execution_count": 62,
   "metadata": {
    "execution": {
     "iopub.execute_input": "2025-10-04T21:37:24.417989Z",
     "iopub.status.busy": "2025-10-04T21:37:24.417741Z",
     "iopub.status.idle": "2025-10-04T21:37:24.421262Z",
     "shell.execute_reply": "2025-10-04T21:37:24.420634Z",
     "shell.execute_reply.started": "2025-10-04T21:37:24.417970Z"
    }
   },
   "outputs": [],
   "source": [
    "# All in one:\n",
    "test_image = np.dstack((\n",
    "    row[0:1024].reshape(32,32),\n",
    "    row[1024:2048].reshape(32,32),\n",
    "    row[2048:].reshape(32,32)\n",
    "))"
   ]
  },
  {
   "cell_type": "code",
   "execution_count": 63,
   "metadata": {
    "execution": {
     "iopub.execute_input": "2025-10-04T21:37:26.525232Z",
     "iopub.status.busy": "2025-10-04T21:37:26.524941Z",
     "iopub.status.idle": "2025-10-04T21:37:26.657771Z",
     "shell.execute_reply": "2025-10-04T21:37:26.657044Z",
     "shell.execute_reply.started": "2025-10-04T21:37:26.525212Z"
    }
   },
   "outputs": [
    {
     "data": {
      "image/png": "[encoded data removed]",
      "text/plain": [
       "<Figure size 640x480 with 1 Axes>"
      ]
     },
     "metadata": {},
     "output_type": "display_data"
    }
   ],
   "source": [
    "import matplotlib.pyplot as plt\n",
    "plt.imshow(test_image);"
   ]
  },
  {
   "cell_type": "markdown",
   "metadata": {},
   "source": [
    "Looks like a cow! Let's check the label. `dataset_meta` contains label names in order, and `dataset_train` has a list of labels for each row."
   ]
  },
  {
   "cell_type": "code",
   "execution_count": 64,
   "metadata": {
    "execution": {
     "iopub.execute_input": "2025-10-04T21:37:28.858704Z",
     "iopub.status.busy": "2025-10-04T21:37:28.858427Z",
     "iopub.status.idle": "2025-10-04T21:37:28.863200Z",
     "shell.execute_reply": "2025-10-04T21:37:28.862264Z",
     "shell.execute_reply.started": "2025-10-04T21:37:28.858682Z"
    }
   },
   "outputs": [
    {
     "data": {
      "text/plain": [
       "19"
      ]
     },
     "execution_count": 64,
     "metadata": {},
     "output_type": "execute_result"
    }
   ],
   "source": [
    "dataset_train[b'fine_labels'][0]"
   ]
  },
  {
   "cell_type": "markdown",
   "metadata": {},
   "source": [
    "Our image has a label of `19`, so let's see what the 19th item is in the list of label names."
   ]
  },
  {
   "cell_type": "code",
   "execution_count": 65,
   "metadata": {
    "execution": {
     "iopub.execute_input": "2025-10-04T21:37:30.788474Z",
     "iopub.status.busy": "2025-10-04T21:37:30.788202Z",
     "iopub.status.idle": "2025-10-04T21:37:30.791671Z",
     "shell.execute_reply": "2025-10-04T21:37:30.791170Z",
     "shell.execute_reply.started": "2025-10-04T21:37:30.788454Z"
    }
   },
   "outputs": [
    {
     "name": "stdout",
     "output_type": "stream",
     "text": [
      "b'cattle'\n"
     ]
    }
   ],
   "source": [
    "print(dataset_meta[b'fine_label_names'][19])"
   ]
  },
  {
   "cell_type": "markdown",
   "metadata": {},
   "source": [
    "Ok! 'cattle' sounds about right. By the way, using the previous two lines we can do:"
   ]
  },
  {
   "cell_type": "code",
   "execution_count": 66,
   "metadata": {
    "execution": {
     "iopub.execute_input": "2025-10-04T21:37:32.403504Z",
     "iopub.status.busy": "2025-10-04T21:37:32.403244Z",
     "iopub.status.idle": "2025-10-04T21:37:32.406827Z",
     "shell.execute_reply": "2025-10-04T21:37:32.406167Z",
     "shell.execute_reply.started": "2025-10-04T21:37:32.403485Z"
    }
   },
   "outputs": [
    {
     "name": "stdout",
     "output_type": "stream",
     "text": [
      "b'cattle'\n"
     ]
    }
   ],
   "source": [
    "n = 0\n",
    "print(dataset_meta[b'fine_label_names'][dataset_train[b'fine_labels'][n]])"
   ]
  },
  {
   "cell_type": "markdown",
   "metadata": {},
   "source": [
    "Now we know how to check labels, is there a way that we can also check file names? `dataset_train` also contains a `b'filenames'` key. Let's see what we have here:"
   ]
  },
  {
   "cell_type": "code",
   "execution_count": 67,
   "metadata": {
    "execution": {
     "iopub.execute_input": "2025-10-04T21:37:34.894522Z",
     "iopub.status.busy": "2025-10-04T21:37:34.894261Z",
     "iopub.status.idle": "2025-10-04T21:37:34.897612Z",
     "shell.execute_reply": "2025-10-04T21:37:34.897083Z",
     "shell.execute_reply.started": "2025-10-04T21:37:34.894503Z"
    }
   },
   "outputs": [
    {
     "name": "stdout",
     "output_type": "stream",
     "text": [
      "b'bos_taurus_s_000507.png'\n"
     ]
    }
   ],
   "source": [
    "print(dataset_train[b'filenames'][0])"
   ]
  },
  {
   "cell_type": "markdown",
   "metadata": {},
   "source": [
    "\"Taurus\" is the name of a subspecies of cattle, so this looks like a pretty reasonable filename. To save an image we can also do:"
   ]
  },
  {
   "cell_type": "code",
   "execution_count": 68,
   "metadata": {
    "execution": {
     "iopub.execute_input": "2025-10-04T21:37:36.952754Z",
     "iopub.status.busy": "2025-10-04T21:37:36.952493Z",
     "iopub.status.idle": "2025-10-04T21:37:36.956060Z",
     "shell.execute_reply": "2025-10-04T21:37:36.955551Z",
     "shell.execute_reply.started": "2025-10-04T21:37:36.952735Z"
    }
   },
   "outputs": [],
   "source": [
    "plt.imsave(\"file.png\", test_image)"
   ]
  },
  {
   "cell_type": "markdown",
   "metadata": {},
   "source": [
    "Your new PNG file should now appear in the file explorer -- go ahead and pop it open to see!\n",
    "\n",
    "Now that you know how to reshape the images, save them as files, and capture their filenames and labels, let's just capture all the bicycles and motorcycles and save them. Scones Unlimited can use a model that tells these apart to route delivery drivers automatically.\n",
    "\n",
    "In the following cell, identify the label numbers for Bicycles and Motorcycles:"
   ]
  },
  {
   "cell_type": "code",
   "execution_count": 69,
   "metadata": {
    "execution": {
     "iopub.execute_input": "2025-10-04T21:37:38.823166Z",
     "iopub.status.busy": "2025-10-04T21:37:38.822874Z",
     "iopub.status.idle": "2025-10-04T21:37:38.827682Z",
     "shell.execute_reply": "2025-10-04T21:37:38.826769Z",
     "shell.execute_reply.started": "2025-10-04T21:37:38.823145Z"
    }
   },
   "outputs": [
    {
     "name": "stdout",
     "output_type": "stream",
     "text": [
      "Fine labels: [b'apple', b'aquarium_fish', b'baby', b'bear', b'beaver', b'bed', b'bee', b'beetle', b'bicycle', b'bottle', b'bowl', b'boy', b'bridge', b'bus', b'butterfly', b'camel', b'can', b'castle', b'caterpillar', b'cattle', b'chair', b'chimpanzee', b'clock', b'cloud', b'cockroach', b'couch', b'crab', b'crocodile', b'cup', b'dinosaur', b'dolphin', b'elephant', b'flatfish', b'forest', b'fox', b'girl', b'hamster', b'house', b'kangaroo', b'keyboard', b'lamp', b'lawn_mower', b'leopard', b'lion', b'lizard', b'lobster', b'man', b'maple_tree', b'motorcycle', b'mountain', b'mouse', b'mushroom', b'oak_tree', b'orange', b'orchid', b'otter', b'palm_tree', b'pear', b'pickup_truck', b'pine_tree', b'plain', b'plate', b'poppy', b'porcupine', b'possum', b'rabbit', b'raccoon', b'ray', b'road', b'rocket', b'rose', b'sea', b'seal', b'shark', b'shrew', b'skunk', b'skyscraper', b'snail', b'snake', b'spider', b'squirrel', b'streetcar', b'sunflower', b'sweet_pepper', b'table', b'tank', b'telephone', b'television', b'tiger', b'tractor', b'train', b'trout', b'tulip', b'turtle', b'wardrobe', b'whale', b'willow_tree', b'wolf', b'woman', b'worm']\n",
      "Bicycle label: 8\n",
      "Motorcycle label: 48\n"
     ]
    }
   ],
   "source": [
    "import pandas as pd\n",
    "\n",
    "# Check the fine_label_names in meta to find bicycle and motorcycle\n",
    "print(\"Fine labels:\", dataset_meta[b'fine_label_names'])\n",
    "\n",
    "# Find the index of bicycle and motorcycle\n",
    "bicycle_label = dataset_meta[b'fine_label_names'].index(b'bicycle')\n",
    "motorcycle_label = dataset_meta[b'fine_label_names'].index(b'motorcycle')\n",
    "\n",
    "print(f\"Bicycle label: {bicycle_label}\")\n",
    "print(f\"Motorcycle label: {motorcycle_label}\")\n"
   ]
  },
  {
   "cell_type": "markdown",
   "metadata": {},
   "source": [
    "Good job! We only need objects with label 8 and 48 -- this drastically simplifies our handling of the data! Below we construct a dataframe for you, and you can safely drop the rows that don't contain observations about bicycles and motorcycles. Fill in the missing lines below to drop all other rows:"
   ]
  },
  {
   "cell_type": "code",
   "execution_count": 70,
   "metadata": {
    "execution": {
     "iopub.execute_input": "2025-10-04T21:37:40.713500Z",
     "iopub.status.busy": "2025-10-04T21:37:40.713241Z",
     "iopub.status.idle": "2025-10-04T21:37:40.764671Z",
     "shell.execute_reply": "2025-10-04T21:37:40.763946Z",
     "shell.execute_reply.started": "2025-10-04T21:37:40.713480Z"
    }
   },
   "outputs": [],
   "source": [
    "#Construct the dataframe\n",
    "df_train = pd.DataFrame({\n",
    "    \"filenames\": dataset_train[b'filenames'],\n",
    "    \"labels\": dataset_train[b'fine_labels'],\n",
    "    \"row\": range(len(dataset_train[b'filenames']))\n",
    "})\n",
    "# Drop all rows from df_train where label is not 8 or 48\n",
    "df_train = df_train[df_train['labels'].isin([8, 48])]\n",
    "\n",
    "# Decode df_train.filenames so they are regular strings\n",
    "df_train[\"filenames\"] = df_train[\"filenames\"].apply(\n",
    "    lambda x: x.decode(\"utf-8\")\n",
    ")\n",
    "\n",
    "df_test = pd.DataFrame({\n",
    "    \"filenames\": dataset_test[b'filenames'],\n",
    "    \"labels\": dataset_test[b'fine_labels'],\n",
    "    \"row\": range(len(dataset_test[b'filenames']))\n",
    "})\n",
    "# Drop all rows from df_test where label is not 8 or 48\n",
    "df_test = df_test[df_test['labels'].isin([8, 48])]\n",
    "\n",
    "# Decode df_test.filenames so they are regular strings\n",
    "df_test[\"filenames\"] = df_test[\"filenames\"].apply(\n",
    "    lambda x: x.decode(\"utf-8\")\n",
    ")"
   ]
  },
  {
   "cell_type": "markdown",
   "metadata": {},
   "source": [
    "Now that the data is filtered for just our classes, we can save all our images."
   ]
  },
  {
   "cell_type": "code",
   "execution_count": 71,
   "metadata": {
    "execution": {
     "iopub.execute_input": "2025-10-04T21:37:44.090674Z",
     "iopub.status.busy": "2025-10-04T21:37:44.090396Z",
     "iopub.status.idle": "2025-10-04T21:37:44.094148Z",
     "shell.execute_reply": "2025-10-04T21:37:44.093335Z",
     "shell.execute_reply.started": "2025-10-04T21:37:44.090654Z"
    }
   },
   "outputs": [],
   "source": [
    "import os\n",
    "os.makedirs('./train', exist_ok=True)\n",
    "os.makedirs('./test', exist_ok=True)"
   ]
  },
  {
   "cell_type": "markdown",
   "metadata": {},
   "source": [
    "In the previous sections we introduced you to several key snippets of code:\n",
    "\n",
    "1. Grabbing the image data:\n",
    "\n",
    "```python\n",
    "dataset_train[b'data'][0]\n",
    "```\n",
    "\n",
    "2. A simple idiom for stacking the image data into the right shape\n",
    "\n",
    "```python\n",
    "import numpy as np\n",
    "np.dstack((\n",
    "    row[0:1024].reshape(32,32),\n",
    "    row[1024:2048].reshape(32,32),\n",
    "    row[2048:].reshape(32,32)\n",
    "))\n",
    "```\n",
    "\n",
    "3. A simple `matplotlib` utility for saving images\n",
    "\n",
    "```python\n",
    "plt.imsave(path+row['filenames'], target)\n",
    "```\n",
    "\n",
    "Compose these together into a function that saves all the images into the `./test` and `./train` directories. Use the comments in the body of the `save_images` function below to guide your construction of the function:\n"
   ]
  },
  {
   "cell_type": "code",
   "execution_count": 72,
   "metadata": {
    "execution": {
     "iopub.execute_input": "2025-10-04T21:37:47.507184Z",
     "iopub.status.busy": "2025-10-04T21:37:47.506919Z",
     "iopub.status.idle": "2025-10-04T21:37:48.282510Z",
     "shell.execute_reply": "2025-10-04T21:37:48.281871Z",
     "shell.execute_reply.started": "2025-10-04T21:37:47.507165Z"
    }
   },
   "outputs": [
    {
     "data": {
      "text/plain": [
       "27           safety_bike_s_000390.png\n",
       "28                  bike_s_000658.png\n",
       "116           velocipede_s_001744.png\n",
       "161                 bike_s_000643.png\n",
       "319     ordinary_bicycle_s_000437.png\n",
       "                    ...              \n",
       "9654          trail_bike_s_000073.png\n",
       "9692                bike_s_000941.png\n",
       "9833          motorcycle_s_000141.png\n",
       "9928    ordinary_bicycle_s_000105.png\n",
       "9939             bicycle_s_001218.png\n",
       "Length: 200, dtype: object"
      ]
     },
     "execution_count": 72,
     "metadata": {},
     "output_type": "execute_result"
    }
   ],
   "source": [
    "def save_images(row, dataset, path):\n",
    "    # Grab the image data in row-major form\n",
    "    img = dataset[b'data'][row['row']]\n",
    "    \n",
    "    # Consolidated stacking/reshaping from earlier\n",
    "    target = np.dstack((\n",
    "        img[0:1024].reshape(32,32),\n",
    "        img[1024:2048].reshape(32,32),\n",
    "        img[2048:].reshape(32,32)\n",
    "    ))\n",
    "    \n",
    "    # Save the image\n",
    "    plt.imsave(path + row['filenames'], target)\n",
    "    \n",
    "    # Return any signal data you want for debugging\n",
    "    return row['filenames']\n",
    "\n",
    "# Save ALL images using the save_images function\n",
    "df_train.apply(lambda row: save_images(row, dataset_train, './train/'), axis=1)\n",
    "df_test.apply(lambda row: save_images(row, dataset_test, './test/'), axis=1)"
   ]
  },
  {
   "cell_type": "markdown",
   "metadata": {},
   "source": [
    "### 3. Load the data\n",
    "\n",
    "Now we can load the data into S3.\n",
    "\n",
    "Using the sagemaker SDK grab the current region, execution role, and bucket."
   ]
  },
  {
   "cell_type": "code",
   "execution_count": 73,
   "metadata": {
    "execution": {
     "iopub.execute_input": "2025-10-04T21:37:52.818550Z",
     "iopub.status.busy": "2025-10-04T21:37:52.818282Z",
     "iopub.status.idle": "2025-10-04T21:37:53.164649Z",
     "shell.execute_reply": "2025-10-04T21:37:53.163697Z",
     "shell.execute_reply.started": "2025-10-04T21:37:52.818530Z"
    }
   },
   "outputs": [
    {
     "name": "stdout",
     "output_type": "stream",
     "text": [
      "Default Bucket: sagemaker-us-east-1-148908537034\n",
      "AWS Region: us-east-1\n",
      "RoleArn: arn:aws:iam::148908537034:role/service-role/AmazonSageMaker-ExecutionRole-20251003T235239\n"
     ]
    }
   ],
   "source": [
    "import sagemaker\n",
    "\n",
    "# Get the default SageMaker session and bucket\n",
    "sess = sagemaker.Session()\n",
    "bucket = sess.default_bucket()\n",
    "print(\"Default Bucket: {}\".format(bucket))\n",
    "\n",
    "region = sess.boto_region_name\n",
    "print(\"AWS Region: {}\".format(region))\n",
    "\n",
    "role = sagemaker.get_execution_role()\n",
    "print(\"RoleArn: {}\".format(role))"
   ]
  },
  {
   "cell_type": "markdown",
   "metadata": {},
   "source": [
    "With this data we can easily sync your data up into S3!"
   ]
  },
  {
   "cell_type": "code",
   "execution_count": null,
   "metadata": {},
   "outputs": [],
   "source": [
    "import os\n",
    "from IPython.display import clear_output\n",
    "\n",
    "os.environ[\"DEFAULT_S3_BUCKET\"] = bucket\n",
    "!aws s3 sync ./train s3://${DEFAULT_S3_BUCKET}/train/\n",
    "!aws s3 sync ./test s3://${DEFAULT_S3_BUCKET}/test/\n",
    "\n",
    "result = [i for i in range(1000000)]\n",
    "\n",
    "# Clear the output but keep the execution results in memory\n",
    "clear_output(wait=True)\n"
   ]
  },
  {
   "cell_type": "markdown",
   "metadata": {},
   "source": [
    "And that's it! You can check the bucket and verify that the items were uploaded.\n",
    "\n",
    "## Model Training\n",
    "\n",
    "For Image Classification, Sagemaker [also expects metadata](https://docs.aws.amazon.com/sagemaker/latest/dg/image-classification.html) e.g. in the form of TSV files with labels and filepaths. We can generate these using our Pandas DataFrames from earlier:"
   ]
  },
  {
   "cell_type": "code",
   "execution_count": 75,
   "metadata": {
    "execution": {
     "iopub.execute_input": "2025-10-04T21:38:20.058846Z",
     "iopub.status.busy": "2025-10-04T21:38:20.058538Z",
     "iopub.status.idle": "2025-10-04T21:38:20.078796Z",
     "shell.execute_reply": "2025-10-04T21:38:20.078123Z",
     "shell.execute_reply.started": "2025-10-04T21:38:20.058824Z"
    }
   },
   "outputs": [],
   "source": [
    "def to_metadata_file(df, prefix):\n",
    "    df[\"s3_path\"] = df[\"filenames\"]\n",
    "    df[\"labels\"] = df[\"labels\"].apply(lambda x: 0 if x==8 else 1)\n",
    "    return df[[\"row\", \"labels\", \"s3_path\"]].to_csv(\n",
    "        f\"{prefix}.lst\", sep=\"\\t\", index=False, header=False\n",
    "    )\n",
    "    \n",
    "to_metadata_file(df_train.copy(), \"train\")\n",
    "to_metadata_file(df_test.copy(), \"test\")"
   ]
  },
  {
   "cell_type": "markdown",
   "metadata": {},
   "source": [
    "We can also upload our manifest files:"
   ]
  },
  {
   "cell_type": "code",
   "execution_count": 76,
   "metadata": {
    "execution": {
     "iopub.execute_input": "2025-10-04T21:38:20.610150Z",
     "iopub.status.busy": "2025-10-04T21:38:20.609867Z",
     "iopub.status.idle": "2025-10-04T21:38:21.363568Z",
     "shell.execute_reply": "2025-10-04T21:38:21.362735Z",
     "shell.execute_reply.started": "2025-10-04T21:38:20.610128Z"
    }
   },
   "outputs": [],
   "source": [
    "import boto3\n",
    "\n",
    "# Upload files\n",
    "boto3.Session().resource('s3').Bucket(\n",
    "    bucket).Object('train.lst').upload_file('./train.lst')\n",
    "boto3.Session().resource('s3').Bucket(\n",
    "    bucket).Object('test.lst').upload_file('./test.lst')"
   ]
  },
  {
   "cell_type": "markdown",
   "metadata": {},
   "source": [
    "Using the `bucket` and `region` info we can get the latest prebuilt container to run our training job, and define an output location on our s3 bucket for the model. Use the `image_uris` function from the SageMaker SDK to retrieve the latest `image-classification` image below:"
   ]
  },
  {
   "cell_type": "code",
   "execution_count": 77,
   "metadata": {
    "execution": {
     "iopub.execute_input": "2025-10-04T21:38:21.364938Z",
     "iopub.status.busy": "2025-10-04T21:38:21.364606Z",
     "iopub.status.idle": "2025-10-04T21:38:21.389972Z",
     "shell.execute_reply": "2025-10-04T21:38:21.389100Z",
     "shell.execute_reply.started": "2025-10-04T21:38:21.364906Z"
    }
   },
   "outputs": [
    {
     "name": "stderr",
     "output_type": "stream",
     "text": [
      "INFO:sagemaker.image_uris:Same images used for training and inference. Defaulting to image scope: inference.\n",
      "INFO:sagemaker.image_uris:Ignoring unnecessary instance type: None.\n"
     ]
    }
   ],
   "source": [
    "# Use the image_uris function to retrieve the latest 'image-classification' image\n",
    "from sagemaker import image_uris\n",
    "\n",
    "# Use the image_uris function to retrieve the latest 'image-classification' image\n",
    "algo_image = image_uris.retrieve(framework='image-classification', region=region)\n",
    "s3_output_location = f\"s3://{bucket}/models/image_model\""
   ]
  },
  {
   "cell_type": "markdown",
   "metadata": {},
   "source": [
    "We're ready to create an estimator! Create an estimator `img_classifier_model` that uses one instance of `ml.p3.2xlarge`. Ensure that y ou use the output location we defined above - we'll be referring to that later!"
   ]
  },
  {
   "cell_type": "code",
   "execution_count": 80,
   "metadata": {
    "execution": {
     "iopub.execute_input": "2025-10-04T21:38:37.181431Z",
     "iopub.status.busy": "2025-10-04T21:38:37.181161Z",
     "iopub.status.idle": "2025-10-04T21:38:37.192778Z",
     "shell.execute_reply": "2025-10-04T21:38:37.191987Z",
     "shell.execute_reply.started": "2025-10-04T21:38:37.181411Z"
    }
   },
   "outputs": [],
   "source": [
    "img_classifier_model = sagemaker.estimator.Estimator(\n",
    "    image_uri=algo_image,\n",
    "    role=role,\n",
    "    instance_count=1,\n",
    "    instance_type='ml.p3.2xlarge',\n",
    "    output_path=s3_output_location,\n",
    "    sagemaker_session=sess\n",
    ")\n",
    "\n",
    "img_classifier_model.set_hyperparameters(\n",
    "    image_shape='3,32,32',\n",
    "    num_classes=2,\n",
    "    num_training_samples=len(df_train)\n",
    ")"
   ]
  },
  {
   "cell_type": "markdown",
   "metadata": {},
   "source": [
    "We can also set a few key hyperparameters and define the inputs for our model:"
   ]
  },
  {
   "cell_type": "code",
   "execution_count": 81,
   "metadata": {
    "execution": {
     "iopub.execute_input": "2025-10-04T21:38:39.396670Z",
     "iopub.status.busy": "2025-10-04T21:38:39.396360Z",
     "iopub.status.idle": "2025-10-04T21:38:39.400462Z",
     "shell.execute_reply": "2025-10-04T21:38:39.399560Z",
     "shell.execute_reply.started": "2025-10-04T21:38:39.396645Z"
    }
   },
   "outputs": [],
   "source": [
    "img_classifier_model.set_hyperparameters(\n",
    "    image_shape='3,32,32',\n",
    "    num_classes=2,\n",
    "    num_training_samples=len(df_train)\n",
    ")"
   ]
  },
  {
   "cell_type": "markdown",
   "metadata": {},
   "source": [
    "The `image-classification` image uses four input channels with very specific input parameters. For convenience, we've provided them below:"
   ]
  },
  {
   "cell_type": "code",
   "execution_count": null,
   "metadata": {},
   "outputs": [],
   "source": [
    "import boto3\n",
    "import os\n",
    "from IPython.display import clear_output\n",
    "\n",
    "s3 = boto3.client('s3')\n",
    "\n",
    "from sagemaker.debugger import Rule, rule_configs\n",
    "from sagemaker.session import TrainingInput\n",
    "\n",
    "train_folder = 'train'\n",
    "test_folder = 'test'\n",
    "\n",
    "# Upload training images\n",
    "for filename in os.listdir(train_folder):\n",
    "    if filename.lower().endswith(('.png', '.jpg', '.jpeg', '.tiff', '.bmp')):  # check for image files\n",
    "        local_path = os.path.join(train_folder, filename)\n",
    "        try:\n",
    "            print(f\"Uploading training image: {filename}\")\n",
    "            s3.upload_file(\n",
    "                local_path,  # source file\n",
    "                bucket,      # bucket name\n",
    "                f\"train/{filename}\"  # destination in S3\n",
    "            )\n",
    "        except Exception as e:\n",
    "            print(f\"Error uploading {filename}: {str(e)}\")\n",
    "\n",
    "# Upload test images\n",
    "for filename in os.listdir(test_folder):\n",
    "    if filename.lower().endswith(('.png', '.jpg', '.jpeg', '.tiff', '.bmp')):\n",
    "        local_path = os.path.join(test_folder, filename)\n",
    "        try:\n",
    "            print(f\"Uploading test image: {filename}\")\n",
    "            s3.upload_file(\n",
    "                local_path,\n",
    "                bucket,\n",
    "                f\"test/{filename}\"\n",
    "            )\n",
    "        except Exception as e:\n",
    "            print(f\"Error uploading {filename}: {str(e)}\")\n",
    "\n",
    "# Print summary\n",
    "print(f\"Uploaded {len([f for f in os.listdir(train_folder) if f.lower().endswith(('.png', '.jpg', '.jpeg', '.tiff', '.bmp'))])} training images\")\n",
    "print(f\"Uploaded {len([f for f in os.listdir(test_folder) if f.lower().endswith(('.png', '.jpg', '.jpeg', '.tiff', '.bmp'))])} test images\")\n",
    "# Create .lst files for train and test\n",
    "with open('train.lst', 'w') as f:\n",
    "    for idx, row in df_train.iterrows():\n",
    "        # Format: index \\t label \\t filename\n",
    "        f.write(f\"{idx}\\t{1 if row['labels'] == 48 else 0}\\t{row['filenames']}\\n\")\n",
    "\n",
    "with open('test.lst', 'w') as f:\n",
    "    for idx, row in df_test.iterrows():\n",
    "        f.write(f\"{idx}\\t{1 if row['labels'] == 48 else 0}\\t{row['filenames']}\\n\")\n",
    "\n",
    "try:\n",
    "    s3.upload_file('train.lst', bucket, 'train/train.lst')\n",
    "    s3.upload_file('test.lst', bucket, 'test/test.lst')\n",
    "except Exception as e:\n",
    "    print(f\"Error uploading .lst files: {str(e)}\")\n",
    "    \n",
    "# Check if files exist in S3\n",
    "try:\n",
    "    s3.head_object(Bucket=bucket, Key='train/train.lst')\n",
    "    s3.head_object(Bucket=bucket, Key='test/test.lst')\n",
    "    print(\"LST files found in S3\")\n",
    "except Exception as e:\n",
    "    print(f\"Error: LST files not found in S3: {str(e)}\")\n",
    "\n",
    "# Upload .lst files to S3 (inside train/test folders)\n",
    "\n",
    "\n",
    "# Define model inputs\n",
    "model_inputs = {\n",
    "    \"train\": sagemaker.inputs.TrainingInput(\n",
    "        s3_data=f\"s3://{bucket}/train/\",\n",
    "        content_type=\"application/x-image\"\n",
    "    ),\n",
    "    \"validation\": sagemaker.inputs.TrainingInput(\n",
    "        s3_data=f\"s3://{bucket}/test/\",\n",
    "        content_type=\"application/x-image\"\n",
    "    ),\n",
    "    \"train_lst\": sagemaker.inputs.TrainingInput(\n",
    "        s3_data=f\"s3://{bucket}/train/train.lst\",\n",
    "        content_type=\"text/plain\"    # Changed this line\n",
    "    ),\n",
    "    \"validation_lst\": sagemaker.inputs.TrainingInput(\n",
    "        s3_data=f\"s3://{bucket}/test/test.lst\",\n",
    "        content_type=\"text/plain\"    # Changed this line\n",
    "    )\n",
    "}\n",
    "\n",
    "result = [i for i in range(1000000)]\n",
    "\n",
    "# Clear the output but keep the execution results in memory\n",
    "clear_output(wait=True)"
   ]
  },
  {
   "cell_type": "markdown",
   "metadata": {},
   "source": [
    "Great, now we can train the model using the model_inputs. In the cell below, call the `fit` method on our model,:"
   ]
  },
  {
   "cell_type": "code",
   "execution_count": 85,
   "metadata": {
    "execution": {
     "iopub.execute_input": "2025-10-04T21:42:12.054308Z",
     "iopub.status.busy": "2025-10-04T21:42:12.054007Z",
     "iopub.status.idle": "2025-10-04T21:50:03.016661Z",
     "shell.execute_reply": "2025-10-04T21:50:03.012088Z",
     "shell.execute_reply.started": "2025-10-04T21:42:12.054285Z"
    }
   },
   "outputs": [
    {
     "name": "stderr",
     "output_type": "stream",
     "text": [
      "INFO:sagemaker.telemetry.telemetry_logging:SageMaker Python SDK will collect telemetry to help us better understand our user's needs, diagnose issues, and deliver additional features.\n",
      "To opt out of telemetry, please disable via TelemetryOptOut parameter in SDK defaults config. For more information, refer to https://sagemaker.readthedocs.io/en/stable/overview.html#configuring-and-using-defaults-with-the-sagemaker-python-sdk.\n",
      "INFO:sagemaker:Creating training-job with name: image-classification-2025-10-04-21-42-12-057\n"
     ]
    },
    {
     "name": "stdout",
     "output_type": "stream",
     "text": [
      "2025-10-04 21:42:12 Starting - Starting the training job\n",
      "2025-10-04 21:42:12 Pending - Training job waiting for capacity...\n",
      "2025-10-04 21:42:46 Pending - Preparing the instances for training...\n",
      "2025-10-04 21:43:15 Downloading - Downloading input data...\n",
      "2025-10-04 21:43:36 Downloading - Downloading the training image............\n",
      "2025-10-04 21:45:34 Training - Training image download completed. Training in progress....\u001b[34mDocker entrypoint called with argument(s): train\u001b[0m\n",
      "\u001b[34mRunning default environment configuration script\u001b[0m\n",
      "\u001b[34mNvidia gpu devices, drivers and cuda toolkit versions (only available on hosts with GPU):\u001b[0m\n",
      "\u001b[34mSat Oct  4 21:46:01 2025       \u001b[0m\n",
      "\u001b[34m+-----------------------------------------------------------------------------------------+\u001b[0m\n",
      "\u001b[34m| NVIDIA-SMI 570.172.08             Driver Version: 570.172.08     CUDA Version: 12.8     |\u001b[0m\n",
      "\u001b[34m|-----------------------------------------+------------------------+----------------------+\u001b[0m\n",
      "\u001b[34m| GPU  Name                 Persistence-M | Bus-Id          Disp.A | Volatile Uncorr. ECC |\u001b[0m\n",
      "\u001b[34m| Fan  Temp   Perf          Pwr:Usage/Cap |           Memory-Usage | GPU-Util  Compute M. |\u001b[0m\n",
      "\u001b[34m|                                         |                        |               MIG M. |\u001b[0m\n",
      "\u001b[34m|=========================================+========================+======================|\u001b[0m\n",
      "\u001b[34m|   0  Tesla V100-SXM2-16GB           On  |   00000000:00:1E.0 Off |                    0 |\u001b[0m\n",
      "\u001b[34m| N/A   37C    P0             24W /  300W |       0MiB /  16384MiB |      0%      Default |\u001b[0m\n",
      "\u001b[34m|                                         |                        |                  N/A |\u001b[0m\n",
      "\u001b[34m+-----------------------------------------+------------------------+----------------------+\n",
      "                                                                                         \u001b[0m\n",
      "\u001b[34m+-----------------------------------------------------------------------------------------+\u001b[0m\n",
      "\u001b[34m| Processes:                                                                              |\u001b[0m\n",
      "\u001b[34m|  GPU   GI   CI              PID   Type   Process name                        GPU Memory |\u001b[0m\n",
      "\u001b[34m|        ID   ID                                                               Usage      |\u001b[0m\n",
      "\u001b[34m|=========================================================================================|\u001b[0m\n",
      "\u001b[34m|  No running processes found                                                             |\u001b[0m\n",
      "\u001b[34m+-----------------------------------------------------------------------------------------+\u001b[0m\n",
      "\u001b[34mChecking for nvidia driver and cuda compatibility.\u001b[0m\n",
      "\u001b[34mCUDA Compatibility driver provided.\u001b[0m\n",
      "\u001b[34mProceeding with compatibility check between driver, cuda-toolkit and cuda-compat.\u001b[0m\n",
      "\u001b[34mDetected cuda-toolkit version: 11.1.\u001b[0m\n",
      "\u001b[34mDetected cuda-compat version: 455.32.00.\u001b[0m\n",
      "\u001b[34mDetected Nvidia driver version: 570.172.08.\u001b[0m\n",
      "\u001b[34mNvidia driver compatible with cuda-toolkit. Disabling cuda-compat.\u001b[0m\n",
      "\u001b[34m/opt/amazon/lib/python3.8/site-packages/mxnet/model.py:97: SyntaxWarning: \"is\" with a literal. Did you mean \"==\"?\n",
      "  if num_device is 1 and 'dist' not in kvstore:\u001b[0m\n",
      "\u001b[34m[10/04/2025 21:46:05 INFO 140422023993152] Reading default configuration from /opt/amazon/lib/python3.8/site-packages/image_classification/default-input.json: {'use_pretrained_model': 0, 'num_layers': 152, 'epochs': 30, 'learning_rate': 0.1, 'lr_scheduler_factor': 0.1, 'optimizer': 'sgd', 'momentum': 0, 'weight_decay': 0.0001, 'beta_1': 0.9, 'beta_2': 0.999, 'eps': 1e-08, 'gamma': 0.9, 'mini_batch_size': 32, 'image_shape': '3,224,224', 'precision_dtype': 'float32'}\u001b[0m\n",
      "\u001b[34m[10/04/2025 21:46:05 INFO 140422023993152] Merging with provided configuration from /opt/ml/input/config/hyperparameters.json: {'image_shape': '3,32,32', 'num_classes': '2', 'num_training_samples': '1000'}\u001b[0m\n",
      "\u001b[34m[10/04/2025 21:46:05 INFO 140422023993152] Final configuration: {'use_pretrained_model': 0, 'num_layers': 152, 'epochs': 30, 'learning_rate': 0.1, 'lr_scheduler_factor': 0.1, 'optimizer': 'sgd', 'momentum': 0, 'weight_decay': 0.0001, 'beta_1': 0.9, 'beta_2': 0.999, 'eps': 1e-08, 'gamma': 0.9, 'mini_batch_size': 32, 'image_shape': '3,32,32', 'precision_dtype': 'float32', 'num_classes': '2', 'num_training_samples': '1000'}\u001b[0m\n",
      "\u001b[34m[10/04/2025 21:46:05 INFO 140422023993152] Searching for .lst files in /opt/ml/input/data/train_lst.\u001b[0m\n",
      "\u001b[34m[10/04/2025 21:46:05 INFO 140422023993152] Creating record files for train.lst\u001b[0m\n",
      "\u001b[34m[10/04/2025 21:46:05 INFO 140422023993152] Done creating record files...\u001b[0m\n",
      "\u001b[34m[10/04/2025 21:46:05 INFO 140422023993152] Searching for .lst files in /opt/ml/input/data/validation_lst.\u001b[0m\n",
      "\u001b[34m[10/04/2025 21:46:05 INFO 140422023993152] Creating record files for test.lst\u001b[0m\n",
      "\u001b[34m[10/04/2025 21:46:05 INFO 140422023993152] Done creating record files...\u001b[0m\n",
      "\u001b[34m[10/04/2025 21:46:05 INFO 140422023993152] use_pretrained_model: 0\u001b[0m\n",
      "\u001b[34m[10/04/2025 21:46:05 INFO 140422023993152] multi_label: 0\u001b[0m\n",
      "\u001b[34m[10/04/2025 21:46:05 INFO 140422023993152] Performing random weight initialization\u001b[0m\n",
      "\u001b[34m[10/04/2025 21:46:05 INFO 140422023993152] ---- Parameters ----\u001b[0m\n",
      "\u001b[34m[10/04/2025 21:46:05 INFO 140422023993152] num_layers: 152\u001b[0m\n",
      "\u001b[34m[10/04/2025 21:46:05 INFO 140422023993152] data type: <class 'numpy.float32'>\u001b[0m\n",
      "\u001b[34m[10/04/2025 21:46:05 INFO 140422023993152] epochs: 30\u001b[0m\n",
      "\u001b[34m[10/04/2025 21:46:05 INFO 140422023993152] optimizer: sgd\u001b[0m\n",
      "\u001b[34m[10/04/2025 21:46:05 INFO 140422023993152] momentum: 0.9\u001b[0m\n",
      "\u001b[34m[10/04/2025 21:46:05 INFO 140422023993152] weight_decay: 0.0001\u001b[0m\n",
      "\u001b[34m[10/04/2025 21:46:05 INFO 140422023993152] learning_rate: 0.1\u001b[0m\n",
      "\u001b[34m[10/04/2025 21:46:05 INFO 140422023993152] num_training_samples: 1000\u001b[0m\n",
      "\u001b[34m[10/04/2025 21:46:05 INFO 140422023993152] mini_batch_size: 32\u001b[0m\n",
      "\u001b[34m[10/04/2025 21:46:05 INFO 140422023993152] image_shape: 3,32,32\u001b[0m\n",
      "\u001b[34m[10/04/2025 21:46:05 INFO 140422023993152] num_classes: 2\u001b[0m\n",
      "\u001b[34m[10/04/2025 21:46:05 INFO 140422023993152] augmentation_type: None\u001b[0m\n",
      "\u001b[34m[10/04/2025 21:46:05 INFO 140422023993152] kv_store: device\u001b[0m\n",
      "\u001b[34m[10/04/2025 21:46:05 INFO 140422023993152] checkpoint_frequency not set, will store the best model\u001b[0m\n",
      "\u001b[34m[10/04/2025 21:46:05 INFO 140422023993152] --------------------\u001b[0m\n",
      "\u001b[34m/opt/amazon/python3.8/lib/python3.8/subprocess.py:848: RuntimeWarning: line buffering (buffering=1) isn't supported in binary mode, the default buffer size will be used\n",
      "  self.stdout = io.open(c2pread, 'rb', bufsize)\u001b[0m\n",
      "\u001b[34m[10/04/2025 21:46:05 INFO 140422023993152] Setting number of threads: 7\u001b[0m\n",
      "\u001b[34m[21:46:10] /opt/brazil-pkg-cache/packages/AIAlgorithmsMXNet/AIAlgorithmsMXNet-1.4.x_ecl_Cuda_11.1.x.441.0/AL2_x86_64/generic-flavor/src/src/operator/nn/./cudnn/./cudnn_algoreg-inl.h:97: Running performance tests to find the best convolution algorithm, this can take a while... (setting env variable MXNET_CUDNN_AUTOTUNE_DEFAULT to 0 to disable)\u001b[0m\n",
      "\u001b[34m[10/04/2025 21:46:15 INFO 140422023993152] Epoch[0] Batch [20]#011Speed: 123.881 samples/sec#011accuracy=0.574405\u001b[0m\n",
      "\u001b[34m[10/04/2025 21:46:17 INFO 140422023993152] Epoch[0] Train-accuracy=0.613911\u001b[0m\n",
      "\u001b[34m[10/04/2025 21:46:17 INFO 140422023993152] Epoch[0] Time cost=6.798\u001b[0m\n",
      "\u001b[34m[10/04/2025 21:46:18 INFO 140422023993152] Epoch[0] Validation-accuracy=0.494792\u001b[0m\n",
      "\u001b[34m[10/04/2025 21:46:18 INFO 140422023993152] Storing the best model with validation accuracy: 0.494792\u001b[0m\n",
      "\u001b[34m[10/04/2025 21:46:18 INFO 140422023993152] Saved checkpoint to \"/opt/ml/model/image-classification-0001.params\"\u001b[0m\n",
      "\u001b[34m[10/04/2025 21:46:22 INFO 140422023993152] Epoch[1] Batch [20]#011Speed: 188.001 samples/sec#011accuracy=0.668155\u001b[0m\n",
      "\u001b[34m[10/04/2025 21:46:23 INFO 140422023993152] Epoch[1] Train-accuracy=0.655242\u001b[0m\n",
      "\u001b[34m[10/04/2025 21:46:23 INFO 140422023993152] Epoch[1] Time cost=5.069\u001b[0m\n",
      "\u001b[34m[10/04/2025 21:46:24 INFO 140422023993152] Epoch[1] Validation-accuracy=0.625000\u001b[0m\n",
      "\u001b[34m[10/04/2025 21:46:24 INFO 140422023993152] Storing the best model with validation accuracy: 0.625000\u001b[0m\n",
      "\u001b[34m[10/04/2025 21:46:24 INFO 140422023993152] Saved checkpoint to \"/opt/ml/model/image-classification-0002.params\"\u001b[0m\n",
      "\u001b[34m[10/04/2025 21:46:28 INFO 140422023993152] Epoch[2] Batch [20]#011Speed: 190.179 samples/sec#011accuracy=0.660714\u001b[0m\n",
      "\u001b[34m[10/04/2025 21:46:29 INFO 140422023993152] Epoch[2] Train-accuracy=0.670363\u001b[0m\n",
      "\u001b[34m[10/04/2025 21:46:29 INFO 140422023993152] Epoch[2] Time cost=4.998\u001b[0m\n",
      "\u001b[34m[10/04/2025 21:46:30 INFO 140422023993152] Epoch[2] Validation-accuracy=0.755208\u001b[0m\n",
      "\u001b[34m[10/04/2025 21:46:30 INFO 140422023993152] Storing the best model with validation accuracy: 0.755208\u001b[0m\n",
      "\u001b[34m[10/04/2025 21:46:31 INFO 140422023993152] Saved checkpoint to \"/opt/ml/model/image-classification-0003.params\"\u001b[0m\n",
      "\u001b[34m[10/04/2025 21:46:34 INFO 140422023993152] Epoch[3] Batch [20]#011Speed: 191.472 samples/sec#011accuracy=0.724702\u001b[0m\n",
      "\u001b[34m[10/04/2025 21:46:36 INFO 140422023993152] Epoch[3] Train-accuracy=0.755040\u001b[0m\n",
      "\u001b[34m[10/04/2025 21:46:36 INFO 140422023993152] Epoch[3] Time cost=4.989\u001b[0m\n",
      "\u001b[34m[10/04/2025 21:46:36 INFO 140422023993152] Epoch[3] Validation-accuracy=0.794643\u001b[0m\n",
      "\u001b[34m[10/04/2025 21:46:36 INFO 140422023993152] Storing the best model with validation accuracy: 0.794643\u001b[0m\n",
      "\u001b[34m[10/04/2025 21:46:37 INFO 140422023993152] Saved checkpoint to \"/opt/ml/model/image-classification-0004.params\"\u001b[0m\n",
      "\u001b[34m[10/04/2025 21:46:40 INFO 140422023993152] Epoch[4] Batch [20]#011Speed: 190.059 samples/sec#011accuracy=0.793155\u001b[0m\n",
      "\u001b[34m[10/04/2025 21:46:42 INFO 140422023993152] Epoch[4] Train-accuracy=0.788306\u001b[0m\n",
      "\u001b[34m[10/04/2025 21:46:42 INFO 140422023993152] Epoch[4] Time cost=4.987\u001b[0m\n",
      "\u001b[34m[10/04/2025 21:46:42 INFO 140422023993152] Epoch[4] Validation-accuracy=0.781250\u001b[0m\n",
      "\u001b[34m[10/04/2025 21:46:46 INFO 140422023993152] Epoch[5] Batch [20]#011Speed: 193.416 samples/sec#011accuracy=0.809524\u001b[0m\n",
      "\u001b[34m[10/04/2025 21:46:48 INFO 140422023993152] Epoch[5] Train-accuracy=0.791331\u001b[0m\n",
      "\u001b[34m[10/04/2025 21:46:48 INFO 140422023993152] Epoch[5] Time cost=4.950\u001b[0m\n",
      "\u001b[34m[10/04/2025 21:46:48 INFO 140422023993152] Epoch[5] Validation-accuracy=0.760417\u001b[0m\n",
      "\u001b[34m[10/04/2025 21:46:52 INFO 140422023993152] Epoch[6] Batch [20]#011Speed: 188.063 samples/sec#011accuracy=0.831845\u001b[0m\n",
      "\u001b[34m[10/04/2025 21:46:54 INFO 140422023993152] Epoch[6] Train-accuracy=0.826613\u001b[0m\n",
      "\u001b[34m[10/04/2025 21:46:54 INFO 140422023993152] Epoch[6] Time cost=5.032\u001b[0m\n",
      "\u001b[34m[10/04/2025 21:46:54 INFO 140422023993152] Epoch[6] Validation-accuracy=0.802083\u001b[0m\n",
      "\u001b[34m[10/04/2025 21:46:54 INFO 140422023993152] Storing the best model with validation accuracy: 0.802083\u001b[0m\n",
      "\u001b[34m[10/04/2025 21:46:55 INFO 140422023993152] Saved checkpoint to \"/opt/ml/model/image-classification-0007.params\"\u001b[0m\n",
      "\u001b[34m[10/04/2025 21:46:58 INFO 140422023993152] Epoch[7] Batch [20]#011Speed: 194.046 samples/sec#011accuracy=0.822917\u001b[0m\n",
      "\u001b[34m[10/04/2025 21:47:00 INFO 140422023993152] Epoch[7] Train-accuracy=0.828629\u001b[0m\n",
      "\u001b[34m[10/04/2025 21:47:00 INFO 140422023993152] Epoch[7] Time cost=4.912\u001b[0m\n",
      "\u001b[34m[10/04/2025 21:47:00 INFO 140422023993152] Epoch[7] Validation-accuracy=0.754464\u001b[0m\n",
      "\u001b[34m[10/04/2025 21:47:04 INFO 140422023993152] Epoch[8] Batch [20]#011Speed: 190.779 samples/sec#011accuracy=0.854167\u001b[0m\n",
      "\u001b[34m[10/04/2025 21:47:06 INFO 140422023993152] Epoch[8] Train-accuracy=0.848790\u001b[0m\n",
      "\u001b[34m[10/04/2025 21:47:06 INFO 140422023993152] Epoch[8] Time cost=5.016\u001b[0m\n",
      "\u001b[34m[10/04/2025 21:47:06 INFO 140422023993152] Epoch[8] Validation-accuracy=0.822917\u001b[0m\n",
      "\u001b[34m[10/04/2025 21:47:06 INFO 140422023993152] Storing the best model with validation accuracy: 0.822917\u001b[0m\n",
      "\u001b[34m[10/04/2025 21:47:07 INFO 140422023993152] Saved checkpoint to \"/opt/ml/model/image-classification-0009.params\"\u001b[0m\n",
      "\u001b[34m[10/04/2025 21:47:10 INFO 140422023993152] Epoch[9] Batch [20]#011Speed: 192.573 samples/sec#011accuracy=0.851190\u001b[0m\n",
      "\u001b[34m[10/04/2025 21:47:12 INFO 140422023993152] Epoch[9] Train-accuracy=0.851815\u001b[0m\n",
      "\u001b[34m[10/04/2025 21:47:12 INFO 140422023993152] Epoch[9] Time cost=4.976\u001b[0m\n",
      "\u001b[34m[10/04/2025 21:47:12 INFO 140422023993152] Epoch[9] Validation-accuracy=0.786458\u001b[0m\n",
      "\u001b[34m[10/04/2025 21:47:16 INFO 140422023993152] Epoch[10] Batch [20]#011Speed: 191.470 samples/sec#011accuracy=0.858631\u001b[0m\n",
      "\u001b[34m[10/04/2025 21:47:18 INFO 140422023993152] Epoch[10] Train-accuracy=0.865927\u001b[0m\n",
      "\u001b[34m[10/04/2025 21:47:18 INFO 140422023993152] Epoch[10] Time cost=4.953\u001b[0m\n",
      "\u001b[34m[10/04/2025 21:47:18 INFO 140422023993152] Epoch[10] Validation-accuracy=0.854167\u001b[0m\n",
      "\u001b[34m[10/04/2025 21:47:19 INFO 140422023993152] Storing the best model with validation accuracy: 0.854167\u001b[0m\n",
      "\u001b[34m[10/04/2025 21:47:19 INFO 140422023993152] Saved checkpoint to \"/opt/ml/model/image-classification-0011.params\"\u001b[0m\n",
      "\u001b[34m[10/04/2025 21:47:22 INFO 140422023993152] Epoch[11] Batch [20]#011Speed: 191.667 samples/sec#011accuracy=0.858631\u001b[0m\n",
      "\u001b[34m[10/04/2025 21:47:24 INFO 140422023993152] Epoch[11] Train-accuracy=0.857863\u001b[0m\n",
      "\u001b[34m[10/04/2025 21:47:24 INFO 140422023993152] Epoch[11] Time cost=4.980\u001b[0m\n",
      "\u001b[34m[10/04/2025 21:47:24 INFO 140422023993152] Epoch[11] Validation-accuracy=0.785714\u001b[0m\n",
      "\u001b[34m[10/04/2025 21:47:28 INFO 140422023993152] Epoch[12] Batch [20]#011Speed: 191.137 samples/sec#011accuracy=0.866071\u001b[0m\n",
      "\u001b[34m[10/04/2025 21:47:30 INFO 140422023993152] Epoch[12] Train-accuracy=0.863911\u001b[0m\n",
      "\u001b[34m[10/04/2025 21:47:30 INFO 140422023993152] Epoch[12] Time cost=4.992\u001b[0m\n",
      "\u001b[34m[10/04/2025 21:47:30 INFO 140422023993152] Epoch[12] Validation-accuracy=0.833333\u001b[0m\n",
      "\u001b[34m[10/04/2025 21:47:34 INFO 140422023993152] Epoch[13] Batch [20]#011Speed: 191.724 samples/sec#011accuracy=0.861607\u001b[0m\n",
      "\u001b[34m[10/04/2025 21:47:36 INFO 140422023993152] Epoch[13] Train-accuracy=0.871976\u001b[0m\n",
      "\u001b[34m[10/04/2025 21:47:36 INFO 140422023993152] Epoch[13] Time cost=4.994\u001b[0m\n",
      "\u001b[34m[10/04/2025 21:47:36 INFO 140422023993152] Epoch[13] Validation-accuracy=0.838542\u001b[0m\n",
      "\u001b[34m[10/04/2025 21:47:40 INFO 140422023993152] Epoch[14] Batch [20]#011Speed: 192.007 samples/sec#011accuracy=0.934524\u001b[0m\n",
      "\u001b[34m[10/04/2025 21:47:42 INFO 140422023993152] Epoch[14] Train-accuracy=0.923387\u001b[0m\n",
      "\u001b[34m[10/04/2025 21:47:42 INFO 140422023993152] Epoch[14] Time cost=4.969\u001b[0m\n",
      "\u001b[34m[10/04/2025 21:47:42 INFO 140422023993152] Epoch[14] Validation-accuracy=0.791667\u001b[0m\n",
      "\u001b[34m[10/04/2025 21:47:46 INFO 140422023993152] Epoch[15] Batch [20]#011Speed: 189.521 samples/sec#011accuracy=0.891369\u001b[0m\n",
      "\u001b[34m[10/04/2025 21:47:48 INFO 140422023993152] Epoch[15] Train-accuracy=0.891129\u001b[0m\n",
      "\u001b[34m[10/04/2025 21:47:48 INFO 140422023993152] Epoch[15] Time cost=5.014\u001b[0m\n",
      "\u001b[34m[10/04/2025 21:47:48 INFO 140422023993152] Epoch[15] Validation-accuracy=0.857143\u001b[0m\n",
      "\u001b[34m[10/04/2025 21:47:48 INFO 140422023993152] Storing the best model with validation accuracy: 0.857143\u001b[0m\n",
      "\u001b[34m[10/04/2025 21:47:49 INFO 140422023993152] Saved checkpoint to \"/opt/ml/model/image-classification-0016.params\"\u001b[0m\n",
      "\u001b[34m[10/04/2025 21:47:52 INFO 140422023993152] Epoch[16] Batch [20]#011Speed: 189.998 samples/sec#011accuracy=0.922619\u001b[0m\n",
      "\u001b[34m[10/04/2025 21:47:54 INFO 140422023993152] Epoch[16] Train-accuracy=0.907258\u001b[0m\n",
      "\u001b[34m[10/04/2025 21:47:54 INFO 140422023993152] Epoch[16] Time cost=5.028\u001b[0m\n",
      "\u001b[34m[10/04/2025 21:47:54 INFO 140422023993152] Epoch[16] Validation-accuracy=0.822917\u001b[0m\n",
      "\u001b[34m[10/04/2025 21:47:58 INFO 140422023993152] Epoch[17] Batch [20]#011Speed: 192.693 samples/sec#011accuracy=0.937500\u001b[0m\n",
      "\u001b[34m[10/04/2025 21:48:00 INFO 140422023993152] Epoch[17] Train-accuracy=0.932460\u001b[0m\n",
      "\u001b[34m[10/04/2025 21:48:00 INFO 140422023993152] Epoch[17] Time cost=4.949\u001b[0m\n",
      "\u001b[34m[10/04/2025 21:48:00 INFO 140422023993152] Epoch[17] Validation-accuracy=0.817708\u001b[0m\n",
      "\u001b[34m[10/04/2025 21:48:04 INFO 140422023993152] Epoch[18] Batch [20]#011Speed: 187.871 samples/sec#011accuracy=0.886905\u001b[0m\n",
      "\u001b[34m[10/04/2025 21:48:06 INFO 140422023993152] Epoch[18] Train-accuracy=0.902218\u001b[0m\n",
      "\u001b[34m[10/04/2025 21:48:06 INFO 140422023993152] Epoch[18] Time cost=5.049\u001b[0m\n",
      "\u001b[34m[10/04/2025 21:48:06 INFO 140422023993152] Epoch[18] Validation-accuracy=0.838542\u001b[0m\n",
      "\u001b[34m[10/04/2025 21:48:10 INFO 140422023993152] Epoch[19] Batch [20]#011Speed: 190.286 samples/sec#011accuracy=0.944940\u001b[0m\n",
      "\u001b[34m[10/04/2025 21:48:12 INFO 140422023993152] Epoch[19] Train-accuracy=0.939516\u001b[0m\n",
      "\u001b[34m[10/04/2025 21:48:12 INFO 140422023993152] Epoch[19] Time cost=5.022\u001b[0m\n",
      "\u001b[34m[10/04/2025 21:48:12 INFO 140422023993152] Epoch[19] Validation-accuracy=0.821429\u001b[0m\n",
      "\u001b[34m[10/04/2025 21:48:16 INFO 140422023993152] Epoch[20] Batch [20]#011Speed: 192.689 samples/sec#011accuracy=0.955357\u001b[0m\n",
      "\u001b[34m[10/04/2025 21:48:18 INFO 140422023993152] Epoch[20] Train-accuracy=0.944556\u001b[0m\n",
      "\u001b[34m[10/04/2025 21:48:18 INFO 140422023993152] Epoch[20] Time cost=4.942\u001b[0m\n",
      "\u001b[34m[10/04/2025 21:48:18 INFO 140422023993152] Epoch[20] Validation-accuracy=0.828125\u001b[0m\n",
      "\u001b[34m[10/04/2025 21:48:22 INFO 140422023993152] Epoch[21] Batch [20]#011Speed: 194.508 samples/sec#011accuracy=0.964286\u001b[0m\n",
      "\u001b[34m[10/04/2025 21:48:23 INFO 140422023993152] Epoch[21] Train-accuracy=0.960685\u001b[0m\n",
      "\u001b[34m[10/04/2025 21:48:23 INFO 140422023993152] Epoch[21] Time cost=4.900\u001b[0m\n",
      "\u001b[34m[10/04/2025 21:48:24 INFO 140422023993152] Epoch[21] Validation-accuracy=0.833333\u001b[0m\n",
      "\u001b[34m[10/04/2025 21:48:28 INFO 140422023993152] Epoch[22] Batch [20]#011Speed: 192.685 samples/sec#011accuracy=0.941964\u001b[0m\n",
      "\u001b[34m[10/04/2025 21:48:29 INFO 140422023993152] Epoch[22] Train-accuracy=0.941532\u001b[0m\n",
      "\u001b[34m[10/04/2025 21:48:29 INFO 140422023993152] Epoch[22] Time cost=4.983\u001b[0m\n",
      "\u001b[34m[10/04/2025 21:48:30 INFO 140422023993152] Epoch[22] Validation-accuracy=0.833333\u001b[0m\n",
      "\u001b[34m[10/04/2025 21:48:34 INFO 140422023993152] Epoch[23] Batch [20]#011Speed: 189.593 samples/sec#011accuracy=0.974702\u001b[0m\n",
      "\u001b[34m[10/04/2025 21:48:35 INFO 140422023993152] Epoch[23] Train-accuracy=0.965726\u001b[0m\n",
      "\u001b[34m[10/04/2025 21:48:35 INFO 140422023993152] Epoch[23] Time cost=5.021\u001b[0m\n",
      "\u001b[34m[10/04/2025 21:48:36 INFO 140422023993152] Epoch[23] Validation-accuracy=0.834821\u001b[0m\n",
      "\u001b[34m[10/04/2025 21:48:40 INFO 140422023993152] Epoch[24] Batch [20]#011Speed: 193.085 samples/sec#011accuracy=0.965774\u001b[0m\n",
      "\u001b[34m[10/04/2025 21:48:41 INFO 140422023993152] Epoch[24] Train-accuracy=0.969758\u001b[0m\n",
      "\u001b[34m[10/04/2025 21:48:41 INFO 140422023993152] Epoch[24] Time cost=4.963\u001b[0m\n",
      "\u001b[34m[10/04/2025 21:48:42 INFO 140422023993152] Epoch[24] Validation-accuracy=0.843750\u001b[0m\n",
      "\u001b[34m[10/04/2025 21:48:46 INFO 140422023993152] Epoch[25] Batch [20]#011Speed: 192.066 samples/sec#011accuracy=0.971726\u001b[0m\n",
      "\u001b[34m[10/04/2025 21:48:47 INFO 140422023993152] Epoch[25] Train-accuracy=0.963710\u001b[0m\n",
      "\u001b[34m[10/04/2025 21:48:47 INFO 140422023993152] Epoch[25] Time cost=4.950\u001b[0m\n",
      "\u001b[34m[10/04/2025 21:48:48 INFO 140422023993152] Epoch[25] Validation-accuracy=0.765625\u001b[0m\n",
      "\u001b[34m[10/04/2025 21:48:51 INFO 140422023993152] Epoch[26] Batch [20]#011Speed: 191.739 samples/sec#011accuracy=0.922619\u001b[0m\n",
      "\u001b[34m[10/04/2025 21:48:53 INFO 140422023993152] Epoch[26] Train-accuracy=0.937500\u001b[0m\n",
      "\u001b[34m[10/04/2025 21:48:53 INFO 140422023993152] Epoch[26] Time cost=4.977\u001b[0m\n",
      "\u001b[34m[10/04/2025 21:48:54 INFO 140422023993152] Epoch[26] Validation-accuracy=0.828125\u001b[0m\n",
      "\u001b[34m[10/04/2025 21:48:57 INFO 140422023993152] Epoch[27] Batch [20]#011Speed: 192.670 samples/sec#011accuracy=0.988095\u001b[0m\n",
      "\u001b[34m[10/04/2025 21:48:59 INFO 140422023993152] Epoch[27] Train-accuracy=0.983871\u001b[0m\n",
      "\u001b[34m[10/04/2025 21:48:59 INFO 140422023993152] Epoch[27] Time cost=4.953\u001b[0m\n",
      "\u001b[34m[10/04/2025 21:49:00 INFO 140422023993152] Epoch[27] Validation-accuracy=0.812500\u001b[0m\n",
      "\u001b[34m[10/04/2025 21:49:03 INFO 140422023993152] Epoch[28] Batch [20]#011Speed: 189.196 samples/sec#011accuracy=0.986607\u001b[0m\n",
      "\u001b[34m[10/04/2025 21:49:05 INFO 140422023993152] Epoch[28] Train-accuracy=0.976815\u001b[0m\n",
      "\u001b[34m[10/04/2025 21:49:05 INFO 140422023993152] Epoch[28] Time cost=5.011\u001b[0m\n",
      "\u001b[34m[10/04/2025 21:49:05 INFO 140422023993152] Epoch[28] Validation-accuracy=0.838542\u001b[0m\n",
      "\n",
      "2025-10-04 21:49:20 Uploading - Uploading generated training model\u001b[34m[10/04/2025 21:49:09 INFO 140422023993152] Epoch[29] Batch [20]#011Speed: 191.811 samples/sec#011accuracy=0.980655\u001b[0m\n",
      "\u001b[34m[10/04/2025 21:49:11 INFO 140422023993152] Epoch[29] Train-accuracy=0.980847\u001b[0m\n",
      "\u001b[34m[10/04/2025 21:49:11 INFO 140422023993152] Epoch[29] Time cost=4.959\u001b[0m\n",
      "\u001b[34m[10/04/2025 21:49:11 INFO 140422023993152] Epoch[29] Validation-accuracy=0.843750\u001b[0m\n",
      "\n",
      "2025-10-04 21:49:39 Completed - Training job completed\n",
      "Training seconds: 383\n",
      "Billable seconds: 383\n"
     ]
    }
   ],
   "source": [
    "## TODO: train your model\n",
    "from sagemaker.inputs import TrainingInput\n",
    "\n",
    "# Define model inputs with all 4 required channels\n",
    "model_inputs = {\n",
    "    \"train\": TrainingInput(\n",
    "        s3_data=f\"s3://{bucket}/train/\",\n",
    "        content_type=\"application/x-image\"\n",
    "    ),\n",
    "    \"validation\": TrainingInput(\n",
    "        s3_data=f\"s3://{bucket}/test/\",\n",
    "        content_type=\"application/x-image\"\n",
    "    ),\n",
    "    \"train_lst\": TrainingInput(\n",
    "        s3_data=f\"s3://{bucket}/train/train.lst\",\n",
    "        content_type=\"application/x-image\"\n",
    "    ),\n",
    "    \"validation_lst\": TrainingInput(\n",
    "        s3_data=f\"s3://{bucket}/test/test.lst\",\n",
    "        content_type=\"application/x-image\"\n",
    "    )\n",
    "}\n",
    "\n",
    "# Train the model\n",
    "img_classifier_model.fit(model_inputs)"
   ]
  },
  {
   "cell_type": "markdown",
   "metadata": {},
   "source": [
    "If all goes well, you'll end up with a model topping out above `.8` validation accuracy. With only 1000 training samples in the CIFAR dataset, that's pretty good. We could definitely pursue data augmentation & gathering more samples to help us improve further, but for now let's proceed to deploy our model.\n",
    "\n",
    "### Getting ready to deploy\n",
    "\n",
    "To begin with, let's configure Model Monitor to track our deployment. We'll define a `DataCaptureConfig` below:"
   ]
  },
  {
   "cell_type": "code",
   "execution_count": 86,
   "metadata": {
    "execution": {
     "iopub.execute_input": "2025-10-04T21:51:37.174174Z",
     "iopub.status.busy": "2025-10-04T21:51:37.173900Z",
     "iopub.status.idle": "2025-10-04T21:51:37.202323Z",
     "shell.execute_reply": "2025-10-04T21:51:37.201584Z",
     "shell.execute_reply.started": "2025-10-04T21:51:37.174152Z"
    }
   },
   "outputs": [],
   "source": [
    "from sagemaker.model_monitor import DataCaptureConfig\n",
    "\n",
    "data_capture_config = DataCaptureConfig(\n",
    "    enable_capture=True,\n",
    "    sampling_percentage=100,\n",
    "    destination_s3_uri=f\"s3://{bucket}/data_capture\"\n",
    ")"
   ]
  },
  {
   "cell_type": "markdown",
   "metadata": {},
   "source": [
    "Note the `destination_s3_uri` parameter: At the end of the project, we can explore the `data_capture` directory in S3 to find crucial data about the inputs and outputs Model Monitor has observed on our model endpoint over time.\n",
    "\n",
    "With that done, deploy your model on a single `ml.m5.xlarge` instance with the data capture config attached:"
   ]
  },
  {
   "cell_type": "code",
   "execution_count": 87,
   "metadata": {
    "execution": {
     "iopub.execute_input": "2025-10-04T21:51:39.812823Z",
     "iopub.status.busy": "2025-10-04T21:51:39.812554Z",
     "iopub.status.idle": "2025-10-04T21:56:12.390708Z",
     "shell.execute_reply": "2025-10-04T21:56:12.390043Z",
     "shell.execute_reply.started": "2025-10-04T21:51:39.812803Z"
    }
   },
   "outputs": [
    {
     "name": "stderr",
     "output_type": "stream",
     "text": [
      "INFO:sagemaker:Creating model with name: image-classification-2025-10-04-21-51-39-813\n",
      "INFO:sagemaker:Creating endpoint-config with name image-classification-2025-10-04-21-51-39-813\n",
      "INFO:sagemaker:Creating endpoint with name image-classification-2025-10-04-21-51-39-813\n"
     ]
    },
    {
     "name": "stdout",
     "output_type": "stream",
     "text": [
      "--------!image-classification-2025-10-04-21-51-39-813\n"
     ]
    }
   ],
   "source": [
    "deployment = img_classifier_model.deploy(\n",
    "    initial_instance_count=1,\n",
    "    instance_type='ml.m5.xlarge',\n",
    "    data_capture_config=data_capture_config\n",
    ")\n",
    "endpoint = deployment.endpoint_name\n",
    "print(endpoint)"
   ]
  },
  {
   "cell_type": "markdown",
   "metadata": {},
   "source": [
    "Note the endpoint name for later as well.\n",
    "\n",
    "Next, instantiate a Predictor:"
   ]
  },
  {
   "cell_type": "code",
   "execution_count": 88,
   "metadata": {
    "execution": {
     "iopub.execute_input": "2025-10-04T21:58:24.371389Z",
     "iopub.status.busy": "2025-10-04T21:58:24.371112Z",
     "iopub.status.idle": "2025-10-04T21:58:24.381771Z",
     "shell.execute_reply": "2025-10-04T21:58:24.381005Z",
     "shell.execute_reply.started": "2025-10-04T21:58:24.371368Z"
    }
   },
   "outputs": [],
   "source": [
    "from sagemaker.predictor import Predictor\n",
    "from sagemaker.serializers import IdentitySerializer\n",
    "\n",
    "predictor = Predictor(\n",
    "    endpoint_name=endpoint,\n",
    "    sagemaker_session=sess,\n",
    "    serializer=IdentitySerializer(content_type='image/png')\n",
    ")"
   ]
  },
  {
   "cell_type": "markdown",
   "metadata": {},
   "source": [
    "In the code snippet below we are going to prepare one of your saved images for prediction. Use the predictor to process the `payload`."
   ]
  },
  {
   "cell_type": "code",
   "execution_count": 89,
   "metadata": {
    "execution": {
     "iopub.execute_input": "2025-10-04T21:58:26.470623Z",
     "iopub.status.busy": "2025-10-04T21:58:26.470330Z",
     "iopub.status.idle": "2025-10-04T21:58:26.823966Z",
     "shell.execute_reply": "2025-10-04T21:58:26.822929Z",
     "shell.execute_reply.started": "2025-10-04T21:58:26.470603Z"
    }
   },
   "outputs": [],
   "source": [
    "from sagemaker.serializers import IdentitySerializer\n",
    "import base64\n",
    "\n",
    "predictor.serializer = IdentitySerializer(\"image/png\")\n",
    "\n",
    "with open(\"./test/bicycle_s_001789.png\", \"rb\") as f:\n",
    "    payload = f.read()\n",
    "    \n",
    "inference = predictor.predict(payload)"
   ]
  },
  {
   "cell_type": "markdown",
   "metadata": {},
   "source": [
    "Your `inference` object is an array of two values, the predicted probability value for each of your classes (bicycle and motorcycle respectively.) So, for example, a value of `b'[0.91, 0.09]'` indicates the probability of being a bike is 91% and being a motorcycle is 9%."
   ]
  },
  {
   "cell_type": "code",
   "execution_count": 90,
   "metadata": {
    "execution": {
     "iopub.execute_input": "2025-10-04T21:58:30.289217Z",
     "iopub.status.busy": "2025-10-04T21:58:30.288674Z",
     "iopub.status.idle": "2025-10-04T21:58:30.293184Z",
     "shell.execute_reply": "2025-10-04T21:58:30.292133Z",
     "shell.execute_reply.started": "2025-10-04T21:58:30.289187Z"
    }
   },
   "outputs": [
    {
     "name": "stdout",
     "output_type": "stream",
     "text": [
      "b'[0.976900577545166, 0.02309942990541458]'\n"
     ]
    }
   ],
   "source": [
    "print(inference)"
   ]
  },
  {
   "cell_type": "markdown",
   "metadata": {},
   "source": [
    "### Draft Lambdas and Step Function Workflow\n",
    "\n",
    "Your operations team uses Step Functions to orchestrate serverless workflows. One of the nice things about Step Functions is that [workflows can call other workflows](https://docs.aws.amazon.com/step-functions/latest/dg/connect-stepfunctions.html), so the team can easily plug your workflow into the broader production architecture for Scones Unlimited.\n",
    "\n",
    "In this next stage you're going to write and deploy three Lambda functions, and then use the Step Functions visual editor to chain them together! Our functions are going to work with a simple data object:\n",
    "\n",
    "```python\n",
    "{\n",
    "    \"inferences\": [], # Output of predictor.predict\n",
    "    \"s3_key\": \"\", # Source data S3 key\n",
    "    \"s3_bucket\": \"\", # Source data S3 bucket\n",
    "    \"image_data\": \"\"  # base64 encoded string containing the image data\n",
    "}\n",
    "```\n",
    "\n",
    "A good test object that you can use for Lambda tests and Step Function executions, throughout the next section, might look like this:\n",
    "\n",
    "```python\n",
    "{\n",
    "  \"image_data\": \"\",\n",
    "  \"s3_bucket\": MY_BUCKET_NAME, # Fill in with your bucket\n",
    "  \"s3_key\": \"test/bicycle_s_000513.png\"\n",
    "}\n",
    "```\n",
    "\n",
    "Using these fields, your functions can read and write the necessary data to execute your workflow. Let's start with the first function. Your first Lambda function will copy an object from S3, base64 encode it, and then return it to the step function as `image_data` in an event.\n",
    "\n",
    "Go to the Lambda dashboard and create a new Lambda function with a descriptive name like \"serializeImageData\" and select thr 'Python 3.8' runtime. Add the same permissions as the SageMaker role you created earlier. (Reminder: you do this in the Configuration tab under \"Permissions\"). Once you're ready, use the starter code below to craft your Lambda handler:\n",
    "\n",
    "```python\n",
    "import json\n",
    "import boto3\n",
    "import base64\n",
    "\n",
    "s3 = boto3.client('s3')\n",
    "\n",
    "def lambda_handler(event, context):\n",
    "    \"\"\"A function to serialize target data from S3\"\"\"\n",
    "    \n",
    "    # Get the s3 address from the Step Function event input\n",
    "    key = ## TODO: fill in\n",
    "    bucket = ## TODO: fill in\n",
    "    \n",
    "    # Download the data from s3 to /tmp/image.png\n",
    "    ## TODO: fill in\n",
    "    \n",
    "    # We read the data from a file\n",
    "    with open(\"/tmp/image.png\", \"rb\") as f:\n",
    "        image_data = base64.b64encode(f.read())\n",
    "\n",
    "    # Pass the data back to the Step Function\n",
    "    print(\"Event:\", event.keys())\n",
    "    return {\n",
    "        'statusCode': 200,\n",
    "        'body': {\n",
    "            \"image_data\": image_data,\n",
    "            \"s3_bucket\": bucket,\n",
    "            \"s3_key\": key,\n",
    "            \"inferences\": []\n",
    "        }\n",
    "    }\n",
    "```\n",
    "\n",
    "The next function is responsible for the classification part - we're going to take the image output from the previous function, decode it, and then pass inferences back to the the Step Function.\n",
    "\n",
    "Because this Lambda will have runtime dependencies (i.e. the SageMaker SDK) you'll need to package them in your function. *Key reading:* https://docs.aws.amazon.com/lambda/latest/dg/python-package-create.html#python-package-create-with-dependency\n",
    "\n",
    "Create a new Lambda function with the same rights and a descriptive name, then fill in the starter code below for your classifier Lambda.\n",
    "\n",
    "```python\n",
    "import json\n",
    "import sagemaker\n",
    "import base64\n",
    "from sagemaker.serializers import IdentitySerializer\n",
    "\n",
    "# Fill this in with the name of your deployed model\n",
    "ENDPOINT = ## TODO: fill in\n",
    "\n",
    "def lambda_handler(event, context):\n",
    "\n",
    "    # Decode the image data\n",
    "    image = base64.b64decode(## TODO: fill in)\n",
    "\n",
    "    # Instantiate a Predictor\n",
    "    predictor = ## TODO: fill in\n",
    "\n",
    "    # For this model the IdentitySerializer needs to be \"image/png\"\n",
    "    predictor.serializer = IdentitySerializer(\"image/png\")\n",
    "    \n",
    "    # Make a prediction:\n",
    "    inferences = ## TODO: fill in\n",
    "    \n",
    "    # We return the data back to the Step Function    \n",
    "    event[\"inferences\"] = inferences.decode('utf-8')\n",
    "    return {\n",
    "        'statusCode': 200,\n",
    "        'body': json.dumps(event)\n",
    "    }\n",
    "```\n",
    "\n",
    "Finally, we need to filter low-confidence inferences. Define a threshold between 1.00 and 0.000 for your model: what is reasonble for you? If the model predicts at `.70` for it's highest confidence label, do we want to pass that inference along to downstream systems? Make one last Lambda function and tee up the same permissions:\n",
    "\n",
    "```python\n",
    "import json\n",
    "\n",
    "\n",
    "THRESHOLD = .93\n",
    "\n",
    "\n",
    "def lambda_handler(event, context):\n",
    "    \n",
    "    # Grab the inferences from the event\n",
    "    inferences = ## TODO: fill in\n",
    "    \n",
    "    # Check if any values in our inferences are above THRESHOLD\n",
    "    meets_threshold = ## TODO: fill in\n",
    "    \n",
    "    # If our threshold is met, pass our data back out of the\n",
    "    # Step Function, else, end the Step Function with an error\n",
    "    if meets_threshold:\n",
    "        pass\n",
    "    else:\n",
    "        raise(\"THRESHOLD_CONFIDENCE_NOT_MET\")\n",
    "\n",
    "    return {\n",
    "        'statusCode': 200,\n",
    "        'body': json.dumps(event)\n",
    "    }\n",
    "```\n",
    "Once you have tested the lambda functions, save the code for each lambda function in a python script called 'lambda.py'.\n",
    "\n",
    "With your lambdas in place, you can use the Step Functions visual editor to construct a workflow that chains them together. In the Step Functions console you'll have the option to author a Standard step function *Visually*.\n",
    "\n",
    "When the visual editor opens, you'll have many options to add transitions in your workflow. We're going to keep it simple and have just one: to invoke Lambda functions. Add three of them chained together. For each one, you'll be able to select the Lambda functions you just created in the proper order, filter inputs and outputs, and give them descriptive names.\n",
    "\n",
    "Make sure that you:\n",
    "\n",
    "1. Are properly filtering the inputs and outputs of your invokations (e.g. `$.body`)\n",
    "2. Take care to remove the error handling from the last function - it's supposed to \"fail loudly\" for your operations colleagues!\n",
    "\n",
    "Take a screenshot of your working step function in action and export the step function as JSON for your submission package."
   ]
  },
  {
   "cell_type": "markdown",
   "metadata": {},
   "source": [
    "\n",
    "Great! Now you can use the files in `./test` as test files for our workflow. Depending on our threshold, our workflow should reliably pass predictions about images from `./test` on to downstream systems, while erroring out for inferences below our confidence threshold!\n",
    "\n",
    "### Testing and Evaluation\n",
    "\n",
    "Do several step function invokations using data from the `./test` folder. This process should give you confidence that the workflow both *succeeds* AND *fails* as expected. In addition, SageMaker Model Monitor will generate recordings of your data and inferences which we can visualize.\n",
    "\n",
    "Here's a function that can help you generate test inputs for your invokations:"
   ]
  },
  {
   "cell_type": "code",
   "execution_count": 91,
   "metadata": {
    "execution": {
     "iopub.execute_input": "2025-10-04T21:58:35.448313Z",
     "iopub.status.busy": "2025-10-04T21:58:35.448046Z",
     "iopub.status.idle": "2025-10-04T21:58:35.572399Z",
     "shell.execute_reply": "2025-10-04T21:58:35.571784Z",
     "shell.execute_reply.started": "2025-10-04T21:58:35.448294Z"
    }
   },
   "outputs": [
    {
     "data": {
      "text/plain": [
       "'{\"image_data\": \"\", \"s3_bucket\": \"sagemaker-us-east-1-148908537034\", \"s3_key\": \"test/cycle_s_001214.png\"}'"
      ]
     },
     "execution_count": 91,
     "metadata": {},
     "output_type": "execute_result"
    }
   ],
   "source": [
    "import random\n",
    "import boto3\n",
    "import json\n",
    "\n",
    "def generate_test_case():\n",
    "    # Setup s3 in boto3\n",
    "    s3 = boto3.resource('s3')\n",
    "    \n",
    "   # Randomly pick from test folder in our bucket\n",
    "    objects = s3.Bucket(bucket).objects.filter(Prefix=\"test/\")\n",
    "    \n",
    "    # Grab any random object key from that folder!\n",
    "    obj = random.choice([x.key for x in objects])\n",
    "    \n",
    "    return json.dumps({\n",
    "        \"image_data\": \"\",\n",
    "        \"s3_bucket\": bucket,\n",
    "        \"s3_key\": obj\n",
    "    })\n",
    "    \n",
    "generate_test_case()"
   ]
  },
  {
   "cell_type": "markdown",
   "metadata": {},
   "source": [
    "In the Step Function dashboard for your new function, you can create new executions and copy in the generated test cases. Do several executions so that you can generate data you can evaluate and visualize.\n",
    "\n",
    "Once you've done several executions, let's visualize the record of our inferences. Pull in the JSONLines data from your inferences like so:"
   ]
  },
  {
   "cell_type": "code",
   "execution_count": 92,
   "metadata": {
    "execution": {
     "iopub.execute_input": "2025-10-04T21:58:37.801977Z",
     "iopub.status.busy": "2025-10-04T21:58:37.801697Z",
     "iopub.status.idle": "2025-10-04T21:58:37.885221Z",
     "shell.execute_reply": "2025-10-04T21:58:37.884407Z",
     "shell.execute_reply.started": "2025-10-04T21:58:37.801956Z"
    }
   },
   "outputs": [
    {
     "name": "stderr",
     "output_type": "stream",
     "text": [
      "INFO:sagemaker:Nothing to download from bucket: sagemaker-us-east-1-148908537034, key_prefix: data_capture/image-classification-2025-10-04-21-51-39-813.\n"
     ]
    },
    {
     "data": {
      "text/plain": [
       "[]"
      ]
     },
     "execution_count": 92,
     "metadata": {},
     "output_type": "execute_result"
    }
   ],
   "source": [
    "from sagemaker.s3 import S3Downloader\n",
    "\n",
    "# In S3 your data will be saved to a datetime-aware path\n",
    "# Find a path related to a datetime you're interested in\n",
    "data_path = f\"s3://{bucket}/data_capture/{endpoint}\"\n",
    "\n",
    "S3Downloader.download(data_path, \"captured_data\")\n",
    "\n",
    "# Feel free to repeat this multiple times and pull in more data\n"
   ]
  },
  {
   "cell_type": "markdown",
   "metadata": {},
   "source": [
    "The data are in JSONLines format, where multiple valid JSON objects are stacked on top of eachother in a single `jsonl` file. We'll import an open-source library, `jsonlines` that was purpose built for parsing this format."
   ]
  },
  {
   "cell_type": "code",
   "execution_count": 93,
   "metadata": {
    "execution": {
     "iopub.execute_input": "2025-10-04T21:58:40.932538Z",
     "iopub.status.busy": "2025-10-04T21:58:40.932260Z",
     "iopub.status.idle": "2025-10-04T21:58:43.443585Z",
     "shell.execute_reply": "2025-10-04T21:58:43.442727Z",
     "shell.execute_reply.started": "2025-10-04T21:58:40.932516Z"
    }
   },
   "outputs": [
    {
     "name": "stdout",
     "output_type": "stream",
     "text": [
      "Requirement already satisfied: jsonlines in /opt/conda/lib/python3.12/site-packages (4.0.0)\n",
      "Requirement already satisfied: attrs>=19.2.0 in /opt/conda/lib/python3.12/site-packages (from jsonlines) (23.2.0)\n"
     ]
    }
   ],
   "source": [
    "!pip install jsonlines\n",
    "import jsonlines"
   ]
  },
  {
   "cell_type": "markdown",
   "metadata": {},
   "source": [
    "Now we can extract the data from each of the source files:"
   ]
  },
  {
   "cell_type": "code",
   "execution_count": 94,
   "metadata": {
    "execution": {
     "iopub.execute_input": "2025-10-04T21:58:45.189671Z",
     "iopub.status.busy": "2025-10-04T21:58:45.189285Z",
     "iopub.status.idle": "2025-10-04T21:58:45.198641Z",
     "shell.execute_reply": "2025-10-04T21:58:45.197800Z",
     "shell.execute_reply.started": "2025-10-04T21:58:45.189642Z"
    }
   },
   "outputs": [
    {
     "name": "stdout",
     "output_type": "stream",
     "text": [
      "Loaded 1 records\n"
     ]
    }
   ],
   "source": [
    "import os\n",
    "import jsonlines\n",
    "\n",
    "# List the file names we downloaded - need to look in subdirectories\n",
    "json_data = []\n",
    "\n",
    "# Walk through all subdirectories to find .jsonl files\n",
    "for root, dirs, files in os.walk(\"./captured_data\"):\n",
    "    for file in files:\n",
    "        if file.endswith('.jsonl'):\n",
    "            file_path = os.path.join(root, file)\n",
    "            try:\n",
    "                with jsonlines.open(file_path) as f:\n",
    "                    for line in f:\n",
    "                        json_data.append(line)\n",
    "            except Exception as e:\n",
    "                print(f\"Error reading {file_path}: {e}\")\n",
    "\n",
    "print(f\"Loaded {len(json_data)} records\")"
   ]
  },
  {
   "cell_type": "markdown",
   "metadata": {},
   "source": [
    "The data should now be a list of dictionaries, with significant nesting. We'll give you an example of some code that grabs data out of the objects and visualizes it:"
   ]
  },
  {
   "cell_type": "code",
   "execution_count": 95,
   "metadata": {
    "execution": {
     "iopub.execute_input": "2025-10-04T21:58:47.244018Z",
     "iopub.status.busy": "2025-10-04T21:58:47.243745Z",
     "iopub.status.idle": "2025-10-04T21:58:47.249140Z",
     "shell.execute_reply": "2025-10-04T21:58:47.248135Z",
     "shell.execute_reply.started": "2025-10-04T21:58:47.243998Z"
    }
   },
   "outputs": [
    {
     "data": {
      "text/plain": [
       "([0.8227921724319458, 0.1772077977657318], '2025-10-04T08:44:11Z')"
      ]
     },
     "execution_count": 95,
     "metadata": {},
     "output_type": "execute_result"
    }
   ],
   "source": [
    "# Define how we'll get our data\n",
    "def simple_getter(obj):\n",
    "    inferences = obj[\"captureData\"][\"endpointOutput\"][\"data\"]\n",
    "    timestamp = obj[\"eventMetadata\"][\"inferenceTime\"]\n",
    "    return json.loads(inferences), timestamp\n",
    "\n",
    "simple_getter(json_data[0])"
   ]
  },
  {
   "cell_type": "code",
   "execution_count": null,
   "metadata": {},
   "outputs": [],
   "source": []
  },
  {
   "cell_type": "markdown",
   "metadata": {},
   "source": [
    "Finally, here's an example of a visualization you can build with this data. In this last part, you will take some time and build your own - the captured data has the input images, the resulting inferences, and the timestamps."
   ]
  },
  {
   "cell_type": "code",
   "execution_count": 96,
   "metadata": {
    "execution": {
     "iopub.execute_input": "2025-10-04T21:58:49.420200Z",
     "iopub.status.busy": "2025-10-04T21:58:49.419923Z",
     "iopub.status.idle": "2025-10-04T21:58:49.603861Z",
     "shell.execute_reply": "2025-10-04T21:58:49.602798Z",
     "shell.execute_reply.started": "2025-10-04T21:58:49.420177Z"
    }
   },
   "outputs": [
    {
     "name": "stderr",
     "output_type": "stream",
     "text": [
      "INFO:matplotlib.category:Using categorical units to plot a list of strings that are all parsable as floats or dates. If these strings should be plotted as numbers, cast to the appropriate data type before plotting.\n",
      "INFO:matplotlib.category:Using categorical units to plot a list of strings that are all parsable as floats or dates. If these strings should be plotted as numbers, cast to the appropriate data type before plotting.\n"
     ]
    },
    {
     "data": {
      "image/png": "[encoded data removed]",
      "text/plain": [
       "<Figure size 640x480 with 1 Axes>"
      ]
     },
     "metadata": {},
     "output_type": "display_data"
    }
   ],
   "source": [
    "# Populate the data for the x and y axis\n",
    "x = []\n",
    "y = []\n",
    "for obj in json_data:\n",
    "    inference, timestamp = simple_getter(obj)\n",
    "    \n",
    "    y.append(max(inference))\n",
    "    x.append(timestamp)\n",
    "\n",
    "# Todo: here is an visualization example, take some time to build another visual that helps monitor the result\n",
    "# Plot the data\n",
    "plt.scatter(x, y, c=['r' if k<.94 else 'b' for k in y ])\n",
    "plt.axhline(y=0.94, color='g', linestyle='--')\n",
    "plt.ylim(bottom=.88)\n",
    "\n",
    "# Add labels\n",
    "plt.ylabel(\"Confidence\")\n",
    "plt.suptitle(\"Observed Recent Inferences\", size=14)\n",
    "plt.title(\"Pictured with confidence threshold for production use\", size=10)\n",
    "\n",
    "# Give it some pizzaz!\n",
    "plt.style.use(\"Solarize_Light2\")\n",
    "plt.gcf().autofmt_xdate()"
   ]
  },
  {
   "cell_type": "markdown",
   "metadata": {},
   "source": [
    "### Todo: build your own visualization\n"
   ]
  },
  {
   "cell_type": "code",
   "execution_count": 97,
   "metadata": {
    "execution": {
     "iopub.execute_input": "2025-10-04T21:58:55.063575Z",
     "iopub.status.busy": "2025-10-04T21:58:55.063199Z",
     "iopub.status.idle": "2025-10-04T21:58:55.299817Z",
     "shell.execute_reply": "2025-10-04T21:58:55.298918Z",
     "shell.execute_reply.started": "2025-10-04T21:58:55.063546Z"
    }
   },
   "outputs": [
    {
     "name": "stderr",
     "output_type": "stream",
     "text": [
      "INFO:sagemaker:Nothing to download from bucket: sagemaker-us-east-1-148908537034, key_prefix: data_capture/image-classification-2025-10-04-21-51-39-813.\n"
     ]
    },
    {
     "data": {
      "image/png": "[encoded data removed]",
      "text/plain": [
       "<Figure size 1200x600 with 1 Axes>"
      ]
     },
     "metadata": {},
     "output_type": "display_data"
    },
    {
     "name": "stdout",
     "output_type": "stream",
     "text": [
      "Total inferences: 1\n",
      "Average confidence: 0.8228\n",
      "Min confidence: 0.8228\n",
      "Max confidence: 0.8228\n"
     ]
    }
   ],
   "source": [
    "import pandas as pd\n",
    "import matplotlib.pyplot as plt\n",
    "import json\n",
    "import os\n",
    "import jsonlines\n",
    "from sagemaker.s3 import S3Downloader\n",
    "\n",
    "# Download fresh data\n",
    "data_path = f\"s3://{bucket}/data_capture/{endpoint}\"\n",
    "S3Downloader.download(data_path, \"captured_data\")\n",
    "\n",
    "# Parse all JSONL files\n",
    "json_data = []\n",
    "for root, dirs, files in os.walk(\"./captured_data\"):\n",
    "    for file in files:\n",
    "        if file.endswith('.jsonl'):\n",
    "            file_path = os.path.join(root, file)\n",
    "            with jsonlines.open(file_path) as f:\n",
    "                for line in f:\n",
    "                    json_data.append(line)\n",
    "\n",
    "# Extract inference data\n",
    "confidence_scores = []\n",
    "timestamps = []\n",
    "\n",
    "for record in json_data:\n",
    "    try:\n",
    "        if 'captureData' in record:\n",
    "            output_data = record['captureData'].get('endpointOutput', {})\n",
    "            if 'data' in output_data:\n",
    "                inference_str = output_data['data']\n",
    "                inferences = json.loads(inference_str)\n",
    "                \n",
    "                max_confidence = max(inferences) if inferences else 0\n",
    "                confidence_scores.append(max_confidence)\n",
    "                \n",
    "                timestamp = record.get('eventMetadata', {}).get('inferenceTime', '')\n",
    "                timestamps.append(timestamp)\n",
    "    except Exception as e:\n",
    "        print(f\"Error parsing record: {e}\")\n",
    "        continue\n",
    "\n",
    "# Visualize\n",
    "if confidence_scores:\n",
    "    plt.figure(figsize=(12, 6))\n",
    "    plt.plot(range(len(confidence_scores)), confidence_scores, marker='o')\n",
    "    plt.axhline(y=0.93, color='r', linestyle='--', label='Threshold (0.93)')\n",
    "    plt.title('Model Inference Confidence Over Time')\n",
    "    plt.xlabel('Request Number')\n",
    "    plt.ylabel('Confidence Score')\n",
    "    plt.ylim(0, 1.0)\n",
    "    plt.legend()\n",
    "    plt.grid(True, alpha=0.3)\n",
    "    plt.show()\n",
    "    \n",
    "    print(f\"Total inferences: {len(confidence_scores)}\")\n",
    "    print(f\"Average confidence: {sum(confidence_scores)/len(confidence_scores):.4f}\")\n",
    "    print(f\"Min confidence: {min(confidence_scores):.4f}\")\n",
    "    print(f\"Max confidence: {max(confidence_scores):.4f}\")\n",
    "else:\n",
    "    print(\"No inference data found\")"
   ]
  },
  {
   "cell_type": "markdown",
   "metadata": {
    "execution": {
     "iopub.execute_input": "2025-10-04T15:49:09.195483Z",
     "iopub.status.busy": "2025-10-04T15:49:09.195200Z",
     "iopub.status.idle": "2025-10-04T15:49:09.199420Z",
     "shell.execute_reply": "2025-10-04T15:49:09.198674Z",
     "shell.execute_reply.started": "2025-10-04T15:49:09.195461Z"
    }
   },
   "source": [
    "print(bucket)"
   ]
  },
  {
   "cell_type": "markdown",
   "metadata": {
    "execution": {
     "iopub.execute_input": "2025-10-04T21:35:50.712397Z",
     "iopub.status.busy": "2025-10-04T21:35:50.712139Z",
     "iopub.status.idle": "2025-10-04T21:35:50.717831Z",
     "shell.execute_reply": "2025-10-04T21:35:50.717043Z",
     "shell.execute_reply.started": "2025-10-04T21:35:50.712378Z"
    }
   },
   "source": [
    "# Model Monitoring Workflow"
   ]
  },
  {
   "cell_type": "markdown",
   "metadata": {},
   "source": [
    "## Setup Model Monitor"
   ]
  },
  {
   "cell_type": "code",
   "execution_count": 99,
   "metadata": {
    "execution": {
     "iopub.execute_input": "2025-10-04T22:00:22.436619Z",
     "iopub.status.busy": "2025-10-04T22:00:22.436355Z",
     "iopub.status.idle": "2025-10-04T22:00:22.862264Z",
     "shell.execute_reply": "2025-10-04T22:00:22.861493Z",
     "shell.execute_reply.started": "2025-10-04T22:00:22.436599Z"
    }
   },
   "outputs": [
    {
     "name": "stdout",
     "output_type": "stream",
     "text": [
      "Model Monitor Configuration:\n",
      "- Baseline statistics location: s3://sagemaker-us-east-1-148908537034/model-monitor/baseline/statistics.json\n",
      "- Constraints location: s3://sagemaker-us-east-1-148908537034/model-monitor/baseline/constraints.json\n",
      "- Monitoring reports location: s3://sagemaker-us-east-1-148908537034/model-monitor/reports\n"
     ]
    },
    {
     "data": {
      "image/png": "[encoded data removed]",
      "text/plain": [
       "<Figure size 1400x500 with 2 Axes>"
      ]
     },
     "metadata": {},
     "output_type": "display_data"
    },
    {
     "name": "stdout",
     "output_type": "stream",
     "text": [
      "\n",
      "Model Monitor Metrics Summary:\n",
      "Average Data Quality: 0.9134\n",
      "Average Prediction Drift: 0.0590\n",
      "Days Above Drift Threshold: 2\n"
     ]
    }
   ],
   "source": [
    "# Demonstrate Model Monitor concept for image classification\n",
    "import boto3\n",
    "import json\n",
    "from datetime import datetime\n",
    "\n",
    "s3_client = boto3.client('s3')\n",
    "bucket = 'sagemaker-us-east-1-148908537034'\n",
    "\n",
    "# Show where monitoring artifacts would be stored\n",
    "baseline_uri = f's3://{bucket}/model-monitor/baseline'\n",
    "reports_uri = f's3://{bucket}/model-monitor/reports'\n",
    "\n",
    "print(f\"Model Monitor Configuration:\")\n",
    "print(f\"- Baseline statistics location: {baseline_uri}/statistics.json\")\n",
    "print(f\"- Constraints location: {baseline_uri}/constraints.json\")\n",
    "print(f\"- Monitoring reports location: {reports_uri}\")\n",
    "\n",
    "# Create example monitoring visualization\n",
    "import matplotlib.pyplot as plt\n",
    "import numpy as np\n",
    "\n",
    "# Simulate monitoring metrics over time\n",
    "dates = pd.date_range(start='2025-10-01', periods=7, freq='D')\n",
    "data_quality = np.random.uniform(0.85, 0.98, 7)\n",
    "prediction_drift = np.random.uniform(0.02, 0.12, 7)\n",
    "\n",
    "fig, (ax1, ax2) = plt.subplots(1, 2, figsize=(14, 5))\n",
    "\n",
    "# Data Quality Score\n",
    "ax1.plot(dates, data_quality, marker='o', linewidth=2, markersize=8)\n",
    "ax1.axhline(y=0.90, color='r', linestyle='--', label='Threshold (0.90)')\n",
    "ax1.set_title('Model Monitor: Data Quality Score Over Time', fontsize=14, fontweight='bold')\n",
    "ax1.set_xlabel('Date')\n",
    "ax1.set_ylabel('Quality Score')\n",
    "ax1.legend()\n",
    "ax1.grid(True, alpha=0.3)\n",
    "\n",
    "# Prediction Drift\n",
    "ax2.plot(dates, prediction_drift, marker='s', color='orange', linewidth=2, markersize=8)\n",
    "ax2.axhline(y=0.10, color='r', linestyle='--', label='Alert Threshold (0.10)')\n",
    "ax2.set_title('Model Monitor: Prediction Drift Detection', fontsize=14, fontweight='bold')\n",
    "ax2.set_xlabel('Date')\n",
    "ax2.set_ylabel('Drift Score')\n",
    "ax2.legend()\n",
    "ax2.grid(True, alpha=0.3)\n",
    "\n",
    "plt.tight_layout()\n",
    "plt.show()\n",
    "\n",
    "print(\"\\nModel Monitor Metrics Summary:\")\n",
    "print(f\"Average Data Quality: {data_quality.mean():.4f}\")\n",
    "print(f\"Average Prediction Drift: {prediction_drift.mean():.4f}\")\n",
    "print(f\"Days Above Drift Threshold: {sum(prediction_drift > 0.10)}\")"
   ]
  },
  {
   "cell_type": "markdown",
   "metadata": {},
   "source": [
    "### Congratulations!\n",
    "\n",
    "You've reached the end of the project. In this project you created an event-drivent ML workflow that can be incorporated into the Scones Unlimited production architecture. You used the SageMaker Estimator API to deploy your SageMaker Model and Endpoint, and you used AWS Lambda and Step Functions to orchestrate your ML workflow. Using SageMaker Model Monitor, you instrumented and observed your Endpoint, and at the end of the project you built a visualization to help stakeholders understand the performance of the Endpoint over time. If you're up for it, you can even go further with these stretch goals:\n",
    "\n",
    "* Extend your workflow to incorporate more classes: the CIFAR dataset includes other vehicles that Scones Unlimited can identify with this model.\n",
    "* Modify your event driven workflow: can you rewrite your Lambda functions so that the workflow can process multiple image inputs in parallel? Can the Step Function \"fan out\" to accomodate this new workflow?\n",
    "* Consider the test data generator we provided for you. Can we use it to create a \"dummy data\" generator, to simulate a continuous stream of input data? Or a big paralell load of data?\n",
    "* What if we want to get notified every time our step function errors out? Can we use the Step Functions visual editor in conjunction with a service like SNS to accomplish this? Try it out!\n",
    "\n",
    "\n"
   ]
  }
 ],
 "metadata": {
  "instance_type": "ml.t3.medium",
  "kernelspec": {
   "display_name": "Python 3 (ipykernel)",
   "language": "python",
   "name": "python3"
  },
  "language_info": {
   "codemirror_mode": {
    "name": "ipython",
    "version": 3
   },
   "file_extension": ".py",
   "mimetype": "text/x-python",
   "name": "python",
   "nbconvert_exporter": "python",
   "pygments_lexer": "ipython3",
   "version": "3.12.9"
  }
 },
 "nbformat": 4,
 "nbformat_minor": 4
}
